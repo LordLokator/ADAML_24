{
 "cells": [
  {
   "cell_type": "code",
   "execution_count": 91,
   "metadata": {},
   "outputs": [
    {
     "name": "stdout",
     "output_type": "stream",
     "text": [
      "The autoreload extension is already loaded. To reload it, use:\n",
      "  %reload_ext autoreload\n"
     ]
    }
   ],
   "source": [
    "%load_ext autoreload\n",
    "%autoreload 2"
   ]
  },
  {
   "cell_type": "markdown",
   "metadata": {},
   "source": [
    "# Imports"
   ]
  },
  {
   "cell_type": "code",
   "execution_count": 92,
   "metadata": {},
   "outputs": [],
   "source": [
    "import numpy as np\n",
    "import pandas as pd\n",
    "\n",
    "import matplotlib.pyplot as plt\n",
    "\n",
    "from sklearn.preprocessing import LabelEncoder\n",
    "from sklearn.ensemble import RandomForestClassifier\n",
    "from sklearn.model_selection import train_test_split\n",
    "from sklearn.metrics import accuracy_score"
   ]
  },
  {
   "cell_type": "code",
   "execution_count": 93,
   "metadata": {},
   "outputs": [],
   "source": [
    "from dataloading import get_labeled_data"
   ]
  },
  {
   "cell_type": "markdown",
   "metadata": {},
   "source": [
    "# Load the data"
   ]
  },
  {
   "cell_type": "code",
   "execution_count": 94,
   "metadata": {},
   "outputs": [],
   "source": [
    "# file paths\n",
    "train_path = \"../data/preprocessed/augmented_vectors.csv\"\n",
    "scaled_train_path = \"../data/preprocessed/train_vectors_scaled.csv\"\n",
    "valid_path = \"../data/preprocessed/validation_vectors.csv\"\n",
    "scaled_valid_path = \"../data/preprocessed/validation_vectors_scaled.csv\""
   ]
  },
  {
   "cell_type": "code",
   "execution_count": 95,
   "metadata": {},
   "outputs": [],
   "source": [
    "# load the dataframes\n",
    "train_df = pd.read_csv(train_path)\n",
    "train_df_scaled = pd.read_csv(scaled_train_path)\n",
    "valid_df = pd.read_csv(valid_path)\n",
    "valid_df_scaled = pd.read_csv(scaled_valid_path)"
   ]
  },
  {
   "cell_type": "code",
   "execution_count": 96,
   "metadata": {},
   "outputs": [
    {
     "data": {
      "text/html": [
       "<div>\n",
       "<style scoped>\n",
       "    .dataframe tbody tr th:only-of-type {\n",
       "        vertical-align: middle;\n",
       "    }\n",
       "\n",
       "    .dataframe tbody tr th {\n",
       "        vertical-align: top;\n",
       "    }\n",
       "\n",
       "    .dataframe thead th {\n",
       "        text-align: right;\n",
       "    }\n",
       "</style>\n",
       "<table border=\"1\" class=\"dataframe\">\n",
       "  <thead>\n",
       "    <tr style=\"text-align: right;\">\n",
       "      <th></th>\n",
       "      <th>Port number</th>\n",
       "      <th>Packet speed</th>\n",
       "      <th>Data speed</th>\n",
       "      <th>Avg packet len</th>\n",
       "      <th>Source IP count</th>\n",
       "      <th>victim IP num</th>\n",
       "      <th>time_of_day</th>\n",
       "      <th>Significant flag</th>\n",
       "      <th>CLDAP</th>\n",
       "      <th>Generic UDP</th>\n",
       "      <th>...</th>\n",
       "      <th>IPv4 fragmentation</th>\n",
       "      <th>Suspicious traffic</th>\n",
       "      <th>SSDP</th>\n",
       "      <th>TCP Anomaly</th>\n",
       "      <th>SNMP</th>\n",
       "      <th>DNS</th>\n",
       "      <th>is_weekday</th>\n",
       "      <th>Type</th>\n",
       "      <th>is_synthetic</th>\n",
       "      <th>other_attack_codes</th>\n",
       "    </tr>\n",
       "  </thead>\n",
       "  <tbody>\n",
       "    <tr>\n",
       "      <th>0</th>\n",
       "      <td>-0.817317</td>\n",
       "      <td>-0.258647</td>\n",
       "      <td>-0.114203</td>\n",
       "      <td>0.752471</td>\n",
       "      <td>-0.179160</td>\n",
       "      <td>-0.604654</td>\n",
       "      <td>0.597073</td>\n",
       "      <td>0</td>\n",
       "      <td>0</td>\n",
       "      <td>0</td>\n",
       "      <td>...</td>\n",
       "      <td>0</td>\n",
       "      <td>0</td>\n",
       "      <td>0</td>\n",
       "      <td>0</td>\n",
       "      <td>0</td>\n",
       "      <td>0</td>\n",
       "      <td>1</td>\n",
       "      <td>Normal traffic</td>\n",
       "      <td>False</td>\n",
       "      <td>0</td>\n",
       "    </tr>\n",
       "    <tr>\n",
       "      <th>1</th>\n",
       "      <td>-0.817317</td>\n",
       "      <td>-0.195674</td>\n",
       "      <td>0.024471</td>\n",
       "      <td>0.978049</td>\n",
       "      <td>-0.191742</td>\n",
       "      <td>-0.604474</td>\n",
       "      <td>0.670414</td>\n",
       "      <td>0</td>\n",
       "      <td>0</td>\n",
       "      <td>0</td>\n",
       "      <td>...</td>\n",
       "      <td>0</td>\n",
       "      <td>0</td>\n",
       "      <td>0</td>\n",
       "      <td>0</td>\n",
       "      <td>0</td>\n",
       "      <td>0</td>\n",
       "      <td>1</td>\n",
       "      <td>Normal traffic</td>\n",
       "      <td>False</td>\n",
       "      <td>0</td>\n",
       "    </tr>\n",
       "    <tr>\n",
       "      <th>2</th>\n",
       "      <td>-0.941431</td>\n",
       "      <td>-0.225965</td>\n",
       "      <td>-0.065259</td>\n",
       "      <td>0.781814</td>\n",
       "      <td>-0.191742</td>\n",
       "      <td>-0.604294</td>\n",
       "      <td>0.680810</td>\n",
       "      <td>0</td>\n",
       "      <td>0</td>\n",
       "      <td>0</td>\n",
       "      <td>...</td>\n",
       "      <td>0</td>\n",
       "      <td>0</td>\n",
       "      <td>0</td>\n",
       "      <td>0</td>\n",
       "      <td>0</td>\n",
       "      <td>0</td>\n",
       "      <td>1</td>\n",
       "      <td>Normal traffic</td>\n",
       "      <td>False</td>\n",
       "      <td>0</td>\n",
       "    </tr>\n",
       "    <tr>\n",
       "      <th>3</th>\n",
       "      <td>-0.941431</td>\n",
       "      <td>-0.178138</td>\n",
       "      <td>-0.008159</td>\n",
       "      <td>0.781814</td>\n",
       "      <td>-0.191742</td>\n",
       "      <td>-0.604294</td>\n",
       "      <td>0.680854</td>\n",
       "      <td>0</td>\n",
       "      <td>0</td>\n",
       "      <td>0</td>\n",
       "      <td>...</td>\n",
       "      <td>0</td>\n",
       "      <td>0</td>\n",
       "      <td>0</td>\n",
       "      <td>0</td>\n",
       "      <td>0</td>\n",
       "      <td>0</td>\n",
       "      <td>1</td>\n",
       "      <td>Normal traffic</td>\n",
       "      <td>False</td>\n",
       "      <td>0</td>\n",
       "    </tr>\n",
       "    <tr>\n",
       "      <th>4</th>\n",
       "      <td>-0.817317</td>\n",
       "      <td>-0.227559</td>\n",
       "      <td>-0.016316</td>\n",
       "      <td>0.941370</td>\n",
       "      <td>-0.191742</td>\n",
       "      <td>-0.604474</td>\n",
       "      <td>0.697654</td>\n",
       "      <td>0</td>\n",
       "      <td>0</td>\n",
       "      <td>0</td>\n",
       "      <td>...</td>\n",
       "      <td>0</td>\n",
       "      <td>0</td>\n",
       "      <td>0</td>\n",
       "      <td>0</td>\n",
       "      <td>0</td>\n",
       "      <td>0</td>\n",
       "      <td>1</td>\n",
       "      <td>Normal traffic</td>\n",
       "      <td>False</td>\n",
       "      <td>0</td>\n",
       "    </tr>\n",
       "  </tbody>\n",
       "</table>\n",
       "<p>5 rows × 26 columns</p>\n",
       "</div>"
      ],
      "text/plain": [
       "   Port number  Packet speed  Data speed  Avg packet len  Source IP count  \\\n",
       "0    -0.817317     -0.258647   -0.114203        0.752471        -0.179160   \n",
       "1    -0.817317     -0.195674    0.024471        0.978049        -0.191742   \n",
       "2    -0.941431     -0.225965   -0.065259        0.781814        -0.191742   \n",
       "3    -0.941431     -0.178138   -0.008159        0.781814        -0.191742   \n",
       "4    -0.817317     -0.227559   -0.016316        0.941370        -0.191742   \n",
       "\n",
       "   victim IP num  time_of_day  Significant flag  CLDAP  Generic UDP  ...  \\\n",
       "0      -0.604654     0.597073                 0      0            0  ...   \n",
       "1      -0.604474     0.670414                 0      0            0  ...   \n",
       "2      -0.604294     0.680810                 0      0            0  ...   \n",
       "3      -0.604294     0.680854                 0      0            0  ...   \n",
       "4      -0.604474     0.697654                 0      0            0  ...   \n",
       "\n",
       "   IPv4 fragmentation  Suspicious traffic  SSDP  TCP Anomaly  SNMP  DNS  \\\n",
       "0                   0                   0     0            0     0    0   \n",
       "1                   0                   0     0            0     0    0   \n",
       "2                   0                   0     0            0     0    0   \n",
       "3                   0                   0     0            0     0    0   \n",
       "4                   0                   0     0            0     0    0   \n",
       "\n",
       "   is_weekday            Type  is_synthetic  other_attack_codes  \n",
       "0           1  Normal traffic         False                   0  \n",
       "1           1  Normal traffic         False                   0  \n",
       "2           1  Normal traffic         False                   0  \n",
       "3           1  Normal traffic         False                   0  \n",
       "4           1  Normal traffic         False                   0  \n",
       "\n",
       "[5 rows x 26 columns]"
      ]
     },
     "execution_count": 96,
     "metadata": {},
     "output_type": "execute_result"
    }
   ],
   "source": [
    "# using the scaled dataframe\n",
    "train_df_scaled.head()"
   ]
  },
  {
   "cell_type": "code",
   "execution_count": 97,
   "metadata": {},
   "outputs": [],
   "source": [
    "# get target features\n",
    "train_df_scaled = train_df_scaled[train_df_scaled['is_synthetic'] == 0]\n",
    "data_df = train_df_scaled.drop(columns=['is_synthetic','Type'])\n",
    "target_df = train_df_scaled['Type']\n",
    "\n",
    "# encode target labels\n",
    "target_label_encoder = LabelEncoder()\n",
    "target_label_encoder.fit(target_df)\n",
    "target_df = target_label_encoder.transform(target_df)\n",
    "\n",
    "X = data_df.to_numpy()\n",
    "y = target_df"
   ]
  },
  {
   "cell_type": "code",
   "execution_count": 98,
   "metadata": {},
   "outputs": [],
   "source": [
    "# train - test split\n",
    "X_train, X_test, y_train, y_test = train_test_split(X, y, test_size=0.2, random_state=42)"
   ]
  },
  {
   "cell_type": "code",
   "execution_count": 99,
   "metadata": {},
   "outputs": [
    {
     "name": "stdout",
     "output_type": "stream",
     "text": [
      "Accuracy: 0.9492708537531216\n"
     ]
    }
   ],
   "source": [
    "# Initialize RandomForestClassifier\n",
    "rf_classifier = RandomForestClassifier(n_estimators=100, random_state=42)\n",
    "\n",
    "# Train the classifier\n",
    "rf_classifier.fit(X_train, y_train)\n",
    "\n",
    "# Predict on the testing data\n",
    "y_pred = rf_classifier.predict(X_test)\n",
    "\n",
    "# Evaluate the model\n",
    "accuracy = accuracy_score(y_test, y_pred)\n",
    "print(\"Accuracy:\", accuracy)"
   ]
  },
  {
   "cell_type": "code",
   "execution_count": 100,
   "metadata": {},
   "outputs": [
    {
     "name": "stdout",
     "output_type": "stream",
     "text": [
      "                    precision    recall  f1-score   support\n",
      "\n",
      "       DDoS attack       0.97      0.99      0.98     15796\n",
      "    Normal traffic       0.95      0.99      0.97     89883\n",
      "Suspicious traffic       0.86      0.59      0.70     11650\n",
      "\n",
      "          accuracy                           0.95    117329\n",
      "         macro avg       0.93      0.85      0.88    117329\n",
      "      weighted avg       0.95      0.95      0.94    117329\n",
      "\n"
     ]
    }
   ],
   "source": [
    "from sklearn.metrics import classification_report\n",
    "\n",
    "target_names = target_label_encoder.inverse_transform([0,1,2])\n",
    "\n",
    "print(classification_report(y_test, y_pred, target_names=target_names))"
   ]
  },
  {
   "cell_type": "code",
   "execution_count": 101,
   "metadata": {},
   "outputs": [],
   "source": [
    "# get target features\n",
    "data_df = valid_df_scaled.drop(columns=['Type'])\n",
    "target_df = valid_df_scaled['Type']\n",
    "\n",
    "# encode target labels\n",
    "target_df = target_label_encoder.transform(target_df)\n",
    "\n",
    "X_valid = data_df.to_numpy()\n",
    "y_valid = target_df"
   ]
  },
  {
   "cell_type": "code",
   "execution_count": 102,
   "metadata": {},
   "outputs": [
    {
     "data": {
      "text/plain": [
       "(1247266,)"
      ]
     },
     "execution_count": 102,
     "metadata": {},
     "output_type": "execute_result"
    }
   ],
   "source": [
    "y_valid.shape"
   ]
  },
  {
   "cell_type": "code",
   "execution_count": 103,
   "metadata": {},
   "outputs": [
    {
     "name": "stdout",
     "output_type": "stream",
     "text": [
      "Accuracy: 0.24462785003359347\n"
     ]
    }
   ],
   "source": [
    "y_pred = rf_classifier.predict(X_valid)\n",
    "\n",
    "# Evaluate the model\n",
    "accuracy = accuracy_score(y_valid, y_pred)\n",
    "print(\"Accuracy:\", accuracy)"
   ]
  },
  {
   "cell_type": "code",
   "execution_count": 104,
   "metadata": {},
   "outputs": [
    {
     "name": "stderr",
     "output_type": "stream",
     "text": [
      "c:\\Users\\Maya\\.conda\\envs\\ddos\\lib\\site-packages\\sklearn\\metrics\\_classification.py:1344: UndefinedMetricWarning: Precision and F-score are ill-defined and being set to 0.0 in labels with no predicted samples. Use `zero_division` parameter to control this behavior.\n",
      "  _warn_prf(average, modifier, msg_start, len(result))\n",
      "c:\\Users\\Maya\\.conda\\envs\\ddos\\lib\\site-packages\\sklearn\\metrics\\_classification.py:1344: UndefinedMetricWarning: Precision and F-score are ill-defined and being set to 0.0 in labels with no predicted samples. Use `zero_division` parameter to control this behavior.\n",
      "  _warn_prf(average, modifier, msg_start, len(result))\n"
     ]
    },
    {
     "name": "stdout",
     "output_type": "stream",
     "text": [
      "                    precision    recall  f1-score   support\n",
      "\n",
      "       DDoS attack       0.24      1.00      0.39    305167\n",
      "    Normal traffic       0.00      0.00      0.00    919196\n",
      "Suspicious traffic       0.00      0.00      0.00     22903\n",
      "\n",
      "          accuracy                           0.24   1247266\n",
      "         macro avg       0.08      0.33      0.13   1247266\n",
      "      weighted avg       0.06      0.24      0.10   1247266\n",
      "\n"
     ]
    },
    {
     "name": "stderr",
     "output_type": "stream",
     "text": [
      "c:\\Users\\Maya\\.conda\\envs\\ddos\\lib\\site-packages\\sklearn\\metrics\\_classification.py:1344: UndefinedMetricWarning: Precision and F-score are ill-defined and being set to 0.0 in labels with no predicted samples. Use `zero_division` parameter to control this behavior.\n",
      "  _warn_prf(average, modifier, msg_start, len(result))\n"
     ]
    }
   ],
   "source": [
    "print(classification_report(y_valid, y_pred, target_names=target_names))"
   ]
  }
 ],
 "metadata": {
  "kernelspec": {
   "display_name": "ddos",
   "language": "python",
   "name": "python3"
  },
  "language_info": {
   "codemirror_mode": {
    "name": "ipython",
    "version": 3
   },
   "file_extension": ".py",
   "mimetype": "text/x-python",
   "name": "python",
   "nbconvert_exporter": "python",
   "pygments_lexer": "ipython3",
   "version": "3.10.12"
  }
 },
 "nbformat": 4,
 "nbformat_minor": 2
}
