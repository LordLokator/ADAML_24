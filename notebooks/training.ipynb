{
 "cells": [
  {
   "cell_type": "code",
   "execution_count": 1,
   "metadata": {},
   "outputs": [],
   "source": [
    "%load_ext autoreload\n",
    "%autoreload 2"
   ]
  },
  {
   "cell_type": "markdown",
   "metadata": {},
   "source": [
    "# Imports"
   ]
  },
  {
   "cell_type": "code",
   "execution_count": 12,
   "metadata": {},
   "outputs": [],
   "source": [
    "import numpy as np\n",
    "import pandas as pd\n",
    "\n",
    "import matplotlib.pyplot as plt\n",
    "import seaborn as sns\n",
    "\n",
    "from sklearn.preprocessing import LabelEncoder\n",
    "from sklearn.ensemble import RandomForestClassifier\n",
    "from sklearn.model_selection import train_test_split\n",
    "from sklearn.metrics import accuracy_score, confusion_matrix"
   ]
  },
  {
   "cell_type": "code",
   "execution_count": 3,
   "metadata": {},
   "outputs": [],
   "source": [
    "from dataloading import get_labeled_data"
   ]
  },
  {
   "cell_type": "markdown",
   "metadata": {},
   "source": [
    "# Load the data"
   ]
  },
  {
   "cell_type": "code",
   "execution_count": 4,
   "metadata": {},
   "outputs": [],
   "source": [
    "# file paths\n",
    "train_path = \"../data/preprocessed/train_vectors.csv\"\n",
    "scaled_train_path = \"../data/preprocessed/train_vectors_scaled.csv\""
   ]
  },
  {
   "cell_type": "code",
   "execution_count": 5,
   "metadata": {},
   "outputs": [],
   "source": [
    "# load the dataframes\n",
    "train_df = pd.read_csv(train_path)\n",
    "train_df_scaled = pd.read_csv(scaled_train_path)"
   ]
  },
  {
   "cell_type": "code",
   "execution_count": 6,
   "metadata": {},
   "outputs": [
    {
     "data": {
      "text/html": [
       "<div>\n",
       "<style scoped>\n",
       "    .dataframe tbody tr th:only-of-type {\n",
       "        vertical-align: middle;\n",
       "    }\n",
       "\n",
       "    .dataframe tbody tr th {\n",
       "        vertical-align: top;\n",
       "    }\n",
       "\n",
       "    .dataframe thead th {\n",
       "        text-align: right;\n",
       "    }\n",
       "</style>\n",
       "<table border=\"1\" class=\"dataframe\">\n",
       "  <thead>\n",
       "    <tr style=\"text-align: right;\">\n",
       "      <th></th>\n",
       "      <th>Packet speed</th>\n",
       "      <th>Data speed</th>\n",
       "      <th>Avg packet len</th>\n",
       "      <th>Source IP count</th>\n",
       "      <th>time_of_day</th>\n",
       "      <th>Attack duration</th>\n",
       "      <th>Significant flag</th>\n",
       "      <th>RIP</th>\n",
       "      <th>SYN Attack</th>\n",
       "      <th>NTP</th>\n",
       "      <th>...</th>\n",
       "      <th>CoAP</th>\n",
       "      <th>CHARGEN</th>\n",
       "      <th>DNS</th>\n",
       "      <th>High volume traffic</th>\n",
       "      <th>is_weekday</th>\n",
       "      <th>Type</th>\n",
       "      <th>is_synthetic</th>\n",
       "      <th>Port number</th>\n",
       "      <th>victim IP num</th>\n",
       "      <th>other_attack_codes</th>\n",
       "    </tr>\n",
       "  </thead>\n",
       "  <tbody>\n",
       "    <tr>\n",
       "      <th>0</th>\n",
       "      <td>-0.219829</td>\n",
       "      <td>-0.140172</td>\n",
       "      <td>0.572461</td>\n",
       "      <td>-0.096772</td>\n",
       "      <td>0.742175</td>\n",
       "      <td>1</td>\n",
       "      <td>0</td>\n",
       "      <td>0</td>\n",
       "      <td>0</td>\n",
       "      <td>0</td>\n",
       "      <td>...</td>\n",
       "      <td>0</td>\n",
       "      <td>0</td>\n",
       "      <td>0</td>\n",
       "      <td>1</td>\n",
       "      <td>1</td>\n",
       "      <td>Normal traffic</td>\n",
       "      <td>False</td>\n",
       "      <td>-0.512798</td>\n",
       "      <td>-1.195904</td>\n",
       "      <td>0</td>\n",
       "    </tr>\n",
       "    <tr>\n",
       "      <th>1</th>\n",
       "      <td>-0.183235</td>\n",
       "      <td>-0.051424</td>\n",
       "      <td>0.805090</td>\n",
       "      <td>-0.105015</td>\n",
       "      <td>0.811677</td>\n",
       "      <td>0</td>\n",
       "      <td>0</td>\n",
       "      <td>0</td>\n",
       "      <td>0</td>\n",
       "      <td>0</td>\n",
       "      <td>...</td>\n",
       "      <td>0</td>\n",
       "      <td>0</td>\n",
       "      <td>0</td>\n",
       "      <td>1</td>\n",
       "      <td>1</td>\n",
       "      <td>Normal traffic</td>\n",
       "      <td>False</td>\n",
       "      <td>-0.512798</td>\n",
       "      <td>-1.195870</td>\n",
       "      <td>0</td>\n",
       "    </tr>\n",
       "    <tr>\n",
       "      <th>2</th>\n",
       "      <td>-0.200837</td>\n",
       "      <td>-0.108849</td>\n",
       "      <td>0.602722</td>\n",
       "      <td>-0.105015</td>\n",
       "      <td>0.821528</td>\n",
       "      <td>1</td>\n",
       "      <td>0</td>\n",
       "      <td>0</td>\n",
       "      <td>0</td>\n",
       "      <td>0</td>\n",
       "      <td>...</td>\n",
       "      <td>0</td>\n",
       "      <td>0</td>\n",
       "      <td>0</td>\n",
       "      <td>1</td>\n",
       "      <td>1</td>\n",
       "      <td>Normal traffic</td>\n",
       "      <td>False</td>\n",
       "      <td>-0.654663</td>\n",
       "      <td>-1.195836</td>\n",
       "      <td>0</td>\n",
       "    </tr>\n",
       "    <tr>\n",
       "      <th>3</th>\n",
       "      <td>-0.173044</td>\n",
       "      <td>-0.072306</td>\n",
       "      <td>0.602722</td>\n",
       "      <td>-0.105015</td>\n",
       "      <td>0.821570</td>\n",
       "      <td>1</td>\n",
       "      <td>0</td>\n",
       "      <td>0</td>\n",
       "      <td>0</td>\n",
       "      <td>0</td>\n",
       "      <td>...</td>\n",
       "      <td>0</td>\n",
       "      <td>0</td>\n",
       "      <td>0</td>\n",
       "      <td>1</td>\n",
       "      <td>1</td>\n",
       "      <td>Normal traffic</td>\n",
       "      <td>False</td>\n",
       "      <td>-0.654663</td>\n",
       "      <td>-1.195836</td>\n",
       "      <td>0</td>\n",
       "    </tr>\n",
       "    <tr>\n",
       "      <th>4</th>\n",
       "      <td>-0.201764</td>\n",
       "      <td>-0.077527</td>\n",
       "      <td>0.767264</td>\n",
       "      <td>-0.105015</td>\n",
       "      <td>0.837491</td>\n",
       "      <td>1</td>\n",
       "      <td>0</td>\n",
       "      <td>0</td>\n",
       "      <td>0</td>\n",
       "      <td>0</td>\n",
       "      <td>...</td>\n",
       "      <td>0</td>\n",
       "      <td>0</td>\n",
       "      <td>0</td>\n",
       "      <td>1</td>\n",
       "      <td>1</td>\n",
       "      <td>Normal traffic</td>\n",
       "      <td>False</td>\n",
       "      <td>-0.512798</td>\n",
       "      <td>-1.195870</td>\n",
       "      <td>0</td>\n",
       "    </tr>\n",
       "  </tbody>\n",
       "</table>\n",
       "<p>5 rows × 32 columns</p>\n",
       "</div>"
      ],
      "text/plain": [
       "   Packet speed  Data speed  Avg packet len  Source IP count  time_of_day  \\\n",
       "0     -0.219829   -0.140172        0.572461        -0.096772     0.742175   \n",
       "1     -0.183235   -0.051424        0.805090        -0.105015     0.811677   \n",
       "2     -0.200837   -0.108849        0.602722        -0.105015     0.821528   \n",
       "3     -0.173044   -0.072306        0.602722        -0.105015     0.821570   \n",
       "4     -0.201764   -0.077527        0.767264        -0.105015     0.837491   \n",
       "\n",
       "   Attack duration  Significant flag  RIP  SYN Attack  NTP  ...  CoAP  \\\n",
       "0                1                 0    0           0    0  ...     0   \n",
       "1                0                 0    0           0    0  ...     0   \n",
       "2                1                 0    0           0    0  ...     0   \n",
       "3                1                 0    0           0    0  ...     0   \n",
       "4                1                 0    0           0    0  ...     0   \n",
       "\n",
       "   CHARGEN  DNS  High volume traffic  is_weekday            Type  \\\n",
       "0        0    0                    1           1  Normal traffic   \n",
       "1        0    0                    1           1  Normal traffic   \n",
       "2        0    0                    1           1  Normal traffic   \n",
       "3        0    0                    1           1  Normal traffic   \n",
       "4        0    0                    1           1  Normal traffic   \n",
       "\n",
       "   is_synthetic  Port number  victim IP num  other_attack_codes  \n",
       "0         False    -0.512798      -1.195904                   0  \n",
       "1         False    -0.512798      -1.195870                   0  \n",
       "2         False    -0.654663      -1.195836                   0  \n",
       "3         False    -0.654663      -1.195836                   0  \n",
       "4         False    -0.512798      -1.195870                   0  \n",
       "\n",
       "[5 rows x 32 columns]"
      ]
     },
     "execution_count": 6,
     "metadata": {},
     "output_type": "execute_result"
    }
   ],
   "source": [
    "# using the scaled dataframe\n",
    "train_df_scaled.head()"
   ]
  },
  {
   "cell_type": "code",
   "execution_count": 7,
   "metadata": {},
   "outputs": [],
   "source": [
    "# get target features\n",
    "#train_df_scaled = train_df_scaled[train_df_scaled['is_synthetic'] == False]\n",
    "data_df = train_df_scaled.drop(columns=['is_synthetic','Type'])\n",
    "data_df = data_df.reindex(sorted(data_df.columns), axis=1)\n",
    "target_df = train_df_scaled['Type']\n",
    "\n",
    "# encode target labels\n",
    "target_label_encoder = LabelEncoder()\n",
    "target_label_encoder.fit(target_df)\n",
    "target_df = target_label_encoder.transform(target_df)\n",
    "\n",
    "X = data_df.to_numpy()\n",
    "y = target_df"
   ]
  },
  {
   "cell_type": "code",
   "execution_count": 8,
   "metadata": {},
   "outputs": [],
   "source": [
    "# train - test split\n",
    "X_train, X_test, y_train, y_test = train_test_split(X, y, test_size=0.2, random_state=42)"
   ]
  },
  {
   "cell_type": "code",
   "execution_count": 9,
   "metadata": {},
   "outputs": [
    {
     "name": "stdout",
     "output_type": "stream",
     "text": [
      "Accuracy: 0.9921288738914336\n"
     ]
    }
   ],
   "source": [
    "# Initialize RandomForestClassifier\n",
    "rf_classifier = RandomForestClassifier(n_estimators=100, random_state=42)\n",
    "\n",
    "# Train the classifier\n",
    "rf_classifier.fit(X_train, y_train)\n",
    "\n",
    "# Predict on the testing data\n",
    "y_pred = rf_classifier.predict(X_test)\n",
    "\n",
    "# Evaluate the model\n",
    "accuracy = accuracy_score(y_test, y_pred)\n",
    "print(\"Accuracy:\", accuracy)"
   ]
  },
  {
   "cell_type": "code",
   "execution_count": 10,
   "metadata": {},
   "outputs": [
    {
     "name": "stdout",
     "output_type": "stream",
     "text": [
      "                    precision    recall  f1-score   support\n",
      "\n",
      "       DDoS attack       0.99      0.99      0.99    191347\n",
      "    Normal traffic       0.99      0.99      0.99    273987\n",
      "Suspicious traffic       0.99      0.99      0.99    191370\n",
      "\n",
      "          accuracy                           0.99    656704\n",
      "         macro avg       0.99      0.99      0.99    656704\n",
      "      weighted avg       0.99      0.99      0.99    656704\n",
      "\n"
     ]
    }
   ],
   "source": [
    "from sklearn.metrics import classification_report\n",
    "# Predict on the testing data\n",
    "y_pred = rf_classifier.predict(X_test)\n",
    "\n",
    "target_names = target_label_encoder.inverse_transform([0,1,2])\n",
    "\n",
    "print(classification_report(y_test, y_pred, target_names=target_names))"
   ]
  },
  {
   "cell_type": "code",
   "execution_count": 13,
   "metadata": {},
   "outputs": [
    {
     "data": {
      "image/png": "[encoded data removed]",
      "text/plain": [
       "<Figure size 720x720 with 2 Axes>"
      ]
     },
     "metadata": {
      "needs_background": "light"
     },
     "output_type": "display_data"
    }
   ],
   "source": [
    "cf_matrix = confusion_matrix(y_test, y_pred)\n",
    "\n",
    "fig = plt.figure(figsize=(10,10))\n",
    "\n",
    "class_names = target_label_encoder.inverse_transform([0,1,2])\n",
    "\n",
    "ax = sns.heatmap(cf_matrix, annot=True, cmap='Blues',fmt = 'd', xticklabels=class_names, yticklabels=class_names)\n",
    "\n",
    "ax.set_title('Confusion Matrix\\n\\n')\n",
    "ax.set_xlabel('\\nPredicted Label')\n",
    "ax.set_ylabel('Actual Label')\n",
    "\n",
    "## Display the visualization of the Confusion Matrix.\n",
    "plt.show()"
   ]
  },
  {
   "cell_type": "markdown",
   "metadata": {},
   "source": [
    "# Eval"
   ]
  },
  {
   "cell_type": "code",
   "execution_count": 14,
   "metadata": {},
   "outputs": [],
   "source": [
    "test_path = \"../data/preprocessed/test_vectors_scaled.csv\"\n",
    "gen_path = \"../data/preprocessed/generalisation_vectors_scaled.csv\"\n",
    "\n",
    "test_df = pd.read_csv(test_path)\n",
    "gen_df = pd.read_csv(gen_path)"
   ]
  },
  {
   "cell_type": "code",
   "execution_count": 15,
   "metadata": {},
   "outputs": [],
   "source": [
    "def preprocess(df, label_encoder = None):\n",
    "    # get target features\n",
    "    data_df = df.drop(columns=['Type'])\n",
    "    if \"is_synthetic\" in data_df.columns:\n",
    "        data_df.drop(columns=['is_synthetic'], inplace = True)\n",
    "    data_df = data_df.reindex(sorted(data_df.columns), axis=1)\n",
    "    target_df = df['Type']\n",
    "\n",
    "    # encode target labels\n",
    "    if label_encoder is None:\n",
    "        label_encoder = LabelEncoder()\n",
    "        label_encoder.fit(target_df)\n",
    "    target_df = label_encoder.transform(target_df)\n",
    "\n",
    "    X = data_df.to_numpy()\n",
    "    y = target_df\n",
    "\n",
    "    return X, y, label_encoder"
   ]
  },
  {
   "cell_type": "code",
   "execution_count": 17,
   "metadata": {},
   "outputs": [],
   "source": [
    "# preprocess the datasets\n",
    "X_test, y_test, _ =  preprocess(test_df, label_encoder=target_label_encoder)\n",
    "X_gen, y_gen, _ =  preprocess(gen_df, label_encoder=target_label_encoder)"
   ]
  },
  {
   "cell_type": "code",
   "execution_count": 18,
   "metadata": {},
   "outputs": [
    {
     "name": "stdout",
     "output_type": "stream",
     "text": [
      "(1233449, 30) (2446687, 30)\n"
     ]
    }
   ],
   "source": [
    "print(X_test.shape, X_gen.shape)"
   ]
  },
  {
   "cell_type": "code",
   "execution_count": 19,
   "metadata": {},
   "outputs": [
    {
     "name": "stdout",
     "output_type": "stream",
     "text": [
      "Accuracy: 0.724499351006811\n"
     ]
    },
    {
     "data": {
      "image/png": "[encoded data removed]",
      "text/plain": [
       "<Figure size 432x288 with 2 Axes>"
      ]
     },
     "metadata": {
      "needs_background": "light"
     },
     "output_type": "display_data"
    }
   ],
   "source": [
    "# Make predictions on the test data\n",
    "y_pred = rf_classifier.predict(X_test)\n",
    "\n",
    "# Calculate accuracy of the model\n",
    "accuracy = accuracy_score(y_test, y_pred)\n",
    "print(\"Accuracy:\", accuracy)\n",
    "\n",
    "cf_matrix = confusion_matrix(y_test, y_pred)\n",
    "\n",
    "class_names = target_label_encoder.inverse_transform([0,1,2])\n",
    "\n",
    "ax = sns.heatmap(cf_matrix, annot=True, cmap='Blues',fmt = 'd', xticklabels=class_names, yticklabels=class_names)\n",
    "\n",
    "ax.set_title('Confusion Matrix\\n\\n')\n",
    "ax.set_xlabel('\\nPredicted Label')\n",
    "ax.set_ylabel('Actual Label')\n",
    "\n",
    "## Display the visualization of the Confusion Matrix.\n",
    "plt.show()"
   ]
  },
  {
   "cell_type": "code",
   "execution_count": 20,
   "metadata": {},
   "outputs": [
    {
     "name": "stdout",
     "output_type": "stream",
     "text": [
      "Accuracy: 0.46900236932635847\n"
     ]
    },
    {
     "data": {
      "image/png": "[encoded data removed]",
      "text/plain": [
       "<Figure size 432x288 with 2 Axes>"
      ]
     },
     "metadata": {
      "needs_background": "light"
     },
     "output_type": "display_data"
    }
   ],
   "source": [
    "# Make predictions on the gen data\n",
    "y_pred = rf_classifier.predict(X_gen)\n",
    "\n",
    "# Calculate accuracy of the model\n",
    "accuracy = accuracy_score(y_gen, y_pred)\n",
    "print(\"Accuracy:\", accuracy)\n",
    "\n",
    "cf_matrix = confusion_matrix(y_gen, y_pred)\n",
    "\n",
    "class_names = target_label_encoder.inverse_transform([0,1,2])\n",
    "\n",
    "ax = sns.heatmap(cf_matrix, annot=True, cmap='Blues',fmt = 'd', xticklabels=class_names, yticklabels=class_names)\n",
    "\n",
    "ax.set_title('Gen Confusion Matrix\\n\\n')\n",
    "ax.set_xlabel('\\nPredicted Label')\n",
    "ax.set_ylabel('Actual Label')\n",
    "\n",
    "## Display the visualization of the Confusion Matrix.\n",
    "plt.show()"
   ]
  },
  {
   "cell_type": "code",
   "execution_count": 30,
   "metadata": {},
   "outputs": [],
   "source": [
    "importances = {}\n",
    "for feat, importance in zip(data_df.columns,rf_classifier.feature_importances_):\n",
    "    importances[feat] = importance"
   ]
  },
  {
   "cell_type": "code",
   "execution_count": 34,
   "metadata": {},
   "outputs": [
    {
     "data": {
      "text/plain": [
       "[('Attack duration', 0.2845788753442392),\n",
       " ('victim IP num', 0.15665751017894292),\n",
       " ('Avg packet len', 0.09082131457647837),\n",
       " ('time_of_day', 0.07865817172552507),\n",
       " ('Source IP count', 0.07293494547113684),\n",
       " ('Data speed', 0.06877623242785384),\n",
       " ('Port number', 0.05718976970358191),\n",
       " ('Packet speed', 0.05692276272058851),\n",
       " ('High volume traffic', 0.049358762440946446),\n",
       " ('Significant flag', 0.02915050131402597),\n",
       " ('Suspicious traffic', 0.028697393457229322),\n",
       " ('DNS', 0.008430439540586003),\n",
       " ('is_weekday', 0.007473647326968602),\n",
       " ('CLDAP', 0.003351865628584742),\n",
       " ('Generic UDP', 0.002813244340531843),\n",
       " ('ICMP', 0.001768053295759846),\n",
       " ('NTP', 0.0013378939343356017),\n",
       " ('SYN Attack', 0.00046270850665528916),\n",
       " ('Memcached', 0.00017046823011324547),\n",
       " ('TCP Anomaly', 0.00011056753738756892),\n",
       " ('IPv4 fragmentation', 0.00011050915596683471),\n",
       " ('SSDP', 7.871711391545423e-05),\n",
       " ('CoAP', 5.9973659318832504e-05),\n",
       " ('TFTP', 5.096893329327606e-05),\n",
       " ('WSD', 1.5181132744479557e-05),\n",
       " ('SNMP', 1.0704693368858119e-05),\n",
       " ('RDP', 5.033703808459655e-06),\n",
       " ('other_attack_codes', 2.373382382638571e-06),\n",
       " ('CHARGEN', 9.88405389991591e-07),\n",
       " ('RIP', 4.2211834008472424e-07)]"
      ]
     },
     "execution_count": 34,
     "metadata": {},
     "output_type": "execute_result"
    }
   ],
   "source": [
    "sorted(importances.items(), key= lambda x: x[1], reverse=True)"
   ]
  },
  {
   "cell_type": "code",
   "execution_count": 28,
   "metadata": {},
   "outputs": [
    {
     "data": {
      "text/plain": [
       "30"
      ]
     },
     "execution_count": 28,
     "metadata": {},
     "output_type": "execute_result"
    }
   ],
   "source": [
    "len(data_df.columns)"
   ]
  },
  {
   "cell_type": "code",
   "execution_count": 27,
   "metadata": {},
   "outputs": [
    {
     "data": {
      "text/plain": [
       "30"
      ]
     },
     "execution_count": 27,
     "metadata": {},
     "output_type": "execute_result"
    }
   ],
   "source": [
    "len(rf_classifier.feature_importances_)"
   ]
  },
  {
   "cell_type": "markdown",
   "metadata": {},
   "source": [
    "# Limit depth"
   ]
  },
  {
   "cell_type": "code",
   "execution_count": 36,
   "metadata": {},
   "outputs": [
    {
     "name": "stdout",
     "output_type": "stream",
     "text": [
      "Accuracy: 0.6392976118185673\n"
     ]
    }
   ],
   "source": [
    "# Initialize RandomForestClassifier\n",
    "rf = RandomForestClassifier(n_estimators=100, max_depth=5,  random_state=42)\n",
    "\n",
    "# Train the classifier\n",
    "rf.fit(X_train, y_train)\n",
    "\n",
    "# Predict on the testing data\n",
    "y_pred = rf.predict(X_test)\n",
    "\n",
    "# Evaluate the model\n",
    "accuracy = accuracy_score(y_test, y_pred)\n",
    "print(\"Accuracy:\", accuracy)"
   ]
  }
 ],
 "metadata": {
  "kernelspec": {
   "display_name": "ddos",
   "language": "python",
   "name": "python3"
  },
  "language_info": {
   "codemirror_mode": {
    "name": "ipython",
    "version": 3
   },
   "file_extension": ".py",
   "mimetype": "text/x-python",
   "name": "python",
   "nbconvert_exporter": "python",
   "pygments_lexer": "ipython3",
   "version": "3.10.12"
  }
 },
 "nbformat": 4,
 "nbformat_minor": 2
}
