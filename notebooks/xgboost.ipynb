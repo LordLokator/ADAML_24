{
 "cells": [
  {
   "cell_type": "code",
   "execution_count": 1,
   "metadata": {},
   "outputs": [],
   "source": [
    "%load_ext autoreload\n",
    "%autoreload 2"
   ]
  },
  {
   "cell_type": "markdown",
   "metadata": {},
   "source": [
    "# Imports"
   ]
  },
  {
   "cell_type": "code",
   "execution_count": 76,
   "metadata": {},
   "outputs": [],
   "source": [
    "import numpy as np\n",
    "import pandas as pd\n",
    "\n",
    "import matplotlib.pyplot as plt\n",
    "import seaborn as sns\n",
    "\n",
    "from sklearn.preprocessing import LabelEncoder\n",
    "import xgboost as xgb\n",
    "from sklearn.model_selection import train_test_split\n",
    "from sklearn.metrics import accuracy_score, confusion_matrix"
   ]
  },
  {
   "cell_type": "markdown",
   "metadata": {},
   "source": [
    "# Load the data"
   ]
  },
  {
   "cell_type": "code",
   "execution_count": 4,
   "metadata": {},
   "outputs": [],
   "source": [
    "# file paths\n",
    "train_path = \"../data/preprocessed/train_vectors_scaled.csv\"\n",
    "valid_path = \"../data/preprocessed/validation_vectors_scaled.csv\"\n",
    "test_path = \"../data/preprocessed/test_vectors_scaled.csv\"\n",
    "gen_path = \"../data/preprocessed/generalisation_vectors_scaled.csv\""
   ]
  },
  {
   "cell_type": "code",
   "execution_count": 5,
   "metadata": {},
   "outputs": [],
   "source": [
    "# load the dataframes\n",
    "train_df = pd.read_csv(train_path)\n",
    "valid_df = pd.read_csv(valid_path)\n",
    "test_df = pd.read_csv(test_path)\n",
    "gen_df = pd.read_csv(gen_path)"
   ]
  },
  {
   "cell_type": "code",
   "execution_count": 15,
   "metadata": {},
   "outputs": [],
   "source": [
    "def preprocess(df, label_encoder = None):\n",
    "    # get target features\n",
    "    data_df = df.drop(columns=['Type'])\n",
    "    if \"is_synthetic\" in data_df.columns:\n",
    "        data_df.drop(columns=['is_synthetic'], inplace = True)\n",
    "    data_df = data_df.reindex(sorted(data_df.columns), axis=1)\n",
    "    target_df = df['Type']\n",
    "\n",
    "    # encode target labels\n",
    "    if label_encoder is None:\n",
    "        label_encoder = LabelEncoder()\n",
    "        label_encoder.fit(target_df)\n",
    "    target_df = label_encoder.transform(target_df)\n",
    "\n",
    "    X = data_df.to_numpy()\n",
    "    y = target_df\n",
    "\n",
    "    return X, y, label_encoder"
   ]
  },
  {
   "cell_type": "code",
   "execution_count": 83,
   "metadata": {},
   "outputs": [],
   "source": [
    "# preprocess the datasets\n",
    "X_train_, y_train_, target_label_encoder =  preprocess(train_df)\n",
    "X_valid_, y_valid_, _ =  preprocess(valid_df, label_encoder=target_label_encoder)\n",
    "X_test, y_test, _ =  preprocess(test_df, label_encoder=target_label_encoder)\n",
    "X_gen, y_gen, _ =  preprocess(gen_df, label_encoder=target_label_encoder)"
   ]
  },
  {
   "cell_type": "code",
   "execution_count": 84,
   "metadata": {},
   "outputs": [
    {
     "name": "stdout",
     "output_type": "stream",
     "text": [
      "(1346829, 24) (1247266, 24) (1233449, 24) (2452610, 24)\n"
     ]
    }
   ],
   "source": [
    "print(X_train_.shape, X_valid_.shape, X_test.shape, X_gen.shape)"
   ]
  },
  {
   "cell_type": "code",
   "execution_count": 90,
   "metadata": {},
   "outputs": [
    {
     "data": {
      "text/plain": [
       "(1346829,)"
      ]
     },
     "execution_count": 90,
     "metadata": {},
     "output_type": "execute_result"
    }
   ],
   "source": [
    "y_train_.shape"
   ]
  },
  {
   "cell_type": "code",
   "execution_count": 91,
   "metadata": {},
   "outputs": [
    {
     "data": {
      "text/plain": [
       "(1247266,)"
      ]
     },
     "execution_count": 91,
     "metadata": {},
     "output_type": "execute_result"
    }
   ],
   "source": [
    "y_valid_.shape"
   ]
  },
  {
   "cell_type": "code",
   "execution_count": 93,
   "metadata": {},
   "outputs": [
    {
     "data": {
      "text/plain": [
       "(2594095,)"
      ]
     },
     "execution_count": 93,
     "metadata": {},
     "output_type": "execute_result"
    }
   ],
   "source": [
    "np.concatenate((y_train_, y_valid_)).shape"
   ]
  },
  {
   "cell_type": "code",
   "execution_count": 94,
   "metadata": {},
   "outputs": [],
   "source": [
    "# train test split\n",
    "merge_X = np.vstack((X_train_,X_valid_))\n",
    "merge_Y = np.concatenate((y_train_, y_valid_))\n",
    "\n",
    "X_train, X_valid, y_train, y_valid = train_test_split(merge_X, merge_Y, test_size=0.2, random_state=42)"
   ]
  },
  {
   "cell_type": "markdown",
   "metadata": {},
   "source": [
    "# Train the model"
   ]
  },
  {
   "cell_type": "code",
   "execution_count": 95,
   "metadata": {},
   "outputs": [
    {
     "name": "stderr",
     "output_type": "stream",
     "text": [
      "c:\\Users\\Maya\\.conda\\envs\\ddos\\lib\\site-packages\\xgboost\\sklearn.py:889: UserWarning: `eval_metric` in `fit` method is deprecated for better compatibility with scikit-learn, use `eval_metric` in constructor or`set_params` instead.\n",
      "  warnings.warn(\n",
      "c:\\Users\\Maya\\.conda\\envs\\ddos\\lib\\site-packages\\xgboost\\sklearn.py:889: UserWarning: `early_stopping_rounds` in `fit` method is deprecated for better compatibility with scikit-learn, use `early_stopping_rounds` in constructor or`set_params` instead.\n",
      "  warnings.warn(\n"
     ]
    },
    {
     "name": "stdout",
     "output_type": "stream",
     "text": [
      "[0]\tvalidation_0-merror:0.15315\n",
      "[1]\tvalidation_0-merror:0.15620\n",
      "[2]\tvalidation_0-merror:0.15598\n",
      "[3]\tvalidation_0-merror:0.15099\n",
      "[4]\tvalidation_0-merror:0.14656\n",
      "[5]\tvalidation_0-merror:0.14544\n",
      "[6]\tvalidation_0-merror:0.13063\n",
      "[7]\tvalidation_0-merror:0.13040\n",
      "[8]\tvalidation_0-merror:0.12914\n",
      "[9]\tvalidation_0-merror:0.12853\n",
      "[10]\tvalidation_0-merror:0.12639\n",
      "[11]\tvalidation_0-merror:0.12529\n",
      "[12]\tvalidation_0-merror:0.12453\n",
      "[13]\tvalidation_0-merror:0.12300\n",
      "[14]\tvalidation_0-merror:0.12288\n",
      "[15]\tvalidation_0-merror:0.12206\n",
      "[16]\tvalidation_0-merror:0.12107\n",
      "[17]\tvalidation_0-merror:0.12104\n",
      "[18]\tvalidation_0-merror:0.12034\n",
      "[19]\tvalidation_0-merror:0.11953\n",
      "[20]\tvalidation_0-merror:0.11923\n",
      "[21]\tvalidation_0-merror:0.11845\n",
      "[22]\tvalidation_0-merror:0.11711\n",
      "[23]\tvalidation_0-merror:0.11633\n",
      "[24]\tvalidation_0-merror:0.11449\n",
      "[25]\tvalidation_0-merror:0.11396\n",
      "[26]\tvalidation_0-merror:0.11239\n",
      "[27]\tvalidation_0-merror:0.11212\n",
      "[28]\tvalidation_0-merror:0.11151\n",
      "[29]\tvalidation_0-merror:0.11144\n",
      "[30]\tvalidation_0-merror:0.11099\n",
      "[31]\tvalidation_0-merror:0.11031\n",
      "[32]\tvalidation_0-merror:0.10965\n",
      "[33]\tvalidation_0-merror:0.10829\n",
      "[34]\tvalidation_0-merror:0.10773\n",
      "[35]\tvalidation_0-merror:0.10750\n",
      "[36]\tvalidation_0-merror:0.10723\n",
      "[37]\tvalidation_0-merror:0.10685\n",
      "[38]\tvalidation_0-merror:0.10648\n",
      "[39]\tvalidation_0-merror:0.10611\n",
      "[40]\tvalidation_0-merror:0.10562\n",
      "[41]\tvalidation_0-merror:0.10550\n",
      "[42]\tvalidation_0-merror:0.10499\n",
      "[43]\tvalidation_0-merror:0.10491\n",
      "[44]\tvalidation_0-merror:0.10467\n",
      "[45]\tvalidation_0-merror:0.10395\n",
      "[46]\tvalidation_0-merror:0.10363\n",
      "[47]\tvalidation_0-merror:0.10321\n",
      "[48]\tvalidation_0-merror:0.10276\n",
      "[49]\tvalidation_0-merror:0.10255\n",
      "[50]\tvalidation_0-merror:0.10178\n",
      "[51]\tvalidation_0-merror:0.10166\n",
      "[52]\tvalidation_0-merror:0.10095\n",
      "[53]\tvalidation_0-merror:0.10085\n",
      "[54]\tvalidation_0-merror:0.10062\n",
      "[55]\tvalidation_0-merror:0.10055\n",
      "[56]\tvalidation_0-merror:0.10038\n",
      "[57]\tvalidation_0-merror:0.10015\n",
      "[58]\tvalidation_0-merror:0.09984\n",
      "[59]\tvalidation_0-merror:0.09965\n",
      "[60]\tvalidation_0-merror:0.09954\n",
      "[61]\tvalidation_0-merror:0.09942\n",
      "[62]\tvalidation_0-merror:0.09925\n",
      "[63]\tvalidation_0-merror:0.09878\n",
      "[64]\tvalidation_0-merror:0.09820\n",
      "[65]\tvalidation_0-merror:0.09809\n",
      "[66]\tvalidation_0-merror:0.09792\n",
      "[67]\tvalidation_0-merror:0.09761\n",
      "[68]\tvalidation_0-merror:0.09759\n",
      "[69]\tvalidation_0-merror:0.09744\n",
      "[70]\tvalidation_0-merror:0.09733\n",
      "[71]\tvalidation_0-merror:0.09691\n",
      "[72]\tvalidation_0-merror:0.09657\n",
      "[73]\tvalidation_0-merror:0.09615\n",
      "[74]\tvalidation_0-merror:0.09601\n",
      "[75]\tvalidation_0-merror:0.09592\n",
      "[76]\tvalidation_0-merror:0.09577\n",
      "[77]\tvalidation_0-merror:0.09552\n",
      "[78]\tvalidation_0-merror:0.09524\n",
      "[79]\tvalidation_0-merror:0.09518\n",
      "[80]\tvalidation_0-merror:0.09500\n",
      "[81]\tvalidation_0-merror:0.09489\n",
      "[82]\tvalidation_0-merror:0.09464\n",
      "[83]\tvalidation_0-merror:0.09445\n",
      "[84]\tvalidation_0-merror:0.09445\n",
      "[85]\tvalidation_0-merror:0.09434\n",
      "[86]\tvalidation_0-merror:0.09420\n",
      "[87]\tvalidation_0-merror:0.09421\n",
      "[88]\tvalidation_0-merror:0.09416\n",
      "[89]\tvalidation_0-merror:0.09406\n",
      "[90]\tvalidation_0-merror:0.09390\n",
      "[91]\tvalidation_0-merror:0.09380\n",
      "[92]\tvalidation_0-merror:0.09378\n",
      "[93]\tvalidation_0-merror:0.09343\n",
      "[94]\tvalidation_0-merror:0.09324\n",
      "[95]\tvalidation_0-merror:0.09320\n",
      "[96]\tvalidation_0-merror:0.09316\n",
      "[97]\tvalidation_0-merror:0.09279\n",
      "[98]\tvalidation_0-merror:0.09265\n",
      "[99]\tvalidation_0-merror:0.09244\n",
      "[100]\tvalidation_0-merror:0.09233\n",
      "[101]\tvalidation_0-merror:0.09207\n",
      "[102]\tvalidation_0-merror:0.09194\n",
      "[103]\tvalidation_0-merror:0.09188\n",
      "[104]\tvalidation_0-merror:0.09182\n",
      "[105]\tvalidation_0-merror:0.09176\n",
      "[106]\tvalidation_0-merror:0.09168\n",
      "[107]\tvalidation_0-merror:0.09162\n",
      "[108]\tvalidation_0-merror:0.09146\n",
      "[109]\tvalidation_0-merror:0.09140\n",
      "[110]\tvalidation_0-merror:0.09129\n",
      "[111]\tvalidation_0-merror:0.09112\n",
      "[112]\tvalidation_0-merror:0.09101\n",
      "[113]\tvalidation_0-merror:0.09096\n",
      "[114]\tvalidation_0-merror:0.09093\n",
      "[115]\tvalidation_0-merror:0.09093\n",
      "[116]\tvalidation_0-merror:0.09087\n",
      "[117]\tvalidation_0-merror:0.09077\n",
      "[118]\tvalidation_0-merror:0.09074\n",
      "[119]\tvalidation_0-merror:0.09063\n",
      "[120]\tvalidation_0-merror:0.09059\n",
      "[121]\tvalidation_0-merror:0.09051\n",
      "[122]\tvalidation_0-merror:0.09046\n",
      "[123]\tvalidation_0-merror:0.09044\n",
      "[124]\tvalidation_0-merror:0.09046\n",
      "[125]\tvalidation_0-merror:0.09033\n",
      "[126]\tvalidation_0-merror:0.09028\n",
      "[127]\tvalidation_0-merror:0.09025\n",
      "[128]\tvalidation_0-merror:0.09012\n",
      "[129]\tvalidation_0-merror:0.09000\n",
      "[130]\tvalidation_0-merror:0.09002\n",
      "[131]\tvalidation_0-merror:0.09001\n",
      "[132]\tvalidation_0-merror:0.08993\n",
      "[133]\tvalidation_0-merror:0.08982\n",
      "[134]\tvalidation_0-merror:0.08973\n",
      "[135]\tvalidation_0-merror:0.08962\n",
      "[136]\tvalidation_0-merror:0.08958\n",
      "[137]\tvalidation_0-merror:0.08950\n",
      "[138]\tvalidation_0-merror:0.08942\n",
      "[139]\tvalidation_0-merror:0.08937\n",
      "[140]\tvalidation_0-merror:0.08933\n",
      "[141]\tvalidation_0-merror:0.08929\n",
      "[142]\tvalidation_0-merror:0.08922\n",
      "[143]\tvalidation_0-merror:0.08910\n",
      "[144]\tvalidation_0-merror:0.08907\n",
      "[145]\tvalidation_0-merror:0.08906\n",
      "[146]\tvalidation_0-merror:0.08903\n",
      "[147]\tvalidation_0-merror:0.08900\n",
      "[148]\tvalidation_0-merror:0.08894\n",
      "[149]\tvalidation_0-merror:0.08891\n",
      "[150]\tvalidation_0-merror:0.08882\n",
      "[151]\tvalidation_0-merror:0.08877\n",
      "[152]\tvalidation_0-merror:0.08873\n",
      "[153]\tvalidation_0-merror:0.08858\n",
      "[154]\tvalidation_0-merror:0.08845\n",
      "[155]\tvalidation_0-merror:0.08846\n",
      "[156]\tvalidation_0-merror:0.08842\n",
      "[157]\tvalidation_0-merror:0.08835\n",
      "[158]\tvalidation_0-merror:0.08830\n",
      "[159]\tvalidation_0-merror:0.08828\n",
      "[160]\tvalidation_0-merror:0.08823\n",
      "[161]\tvalidation_0-merror:0.08819\n",
      "[162]\tvalidation_0-merror:0.08816\n",
      "[163]\tvalidation_0-merror:0.08815\n",
      "[164]\tvalidation_0-merror:0.08813\n",
      "[165]\tvalidation_0-merror:0.08805\n",
      "[166]\tvalidation_0-merror:0.08803\n",
      "[167]\tvalidation_0-merror:0.08799\n",
      "[168]\tvalidation_0-merror:0.08790\n",
      "[169]\tvalidation_0-merror:0.08786\n",
      "[170]\tvalidation_0-merror:0.08784\n",
      "[171]\tvalidation_0-merror:0.08775\n",
      "[172]\tvalidation_0-merror:0.08770\n",
      "[173]\tvalidation_0-merror:0.08766\n",
      "[174]\tvalidation_0-merror:0.08764\n",
      "[175]\tvalidation_0-merror:0.08761\n",
      "[176]\tvalidation_0-merror:0.08756\n",
      "[177]\tvalidation_0-merror:0.08754\n",
      "[178]\tvalidation_0-merror:0.08750\n",
      "[179]\tvalidation_0-merror:0.08742\n",
      "[180]\tvalidation_0-merror:0.08739\n",
      "[181]\tvalidation_0-merror:0.08739\n",
      "[182]\tvalidation_0-merror:0.08737\n",
      "[183]\tvalidation_0-merror:0.08738\n",
      "[184]\tvalidation_0-merror:0.08733\n",
      "[185]\tvalidation_0-merror:0.08728\n",
      "[186]\tvalidation_0-merror:0.08725\n",
      "[187]\tvalidation_0-merror:0.08721\n",
      "[188]\tvalidation_0-merror:0.08718\n",
      "[189]\tvalidation_0-merror:0.08711\n",
      "[190]\tvalidation_0-merror:0.08708\n",
      "[191]\tvalidation_0-merror:0.08703\n",
      "[192]\tvalidation_0-merror:0.08703\n",
      "[193]\tvalidation_0-merror:0.08700\n",
      "[194]\tvalidation_0-merror:0.08699\n",
      "[195]\tvalidation_0-merror:0.08696\n",
      "[196]\tvalidation_0-merror:0.08697\n",
      "[197]\tvalidation_0-merror:0.08693\n",
      "[198]\tvalidation_0-merror:0.08690\n",
      "[199]\tvalidation_0-merror:0.08688\n",
      "[200]\tvalidation_0-merror:0.08686\n",
      "[201]\tvalidation_0-merror:0.08686\n",
      "[202]\tvalidation_0-merror:0.08682\n",
      "[203]\tvalidation_0-merror:0.08679\n",
      "[204]\tvalidation_0-merror:0.08675\n",
      "[205]\tvalidation_0-merror:0.08671\n",
      "[206]\tvalidation_0-merror:0.08668\n",
      "[207]\tvalidation_0-merror:0.08664\n",
      "[208]\tvalidation_0-merror:0.08662\n",
      "[209]\tvalidation_0-merror:0.08656\n",
      "[210]\tvalidation_0-merror:0.08654\n",
      "[211]\tvalidation_0-merror:0.08651\n",
      "[212]\tvalidation_0-merror:0.08648\n",
      "[213]\tvalidation_0-merror:0.08646\n",
      "[214]\tvalidation_0-merror:0.08643\n",
      "[215]\tvalidation_0-merror:0.08642\n",
      "[216]\tvalidation_0-merror:0.08637\n",
      "[217]\tvalidation_0-merror:0.08635\n",
      "[218]\tvalidation_0-merror:0.08633\n",
      "[219]\tvalidation_0-merror:0.08631\n",
      "[220]\tvalidation_0-merror:0.08627\n",
      "[221]\tvalidation_0-merror:0.08624\n",
      "[222]\tvalidation_0-merror:0.08622\n",
      "[223]\tvalidation_0-merror:0.08620\n",
      "[224]\tvalidation_0-merror:0.08615\n",
      "[225]\tvalidation_0-merror:0.08616\n",
      "[226]\tvalidation_0-merror:0.08613\n",
      "[227]\tvalidation_0-merror:0.08611\n",
      "[228]\tvalidation_0-merror:0.08609\n",
      "[229]\tvalidation_0-merror:0.08605\n",
      "[230]\tvalidation_0-merror:0.08601\n",
      "[231]\tvalidation_0-merror:0.08599\n",
      "[232]\tvalidation_0-merror:0.08592\n",
      "[233]\tvalidation_0-merror:0.08593\n",
      "[234]\tvalidation_0-merror:0.08593\n",
      "[235]\tvalidation_0-merror:0.08591\n",
      "[236]\tvalidation_0-merror:0.08586\n",
      "[237]\tvalidation_0-merror:0.08579\n",
      "[238]\tvalidation_0-merror:0.08579\n",
      "[239]\tvalidation_0-merror:0.08571\n",
      "[240]\tvalidation_0-merror:0.08573\n",
      "[241]\tvalidation_0-merror:0.08570\n",
      "[242]\tvalidation_0-merror:0.08563\n",
      "[243]\tvalidation_0-merror:0.08559\n",
      "[244]\tvalidation_0-merror:0.08561\n",
      "[245]\tvalidation_0-merror:0.08562\n",
      "[246]\tvalidation_0-merror:0.08560\n",
      "[247]\tvalidation_0-merror:0.08558\n",
      "[248]\tvalidation_0-merror:0.08555\n",
      "[249]\tvalidation_0-merror:0.08554\n",
      "[250]\tvalidation_0-merror:0.08549\n",
      "[251]\tvalidation_0-merror:0.08548\n",
      "[252]\tvalidation_0-merror:0.08548\n",
      "[253]\tvalidation_0-merror:0.08547\n",
      "[254]\tvalidation_0-merror:0.08544\n",
      "[255]\tvalidation_0-merror:0.08540\n",
      "[256]\tvalidation_0-merror:0.08534\n",
      "[257]\tvalidation_0-merror:0.08531\n",
      "[258]\tvalidation_0-merror:0.08525\n",
      "[259]\tvalidation_0-merror:0.08522\n",
      "[260]\tvalidation_0-merror:0.08524\n",
      "[261]\tvalidation_0-merror:0.08525\n",
      "[262]\tvalidation_0-merror:0.08527\n",
      "[263]\tvalidation_0-merror:0.08525\n",
      "[264]\tvalidation_0-merror:0.08524\n",
      "[265]\tvalidation_0-merror:0.08522\n",
      "[266]\tvalidation_0-merror:0.08521\n",
      "[267]\tvalidation_0-merror:0.08520\n",
      "[268]\tvalidation_0-merror:0.08517\n",
      "[269]\tvalidation_0-merror:0.08517\n",
      "[270]\tvalidation_0-merror:0.08519\n",
      "[271]\tvalidation_0-merror:0.08518\n",
      "[272]\tvalidation_0-merror:0.08516\n",
      "[273]\tvalidation_0-merror:0.08509\n",
      "[274]\tvalidation_0-merror:0.08510\n",
      "[275]\tvalidation_0-merror:0.08510\n",
      "[276]\tvalidation_0-merror:0.08507\n",
      "[277]\tvalidation_0-merror:0.08508\n",
      "[278]\tvalidation_0-merror:0.08506\n",
      "[279]\tvalidation_0-merror:0.08504\n",
      "[280]\tvalidation_0-merror:0.08502\n",
      "[281]\tvalidation_0-merror:0.08503\n",
      "[282]\tvalidation_0-merror:0.08499\n",
      "[283]\tvalidation_0-merror:0.08497\n",
      "[284]\tvalidation_0-merror:0.08497\n",
      "[285]\tvalidation_0-merror:0.08498\n",
      "[286]\tvalidation_0-merror:0.08496\n",
      "[287]\tvalidation_0-merror:0.08497\n",
      "[288]\tvalidation_0-merror:0.08491\n",
      "[289]\tvalidation_0-merror:0.08491\n",
      "[290]\tvalidation_0-merror:0.08488\n",
      "[291]\tvalidation_0-merror:0.08489\n",
      "[292]\tvalidation_0-merror:0.08486\n",
      "[293]\tvalidation_0-merror:0.08481\n",
      "[294]\tvalidation_0-merror:0.08480\n",
      "[295]\tvalidation_0-merror:0.08474\n",
      "[296]\tvalidation_0-merror:0.08474\n",
      "[297]\tvalidation_0-merror:0.08473\n",
      "[298]\tvalidation_0-merror:0.08472\n",
      "[299]\tvalidation_0-merror:0.08471\n",
      "[300]\tvalidation_0-merror:0.08471\n",
      "[301]\tvalidation_0-merror:0.08471\n",
      "[302]\tvalidation_0-merror:0.08470\n",
      "[303]\tvalidation_0-merror:0.08471\n",
      "[304]\tvalidation_0-merror:0.08470\n",
      "[305]\tvalidation_0-merror:0.08471\n",
      "[306]\tvalidation_0-merror:0.08466\n",
      "[307]\tvalidation_0-merror:0.08464\n",
      "[308]\tvalidation_0-merror:0.08464\n",
      "[309]\tvalidation_0-merror:0.08457\n",
      "[310]\tvalidation_0-merror:0.08457\n",
      "[311]\tvalidation_0-merror:0.08456\n",
      "[312]\tvalidation_0-merror:0.08457\n",
      "[313]\tvalidation_0-merror:0.08454\n",
      "[314]\tvalidation_0-merror:0.08452\n",
      "[315]\tvalidation_0-merror:0.08448\n",
      "[316]\tvalidation_0-merror:0.08446\n",
      "[317]\tvalidation_0-merror:0.08445\n",
      "[318]\tvalidation_0-merror:0.08444\n",
      "[319]\tvalidation_0-merror:0.08443\n",
      "[320]\tvalidation_0-merror:0.08440\n",
      "[321]\tvalidation_0-merror:0.08437\n",
      "[322]\tvalidation_0-merror:0.08437\n",
      "[323]\tvalidation_0-merror:0.08438\n",
      "[324]\tvalidation_0-merror:0.08438\n",
      "[325]\tvalidation_0-merror:0.08434\n",
      "[326]\tvalidation_0-merror:0.08435\n",
      "[327]\tvalidation_0-merror:0.08430\n",
      "[328]\tvalidation_0-merror:0.08427\n",
      "[329]\tvalidation_0-merror:0.08427\n",
      "[330]\tvalidation_0-merror:0.08428\n",
      "[331]\tvalidation_0-merror:0.08428\n",
      "[332]\tvalidation_0-merror:0.08426\n",
      "[333]\tvalidation_0-merror:0.08427\n",
      "[334]\tvalidation_0-merror:0.08426\n",
      "[335]\tvalidation_0-merror:0.08425\n",
      "[336]\tvalidation_0-merror:0.08425\n",
      "[337]\tvalidation_0-merror:0.08426\n",
      "[338]\tvalidation_0-merror:0.08427\n",
      "[339]\tvalidation_0-merror:0.08426\n",
      "[340]\tvalidation_0-merror:0.08424\n",
      "[341]\tvalidation_0-merror:0.08422\n",
      "[342]\tvalidation_0-merror:0.08423\n",
      "[343]\tvalidation_0-merror:0.08421\n",
      "[344]\tvalidation_0-merror:0.08419\n",
      "[345]\tvalidation_0-merror:0.08417\n",
      "[346]\tvalidation_0-merror:0.08419\n",
      "[347]\tvalidation_0-merror:0.08417\n",
      "[348]\tvalidation_0-merror:0.08417\n",
      "[349]\tvalidation_0-merror:0.08414\n",
      "[350]\tvalidation_0-merror:0.08411\n",
      "[351]\tvalidation_0-merror:0.08403\n",
      "[352]\tvalidation_0-merror:0.08399\n",
      "[353]\tvalidation_0-merror:0.08397\n",
      "[354]\tvalidation_0-merror:0.08396\n",
      "[355]\tvalidation_0-merror:0.08392\n",
      "[356]\tvalidation_0-merror:0.08392\n",
      "[357]\tvalidation_0-merror:0.08392\n",
      "[358]\tvalidation_0-merror:0.08391\n",
      "[359]\tvalidation_0-merror:0.08387\n",
      "[360]\tvalidation_0-merror:0.08386\n",
      "[361]\tvalidation_0-merror:0.08383\n",
      "[362]\tvalidation_0-merror:0.08385\n",
      "[363]\tvalidation_0-merror:0.08385\n",
      "[364]\tvalidation_0-merror:0.08380\n",
      "[365]\tvalidation_0-merror:0.08379\n",
      "[366]\tvalidation_0-merror:0.08380\n",
      "[367]\tvalidation_0-merror:0.08381\n",
      "[368]\tvalidation_0-merror:0.08380\n",
      "[369]\tvalidation_0-merror:0.08377\n",
      "[370]\tvalidation_0-merror:0.08375\n",
      "[371]\tvalidation_0-merror:0.08375\n",
      "[372]\tvalidation_0-merror:0.08374\n",
      "[373]\tvalidation_0-merror:0.08371\n",
      "[374]\tvalidation_0-merror:0.08372\n",
      "[375]\tvalidation_0-merror:0.08367\n",
      "[376]\tvalidation_0-merror:0.08367\n",
      "[377]\tvalidation_0-merror:0.08368\n",
      "[378]\tvalidation_0-merror:0.08369\n",
      "[379]\tvalidation_0-merror:0.08366\n",
      "[380]\tvalidation_0-merror:0.08364\n",
      "[381]\tvalidation_0-merror:0.08361\n",
      "[382]\tvalidation_0-merror:0.08361\n",
      "[383]\tvalidation_0-merror:0.08359\n",
      "[384]\tvalidation_0-merror:0.08356\n",
      "[385]\tvalidation_0-merror:0.08349\n",
      "[386]\tvalidation_0-merror:0.08351\n",
      "[387]\tvalidation_0-merror:0.08352\n",
      "[388]\tvalidation_0-merror:0.08351\n",
      "[389]\tvalidation_0-merror:0.08350\n",
      "[390]\tvalidation_0-merror:0.08345\n",
      "[391]\tvalidation_0-merror:0.08343\n",
      "[392]\tvalidation_0-merror:0.08341\n",
      "[393]\tvalidation_0-merror:0.08341\n",
      "[394]\tvalidation_0-merror:0.08337\n",
      "[395]\tvalidation_0-merror:0.08342\n",
      "[396]\tvalidation_0-merror:0.08342\n",
      "[397]\tvalidation_0-merror:0.08341\n",
      "[398]\tvalidation_0-merror:0.08340\n",
      "[399]\tvalidation_0-merror:0.08340\n",
      "[400]\tvalidation_0-merror:0.08339\n",
      "[401]\tvalidation_0-merror:0.08337\n",
      "[402]\tvalidation_0-merror:0.08337\n",
      "[403]\tvalidation_0-merror:0.08336\n",
      "[404]\tvalidation_0-merror:0.08335\n",
      "[405]\tvalidation_0-merror:0.08335\n",
      "[406]\tvalidation_0-merror:0.08335\n",
      "[407]\tvalidation_0-merror:0.08333\n",
      "[408]\tvalidation_0-merror:0.08332\n",
      "[409]\tvalidation_0-merror:0.08331\n",
      "[410]\tvalidation_0-merror:0.08329\n",
      "[411]\tvalidation_0-merror:0.08324\n",
      "[412]\tvalidation_0-merror:0.08323\n",
      "[413]\tvalidation_0-merror:0.08320\n",
      "[414]\tvalidation_0-merror:0.08319\n",
      "[415]\tvalidation_0-merror:0.08318\n",
      "[416]\tvalidation_0-merror:0.08319\n",
      "[417]\tvalidation_0-merror:0.08319\n",
      "[418]\tvalidation_0-merror:0.08317\n",
      "[419]\tvalidation_0-merror:0.08316\n",
      "[420]\tvalidation_0-merror:0.08316\n",
      "[421]\tvalidation_0-merror:0.08316\n",
      "[422]\tvalidation_0-merror:0.08315\n",
      "[423]\tvalidation_0-merror:0.08313\n",
      "[424]\tvalidation_0-merror:0.08311\n",
      "[425]\tvalidation_0-merror:0.08309\n",
      "[426]\tvalidation_0-merror:0.08310\n",
      "[427]\tvalidation_0-merror:0.08310\n",
      "[428]\tvalidation_0-merror:0.08313\n",
      "[429]\tvalidation_0-merror:0.08313\n",
      "[430]\tvalidation_0-merror:0.08312\n",
      "[431]\tvalidation_0-merror:0.08311\n",
      "[432]\tvalidation_0-merror:0.08312\n",
      "[433]\tvalidation_0-merror:0.08312\n",
      "[434]\tvalidation_0-merror:0.08309\n",
      "[435]\tvalidation_0-merror:0.08309\n",
      "[436]\tvalidation_0-merror:0.08308\n",
      "[437]\tvalidation_0-merror:0.08307\n",
      "[438]\tvalidation_0-merror:0.08306\n",
      "[439]\tvalidation_0-merror:0.08307\n",
      "[440]\tvalidation_0-merror:0.08305\n",
      "[441]\tvalidation_0-merror:0.08303\n",
      "[442]\tvalidation_0-merror:0.08302\n",
      "[443]\tvalidation_0-merror:0.08302\n",
      "[444]\tvalidation_0-merror:0.08300\n",
      "[445]\tvalidation_0-merror:0.08300\n",
      "[446]\tvalidation_0-merror:0.08298\n",
      "[447]\tvalidation_0-merror:0.08302\n",
      "[448]\tvalidation_0-merror:0.08299\n",
      "[449]\tvalidation_0-merror:0.08301\n",
      "[450]\tvalidation_0-merror:0.08301\n",
      "[451]\tvalidation_0-merror:0.08299\n",
      "[452]\tvalidation_0-merror:0.08295\n",
      "[453]\tvalidation_0-merror:0.08297\n",
      "[454]\tvalidation_0-merror:0.08296\n",
      "[455]\tvalidation_0-merror:0.08293\n",
      "[456]\tvalidation_0-merror:0.08294\n",
      "[457]\tvalidation_0-merror:0.08292\n",
      "[458]\tvalidation_0-merror:0.08287\n",
      "[459]\tvalidation_0-merror:0.08287\n",
      "[460]\tvalidation_0-merror:0.08286\n",
      "[461]\tvalidation_0-merror:0.08286\n",
      "[462]\tvalidation_0-merror:0.08284\n",
      "[463]\tvalidation_0-merror:0.08285\n",
      "[464]\tvalidation_0-merror:0.08282\n",
      "[465]\tvalidation_0-merror:0.08281\n",
      "[466]\tvalidation_0-merror:0.08277\n",
      "[467]\tvalidation_0-merror:0.08276\n",
      "[468]\tvalidation_0-merror:0.08277\n",
      "[469]\tvalidation_0-merror:0.08276\n",
      "[470]\tvalidation_0-merror:0.08277\n",
      "[471]\tvalidation_0-merror:0.08278\n",
      "[472]\tvalidation_0-merror:0.08276\n",
      "[473]\tvalidation_0-merror:0.08274\n",
      "[474]\tvalidation_0-merror:0.08271\n",
      "[475]\tvalidation_0-merror:0.08271\n",
      "[476]\tvalidation_0-merror:0.08269\n",
      "[477]\tvalidation_0-merror:0.08270\n",
      "[478]\tvalidation_0-merror:0.08271\n",
      "[479]\tvalidation_0-merror:0.08271\n",
      "[480]\tvalidation_0-merror:0.08266\n",
      "[481]\tvalidation_0-merror:0.08265\n",
      "[482]\tvalidation_0-merror:0.08266\n",
      "[483]\tvalidation_0-merror:0.08263\n",
      "[484]\tvalidation_0-merror:0.08258\n",
      "[485]\tvalidation_0-merror:0.08259\n",
      "[486]\tvalidation_0-merror:0.08260\n",
      "[487]\tvalidation_0-merror:0.08257\n",
      "[488]\tvalidation_0-merror:0.08257\n",
      "[489]\tvalidation_0-merror:0.08256\n",
      "[490]\tvalidation_0-merror:0.08255\n",
      "[491]\tvalidation_0-merror:0.08253\n",
      "[492]\tvalidation_0-merror:0.08251\n",
      "[493]\tvalidation_0-merror:0.08251\n",
      "[494]\tvalidation_0-merror:0.08250\n",
      "[495]\tvalidation_0-merror:0.08249\n",
      "[496]\tvalidation_0-merror:0.08247\n",
      "[497]\tvalidation_0-merror:0.08247\n",
      "[498]\tvalidation_0-merror:0.08247\n",
      "[499]\tvalidation_0-merror:0.08245\n"
     ]
    },
    {
     "data": {
      "text/html": [
       "<style>#sk-container-id-7 {color: black;background-color: white;}#sk-container-id-7 pre{padding: 0;}#sk-container-id-7 div.sk-toggleable {background-color: white;}#sk-container-id-7 label.sk-toggleable__label {cursor: pointer;display: block;width: 100%;margin-bottom: 0;padding: 0.3em;box-sizing: border-box;text-align: center;}#sk-container-id-7 label.sk-toggleable__label-arrow:before {content: \"▸\";float: left;margin-right: 0.25em;color: #696969;}#sk-container-id-7 label.sk-toggleable__label-arrow:hover:before {color: black;}#sk-container-id-7 div.sk-estimator:hover label.sk-toggleable__label-arrow:before {color: black;}#sk-container-id-7 div.sk-toggleable__content {max-height: 0;max-width: 0;overflow: hidden;text-align: left;background-color: #f0f8ff;}#sk-container-id-7 div.sk-toggleable__content pre {margin: 0.2em;color: black;border-radius: 0.25em;background-color: #f0f8ff;}#sk-container-id-7 input.sk-toggleable__control:checked~div.sk-toggleable__content {max-height: 200px;max-width: 100%;overflow: auto;}#sk-container-id-7 input.sk-toggleable__control:checked~label.sk-toggleable__label-arrow:before {content: \"▾\";}#sk-container-id-7 div.sk-estimator input.sk-toggleable__control:checked~label.sk-toggleable__label {background-color: #d4ebff;}#sk-container-id-7 div.sk-label input.sk-toggleable__control:checked~label.sk-toggleable__label {background-color: #d4ebff;}#sk-container-id-7 input.sk-hidden--visually {border: 0;clip: rect(1px 1px 1px 1px);clip: rect(1px, 1px, 1px, 1px);height: 1px;margin: -1px;overflow: hidden;padding: 0;position: absolute;width: 1px;}#sk-container-id-7 div.sk-estimator {font-family: monospace;background-color: #f0f8ff;border: 1px dotted black;border-radius: 0.25em;box-sizing: border-box;margin-bottom: 0.5em;}#sk-container-id-7 div.sk-estimator:hover {background-color: #d4ebff;}#sk-container-id-7 div.sk-parallel-item::after {content: \"\";width: 100%;border-bottom: 1px solid gray;flex-grow: 1;}#sk-container-id-7 div.sk-label:hover label.sk-toggleable__label {background-color: #d4ebff;}#sk-container-id-7 div.sk-serial::before {content: \"\";position: absolute;border-left: 1px solid gray;box-sizing: border-box;top: 0;bottom: 0;left: 50%;z-index: 0;}#sk-container-id-7 div.sk-serial {display: flex;flex-direction: column;align-items: center;background-color: white;padding-right: 0.2em;padding-left: 0.2em;position: relative;}#sk-container-id-7 div.sk-item {position: relative;z-index: 1;}#sk-container-id-7 div.sk-parallel {display: flex;align-items: stretch;justify-content: center;background-color: white;position: relative;}#sk-container-id-7 div.sk-item::before, #sk-container-id-7 div.sk-parallel-item::before {content: \"\";position: absolute;border-left: 1px solid gray;box-sizing: border-box;top: 0;bottom: 0;left: 50%;z-index: -1;}#sk-container-id-7 div.sk-parallel-item {display: flex;flex-direction: column;z-index: 1;position: relative;background-color: white;}#sk-container-id-7 div.sk-parallel-item:first-child::after {align-self: flex-end;width: 50%;}#sk-container-id-7 div.sk-parallel-item:last-child::after {align-self: flex-start;width: 50%;}#sk-container-id-7 div.sk-parallel-item:only-child::after {width: 0;}#sk-container-id-7 div.sk-dashed-wrapped {border: 1px dashed gray;margin: 0 0.4em 0.5em 0.4em;box-sizing: border-box;padding-bottom: 0.4em;background-color: white;}#sk-container-id-7 div.sk-label label {font-family: monospace;font-weight: bold;display: inline-block;line-height: 1.2em;}#sk-container-id-7 div.sk-label-container {text-align: center;}#sk-container-id-7 div.sk-container {/* jupyter's `normalize.less` sets `[hidden] { display: none; }` but bootstrap.min.css set `[hidden] { display: none !important; }` so we also need the `!important` here to be able to override the default hidden behavior on the sphinx rendered scikit-learn.org. See: https://github.com/scikit-learn/scikit-learn/issues/21755 */display: inline-block !important;position: relative;}#sk-container-id-7 div.sk-text-repr-fallback {display: none;}</style><div id=\"sk-container-id-7\" class=\"sk-top-container\"><div class=\"sk-text-repr-fallback\"><pre>XGBClassifier(base_score=None, booster=None, callbacks=None,\n",
       "              colsample_bylevel=None, colsample_bynode=None,\n",
       "              colsample_bytree=None, device=None, early_stopping_rounds=None,\n",
       "              enable_categorical=False, eval_metric=None, feature_types=None,\n",
       "              gamma=None, grow_policy=None, importance_type=None,\n",
       "              interaction_constraints=None, learning_rate=None, max_bin=None,\n",
       "              max_cat_threshold=None, max_cat_to_onehot=None,\n",
       "              max_delta_step=None, max_depth=None, max_leaves=None,\n",
       "              min_child_weight=None, missing=nan, monotone_constraints=None,\n",
       "              multi_strategy=None, n_estimators=500, n_jobs=None, num_class=3,\n",
       "              num_parallel_tree=None, ...)</pre><b>In a Jupyter environment, please rerun this cell to show the HTML representation or trust the notebook. <br />On GitHub, the HTML representation is unable to render, please try loading this page with nbviewer.org.</b></div><div class=\"sk-container\" hidden><div class=\"sk-item\"><div class=\"sk-estimator sk-toggleable\"><input class=\"sk-toggleable__control sk-hidden--visually\" id=\"sk-estimator-id-7\" type=\"checkbox\" checked><label for=\"sk-estimator-id-7\" class=\"sk-toggleable__label sk-toggleable__label-arrow\">XGBClassifier</label><div class=\"sk-toggleable__content\"><pre>XGBClassifier(base_score=None, booster=None, callbacks=None,\n",
       "              colsample_bylevel=None, colsample_bynode=None,\n",
       "              colsample_bytree=None, device=None, early_stopping_rounds=None,\n",
       "              enable_categorical=False, eval_metric=None, feature_types=None,\n",
       "              gamma=None, grow_policy=None, importance_type=None,\n",
       "              interaction_constraints=None, learning_rate=None, max_bin=None,\n",
       "              max_cat_threshold=None, max_cat_to_onehot=None,\n",
       "              max_delta_step=None, max_depth=None, max_leaves=None,\n",
       "              min_child_weight=None, missing=nan, monotone_constraints=None,\n",
       "              multi_strategy=None, n_estimators=500, n_jobs=None, num_class=3,\n",
       "              num_parallel_tree=None, ...)</pre></div></div></div></div></div>"
      ],
      "text/plain": [
       "XGBClassifier(base_score=None, booster=None, callbacks=None,\n",
       "              colsample_bylevel=None, colsample_bynode=None,\n",
       "              colsample_bytree=None, device=None, early_stopping_rounds=None,\n",
       "              enable_categorical=False, eval_metric=None, feature_types=None,\n",
       "              gamma=None, grow_policy=None, importance_type=None,\n",
       "              interaction_constraints=None, learning_rate=None, max_bin=None,\n",
       "              max_cat_threshold=None, max_cat_to_onehot=None,\n",
       "              max_delta_step=None, max_depth=None, max_leaves=None,\n",
       "              min_child_weight=None, missing=nan, monotone_constraints=None,\n",
       "              multi_strategy=None, n_estimators=500, n_jobs=None, num_class=3,\n",
       "              num_parallel_tree=None, ...)"
      ]
     },
     "execution_count": 95,
     "metadata": {},
     "output_type": "execute_result"
    }
   ],
   "source": [
    "# Initialize XGBoost classifier\n",
    "xgb_classifier = xgb.XGBClassifier(objective='multi:softmax', num_class=3, random_state=42, n_estimators = 500)\n",
    "\n",
    "# Train the classifier on the training data and evaluate on the validation set\n",
    "xgb_classifier.fit(X_train, y_train, eval_set=[(X_valid, y_valid)], eval_metric=['merror'], early_stopping_rounds=10)"
   ]
  },
  {
   "cell_type": "code",
   "execution_count": 96,
   "metadata": {},
   "outputs": [
    {
     "name": "stdout",
     "output_type": "stream",
     "text": [
      "Accuracy: 0.8494506055783417\n"
     ]
    },
    {
     "data": {
      "image/png": "[encoded data removed]",
      "text/plain": [
       "<Figure size 432x288 with 2 Axes>"
      ]
     },
     "metadata": {
      "needs_background": "light"
     },
     "output_type": "display_data"
    }
   ],
   "source": [
    "# Make predictions on the test data\n",
    "y_pred = xgb_classifier.predict(X_test)\n",
    "\n",
    "# Calculate accuracy of the model\n",
    "accuracy = accuracy_score(y_test, y_pred)\n",
    "print(\"Accuracy:\", accuracy)\n",
    "\n",
    "cf_matrix = confusion_matrix(y_test, y_pred)\n",
    "\n",
    "class_names = target_label_encoder.inverse_transform([0,1,2])\n",
    "\n",
    "ax = sns.heatmap(cf_matrix, annot=True, cmap='Blues',fmt = 'd', xticklabels=class_names, yticklabels=class_names)\n",
    "\n",
    "ax.set_title('Confusion Matrix\\n\\n')\n",
    "ax.set_xlabel('\\nPredicted Label')\n",
    "ax.set_ylabel('Actual Label')\n",
    "\n",
    "## Display the visualization of the Confusion Matrix.\n",
    "plt.show()"
   ]
  },
  {
   "cell_type": "code",
   "execution_count": 45,
   "metadata": {},
   "outputs": [
    {
     "name": "stdout",
     "output_type": "stream",
     "text": [
      "[0.33333333 0.33333333 0.33333333]\n",
      "[0.24466874 0.7369687  0.01836256]\n",
      "[0.16331685 0.8307502  0.00593296]\n",
      "[0.26188917 0.57957074 0.15854009]\n"
     ]
    }
   ],
   "source": [
    "print(np.unique(y_train, return_counts=True)[1] / len(y_train))\n",
    "print(np.unique(y_valid, return_counts=True)[1] / len(y_valid))\n",
    "print(np.unique(y_test, return_counts=True)[1] / len(y_test))\n",
    "print(np.unique(y_gen, return_counts=True)[1] / len(y_gen))"
   ]
  },
  {
   "cell_type": "code",
   "execution_count": 100,
   "metadata": {},
   "outputs": [
    {
     "name": "stdout",
     "output_type": "stream",
     "text": [
      "Accuracy: 0.921207106910117\n"
     ]
    },
    {
     "data": {
      "image/png": "[encoded data removed]",
      "text/plain": [
       "<Figure size 432x288 with 2 Axes>"
      ]
     },
     "metadata": {
      "needs_background": "light"
     },
     "output_type": "display_data"
    }
   ],
   "source": [
    "# Make predictions on the test data\n",
    "y_pred = xgb_classifier.predict(X_train)\n",
    "\n",
    "# Calculate accuracy of the model\n",
    "accuracy = accuracy_score(y_train, y_pred)\n",
    "print(\"Accuracy:\", accuracy)\n",
    "\n",
    "cf_matrix = confusion_matrix(y_train, y_pred)\n",
    "\n",
    "class_names = target_label_encoder.inverse_transform([0,1,2])\n",
    "\n",
    "ax = sns.heatmap(cf_matrix, annot=True, cmap='Blues',fmt = 'd', xticklabels=class_names, yticklabels=class_names)\n",
    "\n",
    "ax.set_title('Train Confusion Matrix\\n\\n')\n",
    "ax.set_xlabel('\\nPredicted Label')\n",
    "ax.set_ylabel('Actual Label')\n",
    "\n",
    "## Display the visualization of the Confusion Matrix.\n",
    "plt.show()"
   ]
  },
  {
   "cell_type": "code",
   "execution_count": 101,
   "metadata": {},
   "outputs": [
    {
     "name": "stdout",
     "output_type": "stream",
     "text": [
      "Accuracy: 0.9175512076465974\n"
     ]
    },
    {
     "data": {
      "image/png": "[encoded data removed]",
      "text/plain": [
       "<Figure size 432x288 with 2 Axes>"
      ]
     },
     "metadata": {
      "needs_background": "light"
     },
     "output_type": "display_data"
    }
   ],
   "source": [
    "# Make predictions on the test data\n",
    "y_pred = xgb_classifier.predict(X_valid)\n",
    "\n",
    "# Calculate accuracy of the model\n",
    "accuracy = accuracy_score(y_valid, y_pred)\n",
    "print(\"Accuracy:\", accuracy)\n",
    "\n",
    "cf_matrix = confusion_matrix(y_valid, y_pred)\n",
    "\n",
    "class_names = target_label_encoder.inverse_transform([0,1,2])\n",
    "\n",
    "ax = sns.heatmap(cf_matrix, annot=True, cmap='Blues',fmt = 'd', xticklabels=class_names, yticklabels=class_names)\n",
    "\n",
    "ax.set_title('Valid Confusion Matrix\\n\\n')\n",
    "ax.set_xlabel('\\nPredicted Label')\n",
    "ax.set_ylabel('Actual Label')\n",
    "\n",
    "## Display the visualization of the Confusion Matrix.\n",
    "plt.show()"
   ]
  },
  {
   "cell_type": "code",
   "execution_count": 103,
   "metadata": {},
   "outputs": [
    {
     "name": "stdout",
     "output_type": "stream",
     "text": [
      "Accuracy: 0.8494506055783417\n"
     ]
    },
    {
     "data": {
      "image/png": "[encoded data removed]",
      "text/plain": [
       "<Figure size 432x288 with 2 Axes>"
      ]
     },
     "metadata": {
      "needs_background": "light"
     },
     "output_type": "display_data"
    }
   ],
   "source": [
    "# Make predictions on the test data\n",
    "y_pred = xgb_classifier.predict(X_test)\n",
    "\n",
    "# Calculate accuracy of the model\n",
    "accuracy = accuracy_score(y_test, y_pred)\n",
    "print(\"Accuracy:\", accuracy)\n",
    "\n",
    "cf_matrix = confusion_matrix(y_test, y_pred)\n",
    "\n",
    "class_names = target_label_encoder.inverse_transform([0,1,2])\n",
    "\n",
    "ax = sns.heatmap(cf_matrix, annot=True, cmap='Blues',fmt = 'd', xticklabels=class_names, yticklabels=class_names)\n",
    "\n",
    "ax.set_title('Test Confusion Matrix\\n\\n')\n",
    "ax.set_xlabel('\\nPredicted Label')\n",
    "ax.set_ylabel('Actual Label')\n",
    "\n",
    "## Display the visualization of the Confusion Matrix.\n",
    "plt.show()"
   ]
  },
  {
   "cell_type": "code",
   "execution_count": 104,
   "metadata": {},
   "outputs": [
    {
     "name": "stdout",
     "output_type": "stream",
     "text": [
      "Accuracy: 0.7529325901794415\n"
     ]
    },
    {
     "data": {
      "image/png": "[encoded data removed]",
      "text/plain": [
       "<Figure size 432x288 with 2 Axes>"
      ]
     },
     "metadata": {
      "needs_background": "light"
     },
     "output_type": "display_data"
    }
   ],
   "source": [
    "# Make predictions on the test data\n",
    "y_pred = xgb_classifier.predict(X_gen)\n",
    "\n",
    "# Calculate accuracy of the model\n",
    "accuracy = accuracy_score(y_gen, y_pred)\n",
    "print(\"Accuracy:\", accuracy)\n",
    "\n",
    "cf_matrix = confusion_matrix(y_gen, y_pred)\n",
    "\n",
    "class_names = target_label_encoder.inverse_transform([0,1,2])\n",
    "\n",
    "ax = sns.heatmap(cf_matrix, annot=True, cmap='Blues',fmt = 'd', xticklabels=class_names, yticklabels=class_names)\n",
    "\n",
    "ax.set_title('Gen Confusion Matrix\\n\\n')\n",
    "ax.set_xlabel('\\nPredicted Label')\n",
    "ax.set_ylabel('Actual Label')\n",
    "\n",
    "## Display the visualization of the Confusion Matrix.\n",
    "plt.show()"
   ]
  },
  {
   "cell_type": "code",
   "execution_count": null,
   "metadata": {},
   "outputs": [],
   "source": []
  },
  {
   "cell_type": "code",
   "execution_count": 64,
   "metadata": {},
   "outputs": [
    {
     "name": "stdout",
     "output_type": "stream",
     "text": [
      "High volume traffic: 0.39099767804145813\n",
      "Suspicious traffic: 0.15317358076572418\n",
      "victim IP num: 0.13724973797798157\n",
      "Significant flag: 0.07377023249864578\n",
      "Avg packet len: 0.05506071820855141\n",
      "CLDAP: 0.04448249191045761\n",
      "Source IP count: 0.031933121383190155\n",
      "Port number: 0.030810993164777756\n",
      "Generic UDP: 0.017998188734054565\n",
      "Data speed: 0.017854852601885796\n",
      "DNS: 0.01346905529499054\n",
      "time_of_day: 0.013193248771131039\n",
      "is_weekday: 0.007203258108347654\n",
      "NTP: 0.004250317346304655\n",
      "Packet speed: 0.0034009015653282404\n",
      "IPv4 fragmentation: 0.0023525631986558437\n",
      "CoAP: 0.002037700032815337\n",
      "SYN Attack: 0.000728628714568913\n",
      "SNMP: 3.2814750738907605e-05\n",
      "CHARGEN: 0.0\n",
      "RDP: 0.0\n",
      "SSDP: 0.0\n",
      "TCP Anomaly: 0.0\n",
      "other_attack_codes: 0.0\n"
     ]
    }
   ],
   "source": [
    "feature_importance= xgb_classifier.feature_importances_\n",
    "\n",
    "# Map feature importance scores to feature names\n",
    "\n",
    "feature_names = train_df.reindex(sorted(train_df.columns), axis=1).drop(columns=['Type', 'is_synthetic']).columns\n",
    "feature_importance_map = dict(zip(feature_names, feature_importance))\n",
    "\n",
    "# Sort feature importance scores\n",
    "sorted_feature_importance = sorted(feature_importance_map.items(), key=lambda x: x[1], reverse=True)\n",
    "\n",
    "# Print feature importance scores\n",
    "for feature, importance in sorted_feature_importance:\n",
    "    print(f\"{feature}: {importance}\")"
   ]
  }
 ],
 "metadata": {
  "kernelspec": {
   "display_name": "ddos",
   "language": "python",
   "name": "python3"
  },
  "language_info": {
   "codemirror_mode": {
    "name": "ipython",
    "version": 3
   },
   "file_extension": ".py",
   "mimetype": "text/x-python",
   "name": "python",
   "nbconvert_exporter": "python",
   "pygments_lexer": "ipython3",
   "version": "3.10.12"
  }
 },
 "nbformat": 4,
 "nbformat_minor": 2
}
