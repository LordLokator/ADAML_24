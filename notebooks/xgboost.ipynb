{
 "cells": [
  {
   "cell_type": "code",
   "execution_count": 1,
   "metadata": {},
   "outputs": [],
   "source": [
    "%load_ext autoreload\n",
    "%autoreload 2"
   ]
  },
  {
   "cell_type": "markdown",
   "metadata": {},
   "source": [
    "# Imports"
   ]
  },
  {
   "cell_type": "code",
   "execution_count": 49,
   "metadata": {},
   "outputs": [],
   "source": [
    "import numpy as np\n",
    "import pandas as pd\n",
    "\n",
    "import matplotlib.pyplot as plt\n",
    "import seaborn as sns\n",
    "\n",
    "from sklearn.preprocessing import LabelEncoder\n",
    "import xgboost as xgb\n",
    "from sklearn.metrics import accuracy_score, confusion_matrix"
   ]
  },
  {
   "cell_type": "markdown",
   "metadata": {},
   "source": [
    "# Load the data"
   ]
  },
  {
   "cell_type": "code",
   "execution_count": 4,
   "metadata": {},
   "outputs": [],
   "source": [
    "# file paths\n",
    "train_path = \"../data/preprocessed/train_vectors_scaled.csv\"\n",
    "valid_path = \"../data/preprocessed/validation_vectors_scaled.csv\"\n",
    "test_path = \"../data/preprocessed/test_vectors_scaled.csv\"\n",
    "gen_path = \"../data/preprocessed/generalisation_vectors_scaled.csv\""
   ]
  },
  {
   "cell_type": "code",
   "execution_count": 5,
   "metadata": {},
   "outputs": [],
   "source": [
    "# load the dataframes\n",
    "train_df = pd.read_csv(train_path)\n",
    "valid_df = pd.read_csv(valid_path)\n",
    "test_df = pd.read_csv(test_path)\n",
    "gen_df = pd.read_csv(gen_path)"
   ]
  },
  {
   "cell_type": "code",
   "execution_count": 15,
   "metadata": {},
   "outputs": [],
   "source": [
    "def preprocess(df, label_encoder = None):\n",
    "    # get target features\n",
    "    data_df = df.drop(columns=['Type'])\n",
    "    if \"is_synthetic\" in data_df.columns:\n",
    "        data_df.drop(columns=['is_synthetic'], inplace = True)\n",
    "    data_df = data_df.reindex(sorted(data_df.columns), axis=1)\n",
    "    target_df = df['Type']\n",
    "\n",
    "    # encode target labels\n",
    "    if label_encoder is None:\n",
    "        label_encoder = LabelEncoder()\n",
    "        label_encoder.fit(target_df)\n",
    "    target_df = label_encoder.transform(target_df)\n",
    "\n",
    "    X = data_df.to_numpy()\n",
    "    y = target_df\n",
    "\n",
    "    return X, y, label_encoder"
   ]
  },
  {
   "cell_type": "code",
   "execution_count": 16,
   "metadata": {},
   "outputs": [],
   "source": [
    "# preprocess the datasets\n",
    "X_train, y_train, target_label_encoder =  preprocess(train_df)\n",
    "X_valid, y_valid, _ =  preprocess(valid_df, label_encoder=target_label_encoder)\n",
    "X_test, y_test, _ =  preprocess(test_df, label_encoder=target_label_encoder)\n",
    "X_gen, y_gen, _ =  preprocess(gen_df, label_encoder=target_label_encoder)"
   ]
  },
  {
   "cell_type": "code",
   "execution_count": 17,
   "metadata": {},
   "outputs": [
    {
     "name": "stdout",
     "output_type": "stream",
     "text": [
      "(1346829, 24) (1247266, 24) (1233449, 24) (2452610, 24)\n"
     ]
    }
   ],
   "source": [
    "print(X_train.shape, X_valid.shape, X_test.shape, X_gen.shape)"
   ]
  },
  {
   "cell_type": "markdown",
   "metadata": {},
   "source": [
    "# Train the model"
   ]
  },
  {
   "cell_type": "code",
   "execution_count": 37,
   "metadata": {},
   "outputs": [
    {
     "name": "stderr",
     "output_type": "stream",
     "text": [
      "c:\\Users\\Maya\\.conda\\envs\\ddos\\lib\\site-packages\\xgboost\\sklearn.py:889: UserWarning: `eval_metric` in `fit` method is deprecated for better compatibility with scikit-learn, use `eval_metric` in constructor or`set_params` instead.\n",
      "  warnings.warn(\n",
      "c:\\Users\\Maya\\.conda\\envs\\ddos\\lib\\site-packages\\xgboost\\sklearn.py:889: UserWarning: `early_stopping_rounds` in `fit` method is deprecated for better compatibility with scikit-learn, use `early_stopping_rounds` in constructor or`set_params` instead.\n",
      "  warnings.warn(\n"
     ]
    },
    {
     "name": "stdout",
     "output_type": "stream",
     "text": [
      "[0]\tvalidation_0-merror:0.28786\n",
      "[1]\tvalidation_0-merror:0.22616\n",
      "[2]\tvalidation_0-merror:0.21883\n",
      "[3]\tvalidation_0-merror:0.21366\n",
      "[4]\tvalidation_0-merror:0.21601\n",
      "[5]\tvalidation_0-merror:0.21618\n",
      "[6]\tvalidation_0-merror:0.22440\n",
      "[7]\tvalidation_0-merror:0.21008\n",
      "[8]\tvalidation_0-merror:0.20446\n",
      "[9]\tvalidation_0-merror:0.19835\n",
      "[10]\tvalidation_0-merror:0.19948\n",
      "[11]\tvalidation_0-merror:0.19874\n",
      "[12]\tvalidation_0-merror:0.19764\n",
      "[13]\tvalidation_0-merror:0.19744\n",
      "[14]\tvalidation_0-merror:0.19624\n",
      "[15]\tvalidation_0-merror:0.19683\n",
      "[16]\tvalidation_0-merror:0.19505\n",
      "[17]\tvalidation_0-merror:0.19441\n",
      "[18]\tvalidation_0-merror:0.19460\n",
      "[19]\tvalidation_0-merror:0.19355\n",
      "[20]\tvalidation_0-merror:0.19366\n",
      "[21]\tvalidation_0-merror:0.19337\n",
      "[22]\tvalidation_0-merror:0.19326\n",
      "[23]\tvalidation_0-merror:0.19360\n",
      "[24]\tvalidation_0-merror:0.19319\n",
      "[25]\tvalidation_0-merror:0.19272\n",
      "[26]\tvalidation_0-merror:0.19292\n",
      "[27]\tvalidation_0-merror:0.19284\n",
      "[28]\tvalidation_0-merror:0.19275\n",
      "[29]\tvalidation_0-merror:0.19277\n",
      "[30]\tvalidation_0-merror:0.19284\n",
      "[31]\tvalidation_0-merror:0.19276\n",
      "[32]\tvalidation_0-merror:0.19256\n",
      "[33]\tvalidation_0-merror:0.19274\n",
      "[34]\tvalidation_0-merror:0.19284\n",
      "[35]\tvalidation_0-merror:0.19255\n",
      "[36]\tvalidation_0-merror:0.19245\n",
      "[37]\tvalidation_0-merror:0.19245\n",
      "[38]\tvalidation_0-merror:0.19209\n",
      "[39]\tvalidation_0-merror:0.19205\n",
      "[40]\tvalidation_0-merror:0.19185\n",
      "[41]\tvalidation_0-merror:0.19133\n",
      "[42]\tvalidation_0-merror:0.19115\n",
      "[43]\tvalidation_0-merror:0.19063\n",
      "[44]\tvalidation_0-merror:0.19058\n",
      "[45]\tvalidation_0-merror:0.19093\n",
      "[46]\tvalidation_0-merror:0.19087\n",
      "[47]\tvalidation_0-merror:0.18958\n",
      "[48]\tvalidation_0-merror:0.18931\n",
      "[49]\tvalidation_0-merror:0.18915\n",
      "[50]\tvalidation_0-merror:0.18932\n",
      "[51]\tvalidation_0-merror:0.18923\n",
      "[52]\tvalidation_0-merror:0.18847\n",
      "[53]\tvalidation_0-merror:0.18833\n",
      "[54]\tvalidation_0-merror:0.18829\n",
      "[55]\tvalidation_0-merror:0.18704\n",
      "[56]\tvalidation_0-merror:0.18673\n",
      "[57]\tvalidation_0-merror:0.18670\n",
      "[58]\tvalidation_0-merror:0.18660\n",
      "[59]\tvalidation_0-merror:0.18667\n",
      "[60]\tvalidation_0-merror:0.18681\n",
      "[61]\tvalidation_0-merror:0.18686\n",
      "[62]\tvalidation_0-merror:0.18658\n",
      "[63]\tvalidation_0-merror:0.18655\n",
      "[64]\tvalidation_0-merror:0.18640\n",
      "[65]\tvalidation_0-merror:0.18620\n",
      "[66]\tvalidation_0-merror:0.18554\n",
      "[67]\tvalidation_0-merror:0.18541\n",
      "[68]\tvalidation_0-merror:0.18527\n",
      "[69]\tvalidation_0-merror:0.18527\n",
      "[70]\tvalidation_0-merror:0.18537\n",
      "[71]\tvalidation_0-merror:0.18536\n",
      "[72]\tvalidation_0-merror:0.18539\n",
      "[73]\tvalidation_0-merror:0.18538\n",
      "[74]\tvalidation_0-merror:0.18539\n",
      "[75]\tvalidation_0-merror:0.18503\n",
      "[76]\tvalidation_0-merror:0.18503\n",
      "[77]\tvalidation_0-merror:0.18537\n",
      "[78]\tvalidation_0-merror:0.18536\n",
      "[79]\tvalidation_0-merror:0.18536\n",
      "[80]\tvalidation_0-merror:0.18544\n",
      "[81]\tvalidation_0-merror:0.18545\n",
      "[82]\tvalidation_0-merror:0.18530\n",
      "[83]\tvalidation_0-merror:0.18535\n",
      "[84]\tvalidation_0-merror:0.18449\n",
      "[85]\tvalidation_0-merror:0.18446\n",
      "[86]\tvalidation_0-merror:0.18436\n",
      "[87]\tvalidation_0-merror:0.18435\n",
      "[88]\tvalidation_0-merror:0.18442\n",
      "[89]\tvalidation_0-merror:0.18439\n",
      "[90]\tvalidation_0-merror:0.18384\n",
      "[91]\tvalidation_0-merror:0.18377\n",
      "[92]\tvalidation_0-merror:0.18371\n",
      "[93]\tvalidation_0-merror:0.18365\n",
      "[94]\tvalidation_0-merror:0.18362\n",
      "[95]\tvalidation_0-merror:0.18363\n",
      "[96]\tvalidation_0-merror:0.18371\n",
      "[97]\tvalidation_0-merror:0.18373\n",
      "[98]\tvalidation_0-merror:0.18352\n",
      "[99]\tvalidation_0-merror:0.18354\n"
     ]
    },
    {
     "data": {
      "text/html": [
       "<style>#sk-container-id-4 {color: black;background-color: white;}#sk-container-id-4 pre{padding: 0;}#sk-container-id-4 div.sk-toggleable {background-color: white;}#sk-container-id-4 label.sk-toggleable__label {cursor: pointer;display: block;width: 100%;margin-bottom: 0;padding: 0.3em;box-sizing: border-box;text-align: center;}#sk-container-id-4 label.sk-toggleable__label-arrow:before {content: \"▸\";float: left;margin-right: 0.25em;color: #696969;}#sk-container-id-4 label.sk-toggleable__label-arrow:hover:before {color: black;}#sk-container-id-4 div.sk-estimator:hover label.sk-toggleable__label-arrow:before {color: black;}#sk-container-id-4 div.sk-toggleable__content {max-height: 0;max-width: 0;overflow: hidden;text-align: left;background-color: #f0f8ff;}#sk-container-id-4 div.sk-toggleable__content pre {margin: 0.2em;color: black;border-radius: 0.25em;background-color: #f0f8ff;}#sk-container-id-4 input.sk-toggleable__control:checked~div.sk-toggleable__content {max-height: 200px;max-width: 100%;overflow: auto;}#sk-container-id-4 input.sk-toggleable__control:checked~label.sk-toggleable__label-arrow:before {content: \"▾\";}#sk-container-id-4 div.sk-estimator input.sk-toggleable__control:checked~label.sk-toggleable__label {background-color: #d4ebff;}#sk-container-id-4 div.sk-label input.sk-toggleable__control:checked~label.sk-toggleable__label {background-color: #d4ebff;}#sk-container-id-4 input.sk-hidden--visually {border: 0;clip: rect(1px 1px 1px 1px);clip: rect(1px, 1px, 1px, 1px);height: 1px;margin: -1px;overflow: hidden;padding: 0;position: absolute;width: 1px;}#sk-container-id-4 div.sk-estimator {font-family: monospace;background-color: #f0f8ff;border: 1px dotted black;border-radius: 0.25em;box-sizing: border-box;margin-bottom: 0.5em;}#sk-container-id-4 div.sk-estimator:hover {background-color: #d4ebff;}#sk-container-id-4 div.sk-parallel-item::after {content: \"\";width: 100%;border-bottom: 1px solid gray;flex-grow: 1;}#sk-container-id-4 div.sk-label:hover label.sk-toggleable__label {background-color: #d4ebff;}#sk-container-id-4 div.sk-serial::before {content: \"\";position: absolute;border-left: 1px solid gray;box-sizing: border-box;top: 0;bottom: 0;left: 50%;z-index: 0;}#sk-container-id-4 div.sk-serial {display: flex;flex-direction: column;align-items: center;background-color: white;padding-right: 0.2em;padding-left: 0.2em;position: relative;}#sk-container-id-4 div.sk-item {position: relative;z-index: 1;}#sk-container-id-4 div.sk-parallel {display: flex;align-items: stretch;justify-content: center;background-color: white;position: relative;}#sk-container-id-4 div.sk-item::before, #sk-container-id-4 div.sk-parallel-item::before {content: \"\";position: absolute;border-left: 1px solid gray;box-sizing: border-box;top: 0;bottom: 0;left: 50%;z-index: -1;}#sk-container-id-4 div.sk-parallel-item {display: flex;flex-direction: column;z-index: 1;position: relative;background-color: white;}#sk-container-id-4 div.sk-parallel-item:first-child::after {align-self: flex-end;width: 50%;}#sk-container-id-4 div.sk-parallel-item:last-child::after {align-self: flex-start;width: 50%;}#sk-container-id-4 div.sk-parallel-item:only-child::after {width: 0;}#sk-container-id-4 div.sk-dashed-wrapped {border: 1px dashed gray;margin: 0 0.4em 0.5em 0.4em;box-sizing: border-box;padding-bottom: 0.4em;background-color: white;}#sk-container-id-4 div.sk-label label {font-family: monospace;font-weight: bold;display: inline-block;line-height: 1.2em;}#sk-container-id-4 div.sk-label-container {text-align: center;}#sk-container-id-4 div.sk-container {/* jupyter's `normalize.less` sets `[hidden] { display: none; }` but bootstrap.min.css set `[hidden] { display: none !important; }` so we also need the `!important` here to be able to override the default hidden behavior on the sphinx rendered scikit-learn.org. See: https://github.com/scikit-learn/scikit-learn/issues/21755 */display: inline-block !important;position: relative;}#sk-container-id-4 div.sk-text-repr-fallback {display: none;}</style><div id=\"sk-container-id-4\" class=\"sk-top-container\"><div class=\"sk-text-repr-fallback\"><pre>XGBClassifier(base_score=None, booster=None, callbacks=None,\n",
       "              colsample_bylevel=None, colsample_bynode=None,\n",
       "              colsample_bytree=None, device=None, early_stopping_rounds=None,\n",
       "              enable_categorical=False, eval_metric=None, feature_types=None,\n",
       "              gamma=None, grow_policy=None, importance_type=None,\n",
       "              interaction_constraints=None, learning_rate=None, max_bin=None,\n",
       "              max_cat_threshold=None, max_cat_to_onehot=None,\n",
       "              max_delta_step=None, max_depth=None, max_leaves=None,\n",
       "              min_child_weight=None, missing=nan, monotone_constraints=None,\n",
       "              multi_strategy=None, n_estimators=None, n_jobs=None, num_class=3,\n",
       "              num_parallel_tree=None, ...)</pre><b>In a Jupyter environment, please rerun this cell to show the HTML representation or trust the notebook. <br />On GitHub, the HTML representation is unable to render, please try loading this page with nbviewer.org.</b></div><div class=\"sk-container\" hidden><div class=\"sk-item\"><div class=\"sk-estimator sk-toggleable\"><input class=\"sk-toggleable__control sk-hidden--visually\" id=\"sk-estimator-id-4\" type=\"checkbox\" checked><label for=\"sk-estimator-id-4\" class=\"sk-toggleable__label sk-toggleable__label-arrow\">XGBClassifier</label><div class=\"sk-toggleable__content\"><pre>XGBClassifier(base_score=None, booster=None, callbacks=None,\n",
       "              colsample_bylevel=None, colsample_bynode=None,\n",
       "              colsample_bytree=None, device=None, early_stopping_rounds=None,\n",
       "              enable_categorical=False, eval_metric=None, feature_types=None,\n",
       "              gamma=None, grow_policy=None, importance_type=None,\n",
       "              interaction_constraints=None, learning_rate=None, max_bin=None,\n",
       "              max_cat_threshold=None, max_cat_to_onehot=None,\n",
       "              max_delta_step=None, max_depth=None, max_leaves=None,\n",
       "              min_child_weight=None, missing=nan, monotone_constraints=None,\n",
       "              multi_strategy=None, n_estimators=None, n_jobs=None, num_class=3,\n",
       "              num_parallel_tree=None, ...)</pre></div></div></div></div></div>"
      ],
      "text/plain": [
       "XGBClassifier(base_score=None, booster=None, callbacks=None,\n",
       "              colsample_bylevel=None, colsample_bynode=None,\n",
       "              colsample_bytree=None, device=None, early_stopping_rounds=None,\n",
       "              enable_categorical=False, eval_metric=None, feature_types=None,\n",
       "              gamma=None, grow_policy=None, importance_type=None,\n",
       "              interaction_constraints=None, learning_rate=None, max_bin=None,\n",
       "              max_cat_threshold=None, max_cat_to_onehot=None,\n",
       "              max_delta_step=None, max_depth=None, max_leaves=None,\n",
       "              min_child_weight=None, missing=nan, monotone_constraints=None,\n",
       "              multi_strategy=None, n_estimators=None, n_jobs=None, num_class=3,\n",
       "              num_parallel_tree=None, ...)"
      ]
     },
     "execution_count": 37,
     "metadata": {},
     "output_type": "execute_result"
    }
   ],
   "source": [
    "# Initialize XGBoost classifier\n",
    "xgb_classifier = xgb.XGBClassifier(objective='multi:softmax', num_class=3, random_state=42)\n",
    "\n",
    "# Train the classifier on the training data and evaluate on the validation set\n",
    "xgb_classifier.fit(X_train, y_train, eval_set=[(X_test, y_test)], eval_metric=['merror'], early_stopping_rounds=10)"
   ]
  },
  {
   "cell_type": "code",
   "execution_count": 51,
   "metadata": {},
   "outputs": [
    {
     "name": "stdout",
     "output_type": "stream",
     "text": [
      "Accuracy: 0.8164780221962967\n"
     ]
    },
    {
     "data": {
      "image/png": "[encoded data removed]",
      "text/plain": [
       "<Figure size 432x288 with 2 Axes>"
      ]
     },
     "metadata": {
      "needs_background": "light"
     },
     "output_type": "display_data"
    }
   ],
   "source": [
    "# Make predictions on the test data\n",
    "y_pred = xgb_classifier.predict(X_test)\n",
    "\n",
    "# Calculate accuracy of the model\n",
    "accuracy = accuracy_score(y_test, y_pred)\n",
    "print(\"Accuracy:\", accuracy)\n",
    "\n",
    "cf_matrix = confusion_matrix(y_test, y_pred)\n",
    "\n",
    "class_names = target_label_encoder.inverse_transform([0,1,2])\n",
    "\n",
    "ax = sns.heatmap(cf_matrix, annot=True, cmap='Blues',fmt = 'd', xticklabels=class_names, yticklabels=class_names)\n",
    "\n",
    "ax.set_title('Confusion Matrix\\n\\n')\n",
    "ax.set_xlabel('\\nPredicted Label')\n",
    "ax.set_ylabel('Actual Label')\n",
    "\n",
    "## Display the visualization of the Confusion Matrix.\n",
    "plt.show()"
   ]
  },
  {
   "cell_type": "code",
   "execution_count": 45,
   "metadata": {},
   "outputs": [
    {
     "name": "stdout",
     "output_type": "stream",
     "text": [
      "[0.33333333 0.33333333 0.33333333]\n",
      "[0.24466874 0.7369687  0.01836256]\n",
      "[0.16331685 0.8307502  0.00593296]\n",
      "[0.26188917 0.57957074 0.15854009]\n"
     ]
    }
   ],
   "source": [
    "print(np.unique(y_train, return_counts=True)[1] / len(y_train))\n",
    "print(np.unique(y_valid, return_counts=True)[1] / len(y_valid))\n",
    "print(np.unique(y_test, return_counts=True)[1] / len(y_test))\n",
    "print(np.unique(y_gen, return_counts=True)[1] / len(y_gen))"
   ]
  },
  {
   "cell_type": "code",
   "execution_count": 52,
   "metadata": {},
   "outputs": [
    {
     "name": "stdout",
     "output_type": "stream",
     "text": [
      "Accuracy: 0.9407534289802194\n"
     ]
    },
    {
     "data": {
      "image/png": "[encoded data removed]",
      "text/plain": [
       "<Figure size 432x288 with 2 Axes>"
      ]
     },
     "metadata": {
      "needs_background": "light"
     },
     "output_type": "display_data"
    }
   ],
   "source": [
    "# Make predictions on the test data\n",
    "y_pred = xgb_classifier.predict(X_train)\n",
    "\n",
    "# Calculate accuracy of the model\n",
    "accuracy = accuracy_score(y_train, y_pred)\n",
    "print(\"Accuracy:\", accuracy)\n",
    "\n",
    "cf_matrix = confusion_matrix(y_train, y_pred)\n",
    "\n",
    "class_names = target_label_encoder.inverse_transform([0,1,2])\n",
    "\n",
    "ax = sns.heatmap(cf_matrix, annot=True, cmap='Blues',fmt = 'd', xticklabels=class_names, yticklabels=class_names)\n",
    "\n",
    "ax.set_title('Confusion Matrix\\n\\n')\n",
    "ax.set_xlabel('\\nPredicted Label')\n",
    "ax.set_ylabel('Actual Label')\n",
    "\n",
    "## Display the visualization of the Confusion Matrix.\n",
    "plt.show()"
   ]
  },
  {
   "cell_type": "code",
   "execution_count": 53,
   "metadata": {},
   "outputs": [
    {
     "name": "stdout",
     "output_type": "stream",
     "text": [
      "Accuracy: 0.6377853641484655\n"
     ]
    },
    {
     "data": {
      "image/png": "[encoded data removed]",
      "text/plain": [
       "<Figure size 432x288 with 2 Axes>"
      ]
     },
     "metadata": {
      "needs_background": "light"
     },
     "output_type": "display_data"
    }
   ],
   "source": [
    "# Make predictions on the test data\n",
    "y_pred = xgb_classifier.predict(X_valid)\n",
    "\n",
    "# Calculate accuracy of the model\n",
    "accuracy = accuracy_score(y_valid, y_pred)\n",
    "print(\"Accuracy:\", accuracy)\n",
    "\n",
    "cf_matrix = confusion_matrix(y_valid, y_pred)\n",
    "\n",
    "class_names = target_label_encoder.inverse_transform([0,1,2])\n",
    "\n",
    "ax = sns.heatmap(cf_matrix, annot=True, cmap='Blues',fmt = 'd', xticklabels=class_names, yticklabels=class_names)\n",
    "\n",
    "ax.set_title('Confusion Matrix\\n\\n')\n",
    "ax.set_xlabel('\\nPredicted Label')\n",
    "ax.set_ylabel('Actual Label')\n",
    "\n",
    "## Display the visualization of the Confusion Matrix.\n",
    "plt.show()"
   ]
  },
  {
   "cell_type": "code",
   "execution_count": 55,
   "metadata": {},
   "outputs": [
    {
     "name": "stdout",
     "output_type": "stream",
     "text": [
      "Accuracy: 0.8670086153118515\n"
     ]
    },
    {
     "data": {
      "image/png": "[encoded data removed]",
      "text/plain": [
       "<Figure size 432x288 with 2 Axes>"
      ]
     },
     "metadata": {
      "needs_background": "light"
     },
     "output_type": "display_data"
    }
   ],
   "source": [
    "# Make predictions on the test data\n",
    "y_pred = xgb_classifier.predict(X_gen)\n",
    "\n",
    "# Calculate accuracy of the model\n",
    "accuracy = accuracy_score(y_gen, y_pred)\n",
    "print(\"Accuracy:\", accuracy)\n",
    "\n",
    "cf_matrix = confusion_matrix(y_gen, y_pred)\n",
    "\n",
    "class_names = target_label_encoder.inverse_transform([0,1,2])\n",
    "\n",
    "ax = sns.heatmap(cf_matrix, annot=True, cmap='Blues',fmt = 'd', xticklabels=class_names, yticklabels=class_names)\n",
    "\n",
    "ax.set_title('Confusion Matrix\\n\\n')\n",
    "ax.set_xlabel('\\nPredicted Label')\n",
    "ax.set_ylabel('Actual Label')\n",
    "\n",
    "## Display the visualization of the Confusion Matrix.\n",
    "plt.show()"
   ]
  },
  {
   "cell_type": "code",
   "execution_count": 60,
   "metadata": {},
   "outputs": [
    {
     "data": {
      "text/plain": [
       "Index(['Port number', 'Packet speed', 'Data speed', 'Avg packet len',\n",
       "       'Source IP count', 'victim IP num', 'time_of_day', 'Significant flag',\n",
       "       'CLDAP', 'Generic UDP', 'CoAP', 'NTP', 'SYN Attack', 'CHARGEN', 'RDP',\n",
       "       'High volume traffic', 'IPv4 fragmentation', 'Suspicious traffic',\n",
       "       'SSDP', 'TCP Anomaly', 'SNMP', 'DNS', 'is_weekday', 'Type',\n",
       "       'is_synthetic', 'other_attack_codes'],\n",
       "      dtype='object')"
      ]
     },
     "execution_count": 60,
     "metadata": {},
     "output_type": "execute_result"
    }
   ],
   "source": [
    "train_df.columns"
   ]
  },
  {
   "cell_type": "code",
   "execution_count": 63,
   "metadata": {},
   "outputs": [
    {
     "data": {
      "text/plain": [
       "Index(['Avg packet len', 'CHARGEN', 'CLDAP', 'CoAP', 'DNS', 'Data speed',\n",
       "       'Generic UDP', 'High volume traffic', 'IPv4 fragmentation', 'NTP',\n",
       "       'Packet speed', 'Port number', 'RDP', 'SNMP', 'SSDP', 'SYN Attack',\n",
       "       'Significant flag', 'Source IP count', 'Suspicious traffic',\n",
       "       'TCP Anomaly', 'is_weekday', 'other_attack_codes', 'time_of_day',\n",
       "       'victim IP num'],\n",
       "      dtype='object')"
      ]
     },
     "execution_count": 63,
     "metadata": {},
     "output_type": "execute_result"
    }
   ],
   "source": [
    "train_df.reindex(sorted(train_df.columns), axis=1).drop(columns=['Type', 'is_synthetic']).columns"
   ]
  },
  {
   "cell_type": "code",
   "execution_count": 64,
   "metadata": {},
   "outputs": [
    {
     "name": "stdout",
     "output_type": "stream",
     "text": [
      "High volume traffic: 0.39099767804145813\n",
      "Suspicious traffic: 0.15317358076572418\n",
      "victim IP num: 0.13724973797798157\n",
      "Significant flag: 0.07377023249864578\n",
      "Avg packet len: 0.05506071820855141\n",
      "CLDAP: 0.04448249191045761\n",
      "Source IP count: 0.031933121383190155\n",
      "Port number: 0.030810993164777756\n",
      "Generic UDP: 0.017998188734054565\n",
      "Data speed: 0.017854852601885796\n",
      "DNS: 0.01346905529499054\n",
      "time_of_day: 0.013193248771131039\n",
      "is_weekday: 0.007203258108347654\n",
      "NTP: 0.004250317346304655\n",
      "Packet speed: 0.0034009015653282404\n",
      "IPv4 fragmentation: 0.0023525631986558437\n",
      "CoAP: 0.002037700032815337\n",
      "SYN Attack: 0.000728628714568913\n",
      "SNMP: 3.2814750738907605e-05\n",
      "CHARGEN: 0.0\n",
      "RDP: 0.0\n",
      "SSDP: 0.0\n",
      "TCP Anomaly: 0.0\n",
      "other_attack_codes: 0.0\n"
     ]
    }
   ],
   "source": [
    "feature_importance= xgb_classifier.feature_importances_\n",
    "\n",
    "# Map feature importance scores to feature names\n",
    "\n",
    "feature_names = train_df.reindex(sorted(train_df.columns), axis=1).drop(columns=['Type', 'is_synthetic']).columns\n",
    "feature_importance_map = dict(zip(feature_names, feature_importance))\n",
    "\n",
    "# Sort feature importance scores\n",
    "sorted_feature_importance = sorted(feature_importance_map.items(), key=lambda x: x[1], reverse=True)\n",
    "\n",
    "# Print feature importance scores\n",
    "for feature, importance in sorted_feature_importance:\n",
    "    print(f\"{feature}: {importance}\")"
   ]
  }
 ],
 "metadata": {
  "kernelspec": {
   "display_name": "ddos",
   "language": "python",
   "name": "python3"
  },
  "language_info": {
   "codemirror_mode": {
    "name": "ipython",
    "version": 3
   },
   "file_extension": ".py",
   "mimetype": "text/x-python",
   "name": "python",
   "nbconvert_exporter": "python",
   "pygments_lexer": "ipython3",
   "version": "3.10.12"
  }
 },
 "nbformat": 4,
 "nbformat_minor": 2
}
