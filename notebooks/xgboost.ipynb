{
 "cells": [
  {
   "cell_type": "code",
   "execution_count": 1,
   "metadata": {},
   "outputs": [],
   "source": [
    "%load_ext autoreload\n",
    "%autoreload 2"
   ]
  },
  {
   "cell_type": "markdown",
   "metadata": {},
   "source": [
    "# Imports"
   ]
  },
  {
   "cell_type": "code",
   "execution_count": 2,
   "metadata": {},
   "outputs": [],
   "source": [
    "import numpy as np\n",
    "import pandas as pd\n",
    "\n",
    "import matplotlib.pyplot as plt\n",
    "import seaborn as sns\n",
    "\n",
    "from sklearn.preprocessing import LabelEncoder\n",
    "import xgboost as xgb\n",
    "from sklearn.model_selection import train_test_split\n",
    "from sklearn.metrics import accuracy_score, confusion_matrix"
   ]
  },
  {
   "cell_type": "markdown",
   "metadata": {},
   "source": [
    "# Load the data"
   ]
  },
  {
   "cell_type": "code",
   "execution_count": 3,
   "metadata": {},
   "outputs": [],
   "source": [
    "# file paths\n",
    "train_path = \"../data/preprocessed/train_vectors_scaled.csv\"\n",
    "test_path = \"../data/preprocessed/test_vectors_scaled.csv\"\n",
    "gen_path = \"../data/preprocessed/generalisation_vectors_scaled.csv\""
   ]
  },
  {
   "cell_type": "code",
   "execution_count": 4,
   "metadata": {},
   "outputs": [],
   "source": [
    "# load the dataframes\n",
    "train_df = pd.read_csv(train_path)\n",
    "test_df = pd.read_csv(test_path)\n",
    "gen_df = pd.read_csv(gen_path)"
   ]
  },
  {
   "cell_type": "code",
   "execution_count": 8,
   "metadata": {},
   "outputs": [],
   "source": [
    "def preprocess(df, label_encoder = None, cols_to_drop = []):\n",
    "    # get target features\n",
    "    data_df = df.drop(columns=['Type'])\n",
    "    data_df.drop(columns=['is_synthetic'], inplace = True, errors ='ignore')\n",
    "    data_df = data_df.reindex(sorted(data_df.columns), axis=1)\n",
    "    target_df = df['Type']\n",
    "\n",
    "    # encode target labels\n",
    "    if label_encoder is None:\n",
    "        label_encoder = LabelEncoder()\n",
    "        label_encoder.fit(target_df)\n",
    "    target_df = label_encoder.transform(target_df)\n",
    "\n",
    "    # drop other columns if needed\n",
    "    data_df = data_df.drop(columns=cols_to_drop)\n",
    "\n",
    "    X = data_df.to_numpy()\n",
    "    y = target_df\n",
    "\n",
    "    return X, y, label_encoder"
   ]
  },
  {
   "cell_type": "code",
   "execution_count": 48,
   "metadata": {},
   "outputs": [],
   "source": [
    "# preprocess the datasets\n",
    "X_train_, y_train_, target_label_encoder =  preprocess(train_df)\n",
    "X_test, y_test, _ =  preprocess(test_df, label_encoder=target_label_encoder)\n",
    "X_gen, y_gen, _ =  preprocess(gen_df, label_encoder=target_label_encoder)"
   ]
  },
  {
   "cell_type": "code",
   "execution_count": 49,
   "metadata": {},
   "outputs": [
    {
     "name": "stdout",
     "output_type": "stream",
     "text": [
      "(2941485, 30) (1233449, 30) (2446687, 30)\n"
     ]
    }
   ],
   "source": [
    "print(X_train_.shape, X_test.shape, X_gen.shape)"
   ]
  },
  {
   "cell_type": "code",
   "execution_count": 50,
   "metadata": {},
   "outputs": [
    {
     "data": {
      "text/plain": [
       "(2941485,)"
      ]
     },
     "execution_count": 50,
     "metadata": {},
     "output_type": "execute_result"
    }
   ],
   "source": [
    "y_train_.shape"
   ]
  },
  {
   "cell_type": "code",
   "execution_count": 51,
   "metadata": {},
   "outputs": [],
   "source": [
    "# train test split\n",
    "X_train, X_valid, y_train, y_valid = train_test_split(X_train_, y_train_, test_size=0.2, random_state=42)"
   ]
  },
  {
   "cell_type": "code",
   "execution_count": 52,
   "metadata": {},
   "outputs": [
    {
     "name": "stdout",
     "output_type": "stream",
     "text": [
      "(2353188, 30) (588297, 30) (1233449, 30) (2446687, 30)\n"
     ]
    }
   ],
   "source": [
    "print(X_train.shape, X_valid.shape, X_test.shape, X_gen.shape)"
   ]
  },
  {
   "cell_type": "markdown",
   "metadata": {},
   "source": [
    "# Hyperparameter optimistaion"
   ]
  },
  {
   "cell_type": "code",
   "execution_count": 53,
   "metadata": {},
   "outputs": [],
   "source": [
    "# import packages for hyperparameters tuning\n",
    "from hyperopt import STATUS_OK, Trials, fmin, hp, tpe"
   ]
  },
  {
   "cell_type": "code",
   "execution_count": 63,
   "metadata": {},
   "outputs": [],
   "source": [
    "space={'max_depth': hp.quniform(\"max_depth\", 3, 18, 1),\n",
    "        'gamma': hp.uniform ('gamma', 1,9),\n",
    "        'reg_alpha' : hp.quniform('reg_alpha', 40,180,1),\n",
    "        'reg_lambda' : hp.uniform('reg_lambda', 0,1),\n",
    "        'colsample_bytree' : hp.uniform('colsample_bytree', 0.5,1),\n",
    "        'min_child_weight' : hp.quniform('min_child_weight', 0, 10, 1),\n",
    "        'n_estimators': 50,\n",
    "        'seed': 0\n",
    "    }"
   ]
  },
  {
   "cell_type": "code",
   "execution_count": 64,
   "metadata": {},
   "outputs": [],
   "source": [
    "def objective(space):\n",
    "    clf=xgb.XGBClassifier(\n",
    "                    n_estimators =space['n_estimators'], max_depth = int(space['max_depth']), gamma = space['gamma'],\n",
    "                    reg_alpha = int(space['reg_alpha']),min_child_weight=int(space['min_child_weight']),\n",
    "                    colsample_bytree=int(space['colsample_bytree']), verbosity=0, silent =True, eval_metric=\"merror\",\n",
    "                        early_stopping_rounds=10,)\n",
    "                \n",
    "    evaluation = [( X_train, y_train), ( X_valid, y_valid)]\n",
    "    \n",
    "    clf.fit(X_train, y_train,\n",
    "            eval_set=evaluation, verbose=False)\n",
    "    \n",
    "\n",
    "    pred = clf.predict(X_valid)\n",
    "    accuracy = accuracy_score(y_valid, pred)\n",
    "    print (\"SCORE:\", accuracy)\n",
    "    return {'loss': -accuracy, 'status': STATUS_OK }\n"
   ]
  },
  {
   "cell_type": "code",
   "execution_count": 65,
   "metadata": {},
   "outputs": [
    {
     "name": "stdout",
     "output_type": "stream",
     "text": [
      "SCORE:                                                \n",
      "0.820944182955208                                     \n",
      "SCORE:                                                                          \n",
      "0.8035703054749557                                                              \n",
      "SCORE:                                                                          \n",
      "0.8754013703962454                                                              \n",
      "SCORE:                                                                           \n",
      "0.8685969841763599                                                               \n",
      "SCORE:                                                                           \n",
      "0.8708730454175357                                                               \n",
      "SCORE:                                                                           \n",
      "0.8645565080223084                                                               \n",
      "SCORE:                                                                           \n",
      "0.8492938090794275                                                               \n",
      "SCORE:                                                                           \n",
      "0.8384302486669148                                                               \n",
      "SCORE:                                                                           \n",
      "0.8665317008245835                                                               \n",
      "SCORE:                                                                           \n",
      "0.8768734159786639                                                               \n",
      "SCORE:                                                                            \n",
      "0.8769193111642589                                                                \n",
      "SCORE:                                                                            \n",
      "0.878750019122994                                                                 \n",
      "SCORE:                                                                            \n",
      "0.8489368465247995                                                               \n",
      "SCORE:                                                                           \n",
      "0.8735349661820475                                                               \n",
      "SCORE:                                                                           \n",
      "0.8488841520524497                                                               \n",
      "SCORE:                                                                           \n",
      "0.8678830590671038                                                               \n",
      "SCORE:                                                                           \n",
      "0.8784457510407159                                                               \n",
      "SCORE:                                                                           \n",
      "0.8393532518438815                                                               \n",
      "SCORE:                                                                           \n",
      "0.8494994875037608                                                               \n",
      "SCORE:                                                                           \n",
      "0.8697341648861034                                                               \n",
      "SCORE:                                                                           \n",
      "0.8772541760369337                                                               \n",
      "SCORE:                                                                           \n",
      "0.8762580805273527                                                               \n",
      "SCORE:                                                                           \n",
      "0.8788469089592502                                                               \n",
      "SCORE:                                                                            \n",
      "0.8785035449781318                                                                \n",
      "SCORE:                                                                            \n",
      "0.8762580805273527                                                                \n",
      "SCORE:                                                                            \n",
      "0.879106981677622                                                                 \n",
      "SCORE:                                                                            \n",
      "0.8775703428710329                                                               \n",
      "SCORE:                                                                           \n",
      "0.8787993139519664                                                               \n",
      "SCORE:                                                                           \n",
      "0.878289367445355                                                                \n",
      "SCORE:                                                                           \n",
      "0.8760931978235483                                                               \n",
      "SCORE:                                                                           \n",
      "0.8778406145195369                                                               \n",
      "SCORE:                                                                           \n",
      "0.8782247742211842                                                               \n",
      "SCORE:                                                                           \n",
      "0.8788486087809388                                                               \n",
      "SCORE:                                                                           \n",
      "0.8788248112772971                                                               \n",
      "SCORE:                                                                           \n",
      "0.8034037229494626                                                               \n",
      "SCORE:                                                                           \n",
      "0.8789098023617322                                                               \n",
      "SCORE:                                                                           \n",
      "0.8764365618046667                                                               \n",
      "SCORE:                                                                           \n",
      "0.8761424926525208                                                               \n",
      "SCORE:                                                                           \n",
      "0.8783233638791291                                                               \n",
      "SCORE:                                                                           \n",
      "0.8665215018944513                                                               \n",
      "SCORE:                                                                           \n",
      "0.8718181462764556                                                               \n",
      "SCORE:                                                                           \n",
      "0.8770603963644213                                                               \n",
      "SCORE:                                                                           \n",
      "0.8784848469395561                                                               \n",
      "SCORE:                                                                           \n",
      "0.8755696527434272                                                               \n",
      "SCORE:                                                                           \n",
      "0.8731661048755985                                                               \n",
      "SCORE:                                                                           \n",
      "0.8766116434386033                                                               \n",
      "SCORE:                                                                           \n",
      "0.8657871789249307                                                               \n",
      "SCORE:                                                                           \n",
      "0.8661135446891621                                                               \n",
      "SCORE:                                                                           \n",
      "0.8788197118122308                                                               \n",
      "SCORE:                                                                           \n",
      "0.8705806760870785                                                               \n",
      "100%|██████████| 50/50 [17:49<00:00, 21.39s/trial, best loss: -0.879106981677622]\n"
     ]
    }
   ],
   "source": [
    "trials = Trials()\n",
    "\n",
    "best_hyperparams = fmin(fn = objective,\n",
    "                        space = space,\n",
    "                        algo = tpe.suggest,\n",
    "                        max_evals = 50,\n",
    "                        trials = trials)"
   ]
  },
  {
   "cell_type": "code",
   "execution_count": 66,
   "metadata": {},
   "outputs": [
    {
     "data": {
      "text/plain": [
       "{'colsample_bytree': 0.8913274327728182,\n",
       " 'gamma': 5.12997338345139,\n",
       " 'max_depth': 18.0,\n",
       " 'min_child_weight': 0.0,\n",
       " 'reg_alpha': 42.0,\n",
       " 'reg_lambda': 0.7702008901893513}"
      ]
     },
     "execution_count": 66,
     "metadata": {},
     "output_type": "execute_result"
    }
   ],
   "source": [
    "best_hyperparams"
   ]
  },
  {
   "cell_type": "markdown",
   "metadata": {},
   "source": [
    "# Train the model"
   ]
  },
  {
   "cell_type": "code",
   "execution_count": 68,
   "metadata": {},
   "outputs": [
    {
     "name": "stderr",
     "output_type": "stream",
     "text": [
      "c:\\Users\\Maya\\.conda\\envs\\ddos\\lib\\site-packages\\xgboost\\sklearn.py:889: UserWarning: `eval_metric` in `fit` method is deprecated for better compatibility with scikit-learn, use `eval_metric` in constructor or`set_params` instead.\n",
      "  warnings.warn(\n",
      "c:\\Users\\Maya\\.conda\\envs\\ddos\\lib\\site-packages\\xgboost\\sklearn.py:889: UserWarning: `early_stopping_rounds` in `fit` method is deprecated for better compatibility with scikit-learn, use `early_stopping_rounds` in constructor or`set_params` instead.\n",
      "  warnings.warn(\n"
     ]
    },
    {
     "name": "stdout",
     "output_type": "stream",
     "text": [
      "[0]\tvalidation_0-merror:0.53390\n",
      "[1]\tvalidation_0-merror:0.53330\n",
      "[2]\tvalidation_0-merror:0.48938\n",
      "[3]\tvalidation_0-merror:0.53119\n",
      "[4]\tvalidation_0-merror:0.49712\n",
      "[5]\tvalidation_0-merror:0.46634\n",
      "[6]\tvalidation_0-merror:0.46616\n",
      "[7]\tvalidation_0-merror:0.41910\n",
      "[8]\tvalidation_0-merror:0.35207\n",
      "[9]\tvalidation_0-merror:0.35185\n",
      "[10]\tvalidation_0-merror:0.33564\n",
      "[11]\tvalidation_0-merror:0.33711\n",
      "[12]\tvalidation_0-merror:0.28671\n",
      "[13]\tvalidation_0-merror:0.28389\n",
      "[14]\tvalidation_0-merror:0.28700\n",
      "[15]\tvalidation_0-merror:0.28203\n",
      "[16]\tvalidation_0-merror:0.28397\n",
      "[17]\tvalidation_0-merror:0.28590\n",
      "[18]\tvalidation_0-merror:0.28311\n",
      "[19]\tvalidation_0-merror:0.28756\n",
      "[20]\tvalidation_0-merror:0.25609\n",
      "[21]\tvalidation_0-merror:0.25164\n",
      "[22]\tvalidation_0-merror:0.25427\n",
      "[23]\tvalidation_0-merror:0.25424\n",
      "[24]\tvalidation_0-merror:0.22901\n",
      "[25]\tvalidation_0-merror:0.22343\n",
      "[26]\tvalidation_0-merror:0.21614\n",
      "[27]\tvalidation_0-merror:0.21792\n",
      "[28]\tvalidation_0-merror:0.21860\n",
      "[29]\tvalidation_0-merror:0.21136\n",
      "[30]\tvalidation_0-merror:0.19852\n",
      "[31]\tvalidation_0-merror:0.18938\n",
      "[32]\tvalidation_0-merror:0.18823\n",
      "[33]\tvalidation_0-merror:0.18174\n",
      "[34]\tvalidation_0-merror:0.18222\n",
      "[35]\tvalidation_0-merror:0.18283\n",
      "[36]\tvalidation_0-merror:0.18272\n",
      "[37]\tvalidation_0-merror:0.18284\n",
      "[38]\tvalidation_0-merror:0.18034\n",
      "[39]\tvalidation_0-merror:0.18038\n",
      "[40]\tvalidation_0-merror:0.18034\n",
      "[41]\tvalidation_0-merror:0.18075\n",
      "[42]\tvalidation_0-merror:0.17995\n",
      "[43]\tvalidation_0-merror:0.17973\n",
      "[44]\tvalidation_0-merror:0.17735\n",
      "[45]\tvalidation_0-merror:0.17736\n",
      "[46]\tvalidation_0-merror:0.17758\n",
      "[47]\tvalidation_0-merror:0.17758\n",
      "[48]\tvalidation_0-merror:0.17757\n",
      "[49]\tvalidation_0-merror:0.17612\n",
      "[50]\tvalidation_0-merror:0.17538\n",
      "[51]\tvalidation_0-merror:0.17536\n",
      "[52]\tvalidation_0-merror:0.17489\n",
      "[53]\tvalidation_0-merror:0.17291\n",
      "[54]\tvalidation_0-merror:0.17377\n",
      "[55]\tvalidation_0-merror:0.17375\n",
      "[56]\tvalidation_0-merror:0.16535\n",
      "[57]\tvalidation_0-merror:0.14147\n",
      "[58]\tvalidation_0-merror:0.14091\n",
      "[59]\tvalidation_0-merror:0.14086\n",
      "[60]\tvalidation_0-merror:0.14138\n",
      "[61]\tvalidation_0-merror:0.14183\n",
      "[62]\tvalidation_0-merror:0.14146\n",
      "[63]\tvalidation_0-merror:0.14164\n"
     ]
    },
    {
     "data": {
      "text/html": [
       "<style>#sk-container-id-5 {color: black;background-color: white;}#sk-container-id-5 pre{padding: 0;}#sk-container-id-5 div.sk-toggleable {background-color: white;}#sk-container-id-5 label.sk-toggleable__label {cursor: pointer;display: block;width: 100%;margin-bottom: 0;padding: 0.3em;box-sizing: border-box;text-align: center;}#sk-container-id-5 label.sk-toggleable__label-arrow:before {content: \"▸\";float: left;margin-right: 0.25em;color: #696969;}#sk-container-id-5 label.sk-toggleable__label-arrow:hover:before {color: black;}#sk-container-id-5 div.sk-estimator:hover label.sk-toggleable__label-arrow:before {color: black;}#sk-container-id-5 div.sk-toggleable__content {max-height: 0;max-width: 0;overflow: hidden;text-align: left;background-color: #f0f8ff;}#sk-container-id-5 div.sk-toggleable__content pre {margin: 0.2em;color: black;border-radius: 0.25em;background-color: #f0f8ff;}#sk-container-id-5 input.sk-toggleable__control:checked~div.sk-toggleable__content {max-height: 200px;max-width: 100%;overflow: auto;}#sk-container-id-5 input.sk-toggleable__control:checked~label.sk-toggleable__label-arrow:before {content: \"▾\";}#sk-container-id-5 div.sk-estimator input.sk-toggleable__control:checked~label.sk-toggleable__label {background-color: #d4ebff;}#sk-container-id-5 div.sk-label input.sk-toggleable__control:checked~label.sk-toggleable__label {background-color: #d4ebff;}#sk-container-id-5 input.sk-hidden--visually {border: 0;clip: rect(1px 1px 1px 1px);clip: rect(1px, 1px, 1px, 1px);height: 1px;margin: -1px;overflow: hidden;padding: 0;position: absolute;width: 1px;}#sk-container-id-5 div.sk-estimator {font-family: monospace;background-color: #f0f8ff;border: 1px dotted black;border-radius: 0.25em;box-sizing: border-box;margin-bottom: 0.5em;}#sk-container-id-5 div.sk-estimator:hover {background-color: #d4ebff;}#sk-container-id-5 div.sk-parallel-item::after {content: \"\";width: 100%;border-bottom: 1px solid gray;flex-grow: 1;}#sk-container-id-5 div.sk-label:hover label.sk-toggleable__label {background-color: #d4ebff;}#sk-container-id-5 div.sk-serial::before {content: \"\";position: absolute;border-left: 1px solid gray;box-sizing: border-box;top: 0;bottom: 0;left: 50%;z-index: 0;}#sk-container-id-5 div.sk-serial {display: flex;flex-direction: column;align-items: center;background-color: white;padding-right: 0.2em;padding-left: 0.2em;position: relative;}#sk-container-id-5 div.sk-item {position: relative;z-index: 1;}#sk-container-id-5 div.sk-parallel {display: flex;align-items: stretch;justify-content: center;background-color: white;position: relative;}#sk-container-id-5 div.sk-item::before, #sk-container-id-5 div.sk-parallel-item::before {content: \"\";position: absolute;border-left: 1px solid gray;box-sizing: border-box;top: 0;bottom: 0;left: 50%;z-index: -1;}#sk-container-id-5 div.sk-parallel-item {display: flex;flex-direction: column;z-index: 1;position: relative;background-color: white;}#sk-container-id-5 div.sk-parallel-item:first-child::after {align-self: flex-end;width: 50%;}#sk-container-id-5 div.sk-parallel-item:last-child::after {align-self: flex-start;width: 50%;}#sk-container-id-5 div.sk-parallel-item:only-child::after {width: 0;}#sk-container-id-5 div.sk-dashed-wrapped {border: 1px dashed gray;margin: 0 0.4em 0.5em 0.4em;box-sizing: border-box;padding-bottom: 0.4em;background-color: white;}#sk-container-id-5 div.sk-label label {font-family: monospace;font-weight: bold;display: inline-block;line-height: 1.2em;}#sk-container-id-5 div.sk-label-container {text-align: center;}#sk-container-id-5 div.sk-container {/* jupyter's `normalize.less` sets `[hidden] { display: none; }` but bootstrap.min.css set `[hidden] { display: none !important; }` so we also need the `!important` here to be able to override the default hidden behavior on the sphinx rendered scikit-learn.org. See: https://github.com/scikit-learn/scikit-learn/issues/21755 */display: inline-block !important;position: relative;}#sk-container-id-5 div.sk-text-repr-fallback {display: none;}</style><div id=\"sk-container-id-5\" class=\"sk-top-container\"><div class=\"sk-text-repr-fallback\"><pre>XGBClassifier(base_score=None, booster=None, callbacks=None,\n",
       "              colsample_bylevel=None, colsample_bynode=None, colsample_bytree=0,\n",
       "              device=None, early_stopping_rounds=None, enable_categorical=False,\n",
       "              eval_metric=None, feature_types=None, gamma=5.12997338345139,\n",
       "              grow_policy=None, importance_type=None,\n",
       "              interaction_constraints=None, learning_rate=None, max_bin=None,\n",
       "              max_cat_threshold=None, max_cat_to_onehot=None,\n",
       "              max_delta_step=None, max_depth=18, max_leaves=None,\n",
       "              min_child_weight=0, missing=nan, monotone_constraints=None,\n",
       "              multi_strategy=None, n_estimators=300, n_jobs=None, num_class=3,\n",
       "              num_parallel_tree=None, ...)</pre><b>In a Jupyter environment, please rerun this cell to show the HTML representation or trust the notebook. <br />On GitHub, the HTML representation is unable to render, please try loading this page with nbviewer.org.</b></div><div class=\"sk-container\" hidden><div class=\"sk-item\"><div class=\"sk-estimator sk-toggleable\"><input class=\"sk-toggleable__control sk-hidden--visually\" id=\"sk-estimator-id-5\" type=\"checkbox\" checked><label for=\"sk-estimator-id-5\" class=\"sk-toggleable__label sk-toggleable__label-arrow\">XGBClassifier</label><div class=\"sk-toggleable__content\"><pre>XGBClassifier(base_score=None, booster=None, callbacks=None,\n",
       "              colsample_bylevel=None, colsample_bynode=None, colsample_bytree=0,\n",
       "              device=None, early_stopping_rounds=None, enable_categorical=False,\n",
       "              eval_metric=None, feature_types=None, gamma=5.12997338345139,\n",
       "              grow_policy=None, importance_type=None,\n",
       "              interaction_constraints=None, learning_rate=None, max_bin=None,\n",
       "              max_cat_threshold=None, max_cat_to_onehot=None,\n",
       "              max_delta_step=None, max_depth=18, max_leaves=None,\n",
       "              min_child_weight=0, missing=nan, monotone_constraints=None,\n",
       "              multi_strategy=None, n_estimators=300, n_jobs=None, num_class=3,\n",
       "              num_parallel_tree=None, ...)</pre></div></div></div></div></div>"
      ],
      "text/plain": [
       "XGBClassifier(base_score=None, booster=None, callbacks=None,\n",
       "              colsample_bylevel=None, colsample_bynode=None, colsample_bytree=0,\n",
       "              device=None, early_stopping_rounds=None, enable_categorical=False,\n",
       "              eval_metric=None, feature_types=None, gamma=5.12997338345139,\n",
       "              grow_policy=None, importance_type=None,\n",
       "              interaction_constraints=None, learning_rate=None, max_bin=None,\n",
       "              max_cat_threshold=None, max_cat_to_onehot=None,\n",
       "              max_delta_step=None, max_depth=18, max_leaves=None,\n",
       "              min_child_weight=0, missing=nan, monotone_constraints=None,\n",
       "              multi_strategy=None, n_estimators=300, n_jobs=None, num_class=3,\n",
       "              num_parallel_tree=None, ...)"
      ]
     },
     "execution_count": 68,
     "metadata": {},
     "output_type": "execute_result"
    }
   ],
   "source": [
    "# Initialize XGBoost classifier\n",
    "xgb_classifier = xgb.XGBClassifier(objective='multi:softmax', num_class=3, random_state=42, n_estimators = 300, max_depth = int(best_hyperparams['max_depth']), gamma = best_hyperparams['gamma'],\n",
    "                    reg_alpha = int(best_hyperparams['reg_alpha']),min_child_weight=int(best_hyperparams['min_child_weight']),\n",
    "                    colsample_bytree=int(best_hyperparams['colsample_bytree'])\n",
    "\n",
    ")\n",
    "\n",
    "# Train the classifier on the training data and evaluate on the validation set\n",
    "xgb_classifier.fit(X_train, y_train, eval_set=[(X_valid, y_valid)], eval_metric=['merror'], early_stopping_rounds=5)"
   ]
  },
  {
   "cell_type": "code",
   "execution_count": 75,
   "metadata": {},
   "outputs": [
    {
     "name": "stdout",
     "output_type": "stream",
     "text": [
      "Accuracy: 0.7792198947828406\n"
     ]
    },
    {
     "data": {
      "image/png": "[encoded data removed]",
      "text/plain": [
       "<Figure size 432x288 with 2 Axes>"
      ]
     },
     "metadata": {
      "needs_background": "light"
     },
     "output_type": "display_data"
    }
   ],
   "source": [
    "# Make predictions on the test data\n",
    "y_pred = xgb_classifier.predict(X_test)\n",
    "\n",
    "# Calculate accuracy of the model\n",
    "accuracy = accuracy_score(y_test, y_pred)\n",
    "print(\"Accuracy:\", accuracy)\n",
    "\n",
    "cf_matrix = confusion_matrix(y_test, y_pred)\n",
    "\n",
    "class_names = target_label_encoder.inverse_transform([0,1,2])\n",
    "\n",
    "ax = sns.heatmap(cf_matrix, annot=True, cmap='Blues',fmt = 'd', xticklabels=class_names, yticklabels=class_names)\n",
    "\n",
    "ax.set_title('Confusion Matrix\\n\\n')\n",
    "ax.set_xlabel('\\nPredicted Label')\n",
    "ax.set_ylabel('Actual Label')\n",
    "\n",
    "## Display the visualization of the Confusion Matrix.\n",
    "plt.show()"
   ]
  },
  {
   "cell_type": "code",
   "execution_count": 77,
   "metadata": {},
   "outputs": [
    {
     "name": "stdout",
     "output_type": "stream",
     "text": [
      "              precision    recall  f1-score   support\n",
      "\n",
      "           0       0.41      0.74      0.53    201443\n",
      "           1       0.94      0.79      0.86   1024688\n",
      "           2       0.60      0.46      0.52      7318\n",
      "\n",
      "    accuracy                           0.78   1233449\n",
      "   macro avg       0.65      0.66      0.63   1233449\n",
      "weighted avg       0.85      0.78      0.80   1233449\n",
      "\n"
     ]
    }
   ],
   "source": [
    "from sklearn.metrics import classification_report\n",
    "\n",
    "print(classification_report(y_test, y_pred))"
   ]
  },
  {
   "cell_type": "code",
   "execution_count": 78,
   "metadata": {},
   "outputs": [
    {
     "name": "stdout",
     "output_type": "stream",
     "text": [
      "Accuracy: 0.8583003142970302\n"
     ]
    },
    {
     "data": {
      "image/png": "[encoded data removed]",
      "text/plain": [
       "<Figure size 432x288 with 2 Axes>"
      ]
     },
     "metadata": {
      "needs_background": "light"
     },
     "output_type": "display_data"
    }
   ],
   "source": [
    "# Make predictions on the train data\n",
    "y_pred = xgb_classifier.predict(X_train)\n",
    "\n",
    "# Calculate accuracy of the model\n",
    "accuracy = accuracy_score(y_train, y_pred)\n",
    "print(\"Accuracy:\", accuracy)\n",
    "\n",
    "cf_matrix = confusion_matrix(y_train, y_pred)\n",
    "\n",
    "class_names = target_label_encoder.inverse_transform([0,1,2])\n",
    "\n",
    "ax = sns.heatmap(cf_matrix, annot=True, cmap='Blues',fmt = 'd', xticklabels=class_names, yticklabels=class_names)\n",
    "\n",
    "ax.set_title('Train Confusion Matrix\\n\\n')\n",
    "ax.set_xlabel('\\nPredicted Label')\n",
    "ax.set_ylabel('Actual Label')\n",
    "\n",
    "## Display the visualization of the Confusion Matrix.\n",
    "plt.show()"
   ]
  },
  {
   "cell_type": "code",
   "execution_count": 79,
   "metadata": {},
   "outputs": [
    {
     "name": "stdout",
     "output_type": "stream",
     "text": [
      "Accuracy: 0.859139176300406\n"
     ]
    },
    {
     "data": {
      "image/png": "[encoded data removed]",
      "text/plain": [
       "<Figure size 432x288 with 2 Axes>"
      ]
     },
     "metadata": {
      "needs_background": "light"
     },
     "output_type": "display_data"
    }
   ],
   "source": [
    "# Make predictions on the valid data\n",
    "y_pred = xgb_classifier.predict(X_valid)\n",
    "\n",
    "# Calculate accuracy of the model\n",
    "accuracy = accuracy_score(y_valid, y_pred)\n",
    "print(\"Accuracy:\", accuracy)\n",
    "\n",
    "cf_matrix = confusion_matrix(y_valid, y_pred)\n",
    "\n",
    "class_names = target_label_encoder.inverse_transform([0,1,2])\n",
    "\n",
    "ax = sns.heatmap(cf_matrix, annot=True, cmap='Blues',fmt = 'd', xticklabels=class_names, yticklabels=class_names)\n",
    "\n",
    "ax.set_title('Valid Confusion Matrix\\n\\n')\n",
    "ax.set_xlabel('\\nPredicted Label')\n",
    "ax.set_ylabel('Actual Label')\n",
    "\n",
    "## Display the visualization of the Confusion Matrix.\n",
    "plt.show()"
   ]
  },
  {
   "cell_type": "code",
   "execution_count": 80,
   "metadata": {},
   "outputs": [
    {
     "name": "stdout",
     "output_type": "stream",
     "text": [
      "Accuracy: 0.7807708955007322\n"
     ]
    },
    {
     "data": {
      "image/png": "[encoded data removed]",
      "text/plain": [
       "<Figure size 432x288 with 2 Axes>"
      ]
     },
     "metadata": {
      "needs_background": "light"
     },
     "output_type": "display_data"
    }
   ],
   "source": [
    "# Make predictions on the gen data\n",
    "y_pred = xgb_classifier.predict(X_gen)\n",
    "\n",
    "# Calculate accuracy of the model\n",
    "accuracy = accuracy_score(y_gen, y_pred)\n",
    "print(\"Accuracy:\", accuracy)\n",
    "\n",
    "cf_matrix = confusion_matrix(y_gen, y_pred)\n",
    "\n",
    "class_names = target_label_encoder.inverse_transform([0,1,2])\n",
    "\n",
    "ax = sns.heatmap(cf_matrix, annot=True, cmap='Blues',fmt = 'd', xticklabels=class_names, yticklabels=class_names)\n",
    "\n",
    "ax.set_title('Gen Confusion Matrix\\n\\n')\n",
    "ax.set_xlabel('\\nPredicted Label')\n",
    "ax.set_ylabel('Actual Label')\n",
    "\n",
    "## Display the visualization of the Confusion Matrix.\n",
    "plt.show()"
   ]
  },
  {
   "cell_type": "code",
   "execution_count": 81,
   "metadata": {},
   "outputs": [
    {
     "name": "stdout",
     "output_type": "stream",
     "text": [
      "              precision    recall  f1-score   support\n",
      "\n",
      "           0       0.78      0.63      0.70    636601\n",
      "           1       0.83      0.98      0.90   1421249\n",
      "           2       0.45      0.28      0.34    388837\n",
      "\n",
      "    accuracy                           0.78   2446687\n",
      "   macro avg       0.68      0.63      0.65   2446687\n",
      "weighted avg       0.76      0.78      0.76   2446687\n",
      "\n"
     ]
    }
   ],
   "source": [
    "print(classification_report(y_gen, y_pred))"
   ]
  },
  {
   "cell_type": "code",
   "execution_count": 84,
   "metadata": {},
   "outputs": [
    {
     "name": "stdout",
     "output_type": "stream",
     "text": [
      "Suspicious traffic: 0.2171708345413208\n",
      "High volume traffic: 0.18517321348190308\n",
      "Significant flag: 0.14632369577884674\n",
      "DNS: 0.0985897034406662\n",
      "NTP: 0.0433206781744957\n",
      "Source IP count: 0.03922516107559204\n",
      "is_weekday: 0.03727903217077255\n",
      "victim IP num: 0.03262806311249733\n",
      "ICMP: 0.03250408545136452\n",
      "CLDAP: 0.027677031233906746\n",
      "Generic UDP: 0.02098415046930313\n",
      "Avg packet len: 0.018923407420516014\n",
      "Data speed: 0.018063202500343323\n",
      "Attack duration: 0.017911236733198166\n",
      "Port number: 0.015392553992569447\n",
      "IPv4 fragmentation: 0.008668814785778522\n",
      "Packet speed: 0.007487456779927015\n",
      "TFTP: 0.007103159558027983\n",
      "Memcached: 0.006330857984721661\n",
      "time_of_day: 0.006245580967515707\n",
      "SYN Attack: 0.003914480097591877\n",
      "SSDP: 0.0030339539516717196\n",
      "CoAP: 0.001784054096788168\n",
      "TCP Anomaly: 0.0015277545899152756\n",
      "WSD: 0.001104834140278399\n",
      "CHARGEN: 0.0007739822613075376\n",
      "SNMP: 0.0005275385919958353\n",
      "RDP: 0.0003315021167509258\n",
      "RIP: 0.0\n",
      "other_attack_codes: 0.0\n"
     ]
    }
   ],
   "source": [
    "feature_importance= xgb_classifier.feature_importances_\n",
    "\n",
    "# Map feature importance scores to feature names\n",
    "\n",
    "feature_names = train_df.reindex(sorted(train_df.columns), axis=1).drop(columns=['Type', 'is_synthetic']).columns\n",
    "feature_importance_map = dict(zip(feature_names, feature_importance))\n",
    "\n",
    "# Sort feature importance scores\n",
    "sorted_feature_importance = sorted(feature_importance_map.items(), key=lambda x: x[1], reverse=True)\n",
    "\n",
    "# Print feature importance scores\n",
    "for feature, importance in sorted_feature_importance:\n",
    "    print(f\"{feature}: {importance}\")"
   ]
  },
  {
   "cell_type": "code",
   "execution_count": 89,
   "metadata": {},
   "outputs": [
    {
     "data": {
      "text/plain": [
       "{'Attack duration': 0.017911237,\n",
       " 'Avg packet len': 0.018923407,\n",
       " 'CHARGEN': 0.00077398226,\n",
       " 'CLDAP': 0.027677031,\n",
       " 'CoAP': 0.0017840541,\n",
       " 'DNS': 0.0985897,\n",
       " 'Data speed': 0.018063203,\n",
       " 'Generic UDP': 0.02098415,\n",
       " 'High volume traffic': 0.18517321,\n",
       " 'ICMP': 0.032504085,\n",
       " 'IPv4 fragmentation': 0.008668815,\n",
       " 'Memcached': 0.006330858,\n",
       " 'NTP': 0.04332068,\n",
       " 'Packet speed': 0.007487457,\n",
       " 'Port number': 0.015392554,\n",
       " 'RDP': 0.00033150212,\n",
       " 'RIP': 0.0,\n",
       " 'SNMP': 0.0005275386,\n",
       " 'SSDP': 0.003033954,\n",
       " 'SYN Attack': 0.00391448,\n",
       " 'Significant flag': 0.1463237,\n",
       " 'Source IP count': 0.03922516,\n",
       " 'Suspicious traffic': 0.21717083,\n",
       " 'TCP Anomaly': 0.0015277546,\n",
       " 'TFTP': 0.0071031596,\n",
       " 'WSD': 0.0011048341,\n",
       " 'is_weekday': 0.037279032,\n",
       " 'other_attack_codes': 0.0,\n",
       " 'time_of_day': 0.006245581,\n",
       " 'victim IP num': 0.032628063}"
      ]
     },
     "execution_count": 89,
     "metadata": {},
     "output_type": "execute_result"
    }
   ],
   "source": [
    "feature_importance_map"
   ]
  }
 ],
 "metadata": {
  "kernelspec": {
   "display_name": "ddos",
   "language": "python",
   "name": "python3"
  },
  "language_info": {
   "codemirror_mode": {
    "name": "ipython",
    "version": 3
   },
   "file_extension": ".py",
   "mimetype": "text/x-python",
   "name": "python",
   "nbconvert_exporter": "python",
   "pygments_lexer": "ipython3",
   "version": "3.10.12"
  }
 },
 "nbformat": 4,
 "nbformat_minor": 2
}
