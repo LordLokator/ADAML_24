{
 "cells": [
  {
   "cell_type": "code",
   "execution_count": 56,
   "metadata": {},
   "outputs": [
    {
     "name": "stdout",
     "output_type": "stream",
     "text": [
      "The autoreload extension is already loaded. To reload it, use:\n",
      "  %reload_ext autoreload\n"
     ]
    }
   ],
   "source": [
    "%load_ext autoreload\n",
    "%autoreload 2"
   ]
  },
  {
   "cell_type": "markdown",
   "metadata": {},
   "source": [
    "# Imports"
   ]
  },
  {
   "cell_type": "code",
   "execution_count": 57,
   "metadata": {},
   "outputs": [],
   "source": [
    "import numpy as np\n",
    "import pandas as pd\n",
    "\n",
    "import matplotlib.pyplot as plt\n",
    "import seaborn as sns\n",
    "\n",
    "from sklearn.preprocessing import LabelEncoder\n",
    "import xgboost as xgb\n",
    "from sklearn.model_selection import train_test_split\n",
    "from sklearn.metrics import accuracy_score, confusion_matrix"
   ]
  },
  {
   "cell_type": "markdown",
   "metadata": {},
   "source": [
    "# Load the data"
   ]
  },
  {
   "cell_type": "code",
   "execution_count": 58,
   "metadata": {},
   "outputs": [],
   "source": [
    "# file paths\n",
    "train_path = \"../data/preprocessed/train_vectors_scaled.csv\"\n",
    "test_path = \"../data/preprocessed/test_vectors_scaled.csv\"\n",
    "gen_path = \"../data/preprocessed/generalisation_vectors_scaled.csv\""
   ]
  },
  {
   "cell_type": "code",
   "execution_count": 59,
   "metadata": {},
   "outputs": [],
   "source": [
    "# load the dataframes\n",
    "train_df = pd.read_csv(train_path)\n",
    "test_df = pd.read_csv(test_path)\n",
    "gen_df = pd.read_csv(gen_path)"
   ]
  },
  {
   "cell_type": "code",
   "execution_count": 60,
   "metadata": {},
   "outputs": [],
   "source": [
    "def preprocess(df, label_encoder = None):\n",
    "    # get target features\n",
    "    data_df = df.drop(columns=['Type'])\n",
    "    data_df.drop(columns=['is_synthetic'], inplace = True, errors ='ignore')\n",
    "    data_df = data_df.reindex(sorted(data_df.columns), axis=1)\n",
    "    target_df = df['Type']\n",
    "\n",
    "    # encode target labels\n",
    "    if label_encoder is None:\n",
    "        label_encoder = LabelEncoder()\n",
    "        label_encoder.fit(target_df)\n",
    "    target_df = label_encoder.transform(target_df)\n",
    "\n",
    "    # drop ip, high volume traffic\n",
    "    data_df = data_df.drop(columns=['victim IP num'])\n",
    "\n",
    "    X = data_df.to_numpy()\n",
    "    y = target_df\n",
    "\n",
    "    return X, y, label_encoder"
   ]
  },
  {
   "cell_type": "code",
   "execution_count": 61,
   "metadata": {},
   "outputs": [],
   "source": [
    "# preprocess the datasets\n",
    "X_train_, y_train_, target_label_encoder =  preprocess(train_df)\n",
    "X_test, y_test, _ =  preprocess(test_df, label_encoder=target_label_encoder)\n",
    "X_gen, y_gen, _ =  preprocess(gen_df, label_encoder=target_label_encoder)"
   ]
  },
  {
   "cell_type": "code",
   "execution_count": 62,
   "metadata": {},
   "outputs": [
    {
     "name": "stdout",
     "output_type": "stream",
     "text": [
      "(2941485, 29) (1233449, 29) (2446687, 29)\n"
     ]
    }
   ],
   "source": [
    "print(X_train_.shape, X_test.shape, X_gen.shape)"
   ]
  },
  {
   "cell_type": "code",
   "execution_count": 63,
   "metadata": {},
   "outputs": [
    {
     "data": {
      "text/plain": [
       "(2941485,)"
      ]
     },
     "execution_count": 63,
     "metadata": {},
     "output_type": "execute_result"
    }
   ],
   "source": [
    "y_train_.shape"
   ]
  },
  {
   "cell_type": "code",
   "execution_count": 64,
   "metadata": {},
   "outputs": [],
   "source": [
    "# train test split\n",
    "X_train, X_valid, y_train, y_valid = train_test_split(X_train_, y_train_, test_size=0.2, random_state=42)"
   ]
  },
  {
   "cell_type": "code",
   "execution_count": 65,
   "metadata": {},
   "outputs": [
    {
     "name": "stdout",
     "output_type": "stream",
     "text": [
      "(2353188, 29) (588297, 29) (1233449, 29) (2446687, 29)\n"
     ]
    }
   ],
   "source": [
    "print(X_train.shape, X_valid.shape, X_test.shape, X_gen.shape)"
   ]
  },
  {
   "cell_type": "markdown",
   "metadata": {},
   "source": [
    "# Train the model"
   ]
  },
  {
   "cell_type": "code",
   "execution_count": 66,
   "metadata": {},
   "outputs": [
    {
     "name": "stderr",
     "output_type": "stream",
     "text": [
      "c:\\Users\\Maya\\.conda\\envs\\ddos\\lib\\site-packages\\xgboost\\sklearn.py:889: UserWarning: `eval_metric` in `fit` method is deprecated for better compatibility with scikit-learn, use `eval_metric` in constructor or`set_params` instead.\n",
      "  warnings.warn(\n",
      "c:\\Users\\Maya\\.conda\\envs\\ddos\\lib\\site-packages\\xgboost\\sklearn.py:889: UserWarning: `early_stopping_rounds` in `fit` method is deprecated for better compatibility with scikit-learn, use `early_stopping_rounds` in constructor or`set_params` instead.\n",
      "  warnings.warn(\n"
     ]
    },
    {
     "name": "stdout",
     "output_type": "stream",
     "text": [
      "[0]\tvalidation_0-merror:0.17551\n",
      "[1]\tvalidation_0-merror:0.16789\n",
      "[2]\tvalidation_0-merror:0.15188\n",
      "[3]\tvalidation_0-merror:0.16242\n",
      "[4]\tvalidation_0-merror:0.15476\n",
      "[5]\tvalidation_0-merror:0.14375\n",
      "[6]\tvalidation_0-merror:0.13737\n",
      "[7]\tvalidation_0-merror:0.13091\n",
      "[8]\tvalidation_0-merror:0.12778\n",
      "[9]\tvalidation_0-merror:0.12769\n",
      "[10]\tvalidation_0-merror:0.12442\n",
      "[11]\tvalidation_0-merror:0.12030\n",
      "[12]\tvalidation_0-merror:0.11711\n",
      "[13]\tvalidation_0-merror:0.11324\n",
      "[14]\tvalidation_0-merror:0.11277\n",
      "[15]\tvalidation_0-merror:0.11062\n",
      "[16]\tvalidation_0-merror:0.11000\n",
      "[17]\tvalidation_0-merror:0.10766\n",
      "[18]\tvalidation_0-merror:0.10325\n",
      "[19]\tvalidation_0-merror:0.10280\n",
      "[20]\tvalidation_0-merror:0.10226\n",
      "[21]\tvalidation_0-merror:0.10139\n",
      "[22]\tvalidation_0-merror:0.10036\n",
      "[23]\tvalidation_0-merror:0.09913\n",
      "[24]\tvalidation_0-merror:0.09749\n",
      "[25]\tvalidation_0-merror:0.09563\n",
      "[26]\tvalidation_0-merror:0.09401\n",
      "[27]\tvalidation_0-merror:0.09274\n",
      "[28]\tvalidation_0-merror:0.09226\n",
      "[29]\tvalidation_0-merror:0.08976\n",
      "[30]\tvalidation_0-merror:0.08632\n",
      "[31]\tvalidation_0-merror:0.08447\n",
      "[32]\tvalidation_0-merror:0.08330\n",
      "[33]\tvalidation_0-merror:0.07987\n",
      "[34]\tvalidation_0-merror:0.07956\n",
      "[35]\tvalidation_0-merror:0.07696\n",
      "[36]\tvalidation_0-merror:0.07623\n",
      "[37]\tvalidation_0-merror:0.07533\n",
      "[38]\tvalidation_0-merror:0.07445\n",
      "[39]\tvalidation_0-merror:0.07326\n",
      "[40]\tvalidation_0-merror:0.07217\n",
      "[41]\tvalidation_0-merror:0.07121\n",
      "[42]\tvalidation_0-merror:0.06671\n",
      "[43]\tvalidation_0-merror:0.06589\n",
      "[44]\tvalidation_0-merror:0.06513\n",
      "[45]\tvalidation_0-merror:0.06445\n",
      "[46]\tvalidation_0-merror:0.06319\n",
      "[47]\tvalidation_0-merror:0.06236\n",
      "[48]\tvalidation_0-merror:0.06213\n",
      "[49]\tvalidation_0-merror:0.06204\n",
      "[50]\tvalidation_0-merror:0.06157\n",
      "[51]\tvalidation_0-merror:0.05993\n",
      "[52]\tvalidation_0-merror:0.05928\n",
      "[53]\tvalidation_0-merror:0.05829\n",
      "[54]\tvalidation_0-merror:0.05745\n",
      "[55]\tvalidation_0-merror:0.05633\n",
      "[56]\tvalidation_0-merror:0.05524\n",
      "[57]\tvalidation_0-merror:0.05516\n",
      "[58]\tvalidation_0-merror:0.05434\n",
      "[59]\tvalidation_0-merror:0.05355\n",
      "[60]\tvalidation_0-merror:0.05337\n",
      "[61]\tvalidation_0-merror:0.05237\n",
      "[62]\tvalidation_0-merror:0.05228\n",
      "[63]\tvalidation_0-merror:0.05184\n",
      "[64]\tvalidation_0-merror:0.05170\n",
      "[65]\tvalidation_0-merror:0.05117\n",
      "[66]\tvalidation_0-merror:0.05065\n",
      "[67]\tvalidation_0-merror:0.05044\n",
      "[68]\tvalidation_0-merror:0.04995\n",
      "[69]\tvalidation_0-merror:0.04951\n",
      "[70]\tvalidation_0-merror:0.04948\n",
      "[71]\tvalidation_0-merror:0.04874\n",
      "[72]\tvalidation_0-merror:0.04836\n",
      "[73]\tvalidation_0-merror:0.04808\n",
      "[74]\tvalidation_0-merror:0.04777\n",
      "[75]\tvalidation_0-merror:0.04708\n",
      "[76]\tvalidation_0-merror:0.04649\n",
      "[77]\tvalidation_0-merror:0.04557\n",
      "[78]\tvalidation_0-merror:0.04534\n",
      "[79]\tvalidation_0-merror:0.04520\n",
      "[80]\tvalidation_0-merror:0.04500\n",
      "[81]\tvalidation_0-merror:0.04469\n",
      "[82]\tvalidation_0-merror:0.04424\n",
      "[83]\tvalidation_0-merror:0.04389\n",
      "[84]\tvalidation_0-merror:0.04361\n",
      "[85]\tvalidation_0-merror:0.04358\n",
      "[86]\tvalidation_0-merror:0.04320\n",
      "[87]\tvalidation_0-merror:0.04296\n",
      "[88]\tvalidation_0-merror:0.04260\n",
      "[89]\tvalidation_0-merror:0.04247\n",
      "[90]\tvalidation_0-merror:0.04215\n",
      "[91]\tvalidation_0-merror:0.04174\n",
      "[92]\tvalidation_0-merror:0.04160\n",
      "[93]\tvalidation_0-merror:0.04155\n",
      "[94]\tvalidation_0-merror:0.04123\n",
      "[95]\tvalidation_0-merror:0.04098\n",
      "[96]\tvalidation_0-merror:0.04068\n",
      "[97]\tvalidation_0-merror:0.04051\n",
      "[98]\tvalidation_0-merror:0.04020\n",
      "[99]\tvalidation_0-merror:0.03840\n",
      "[100]\tvalidation_0-merror:0.03808\n",
      "[101]\tvalidation_0-merror:0.03791\n",
      "[102]\tvalidation_0-merror:0.03773\n",
      "[103]\tvalidation_0-merror:0.03696\n",
      "[104]\tvalidation_0-merror:0.03619\n",
      "[105]\tvalidation_0-merror:0.03606\n",
      "[106]\tvalidation_0-merror:0.03542\n",
      "[107]\tvalidation_0-merror:0.03514\n",
      "[108]\tvalidation_0-merror:0.03499\n",
      "[109]\tvalidation_0-merror:0.03477\n",
      "[110]\tvalidation_0-merror:0.03470\n",
      "[111]\tvalidation_0-merror:0.03454\n",
      "[112]\tvalidation_0-merror:0.03451\n",
      "[113]\tvalidation_0-merror:0.03437\n",
      "[114]\tvalidation_0-merror:0.03402\n",
      "[115]\tvalidation_0-merror:0.03359\n",
      "[116]\tvalidation_0-merror:0.03351\n",
      "[117]\tvalidation_0-merror:0.03329\n",
      "[118]\tvalidation_0-merror:0.03290\n",
      "[119]\tvalidation_0-merror:0.03263\n",
      "[120]\tvalidation_0-merror:0.03229\n",
      "[121]\tvalidation_0-merror:0.03194\n",
      "[122]\tvalidation_0-merror:0.03186\n",
      "[123]\tvalidation_0-merror:0.03185\n",
      "[124]\tvalidation_0-merror:0.03156\n",
      "[125]\tvalidation_0-merror:0.03120\n",
      "[126]\tvalidation_0-merror:0.03095\n",
      "[127]\tvalidation_0-merror:0.03087\n",
      "[128]\tvalidation_0-merror:0.03068\n",
      "[129]\tvalidation_0-merror:0.03058\n",
      "[130]\tvalidation_0-merror:0.03022\n",
      "[131]\tvalidation_0-merror:0.03022\n",
      "[132]\tvalidation_0-merror:0.03013\n",
      "[133]\tvalidation_0-merror:0.02994\n",
      "[134]\tvalidation_0-merror:0.02994\n",
      "[135]\tvalidation_0-merror:0.02987\n",
      "[136]\tvalidation_0-merror:0.02978\n",
      "[137]\tvalidation_0-merror:0.02976\n",
      "[138]\tvalidation_0-merror:0.02969\n",
      "[139]\tvalidation_0-merror:0.02950\n",
      "[140]\tvalidation_0-merror:0.02948\n",
      "[141]\tvalidation_0-merror:0.02944\n",
      "[142]\tvalidation_0-merror:0.02935\n",
      "[143]\tvalidation_0-merror:0.02926\n",
      "[144]\tvalidation_0-merror:0.02908\n",
      "[145]\tvalidation_0-merror:0.02890\n",
      "[146]\tvalidation_0-merror:0.02882\n",
      "[147]\tvalidation_0-merror:0.02877\n",
      "[148]\tvalidation_0-merror:0.02859\n",
      "[149]\tvalidation_0-merror:0.02846\n",
      "[150]\tvalidation_0-merror:0.02840\n",
      "[151]\tvalidation_0-merror:0.02835\n",
      "[152]\tvalidation_0-merror:0.02826\n",
      "[153]\tvalidation_0-merror:0.02825\n",
      "[154]\tvalidation_0-merror:0.02816\n",
      "[155]\tvalidation_0-merror:0.02797\n",
      "[156]\tvalidation_0-merror:0.02789\n",
      "[157]\tvalidation_0-merror:0.02783\n",
      "[158]\tvalidation_0-merror:0.02781\n",
      "[159]\tvalidation_0-merror:0.02767\n",
      "[160]\tvalidation_0-merror:0.02761\n",
      "[161]\tvalidation_0-merror:0.02744\n",
      "[162]\tvalidation_0-merror:0.02742\n",
      "[163]\tvalidation_0-merror:0.02743\n",
      "[164]\tvalidation_0-merror:0.02732\n",
      "[165]\tvalidation_0-merror:0.02727\n",
      "[166]\tvalidation_0-merror:0.02720\n",
      "[167]\tvalidation_0-merror:0.02718\n",
      "[168]\tvalidation_0-merror:0.02717\n",
      "[169]\tvalidation_0-merror:0.02716\n",
      "[170]\tvalidation_0-merror:0.02697\n",
      "[171]\tvalidation_0-merror:0.02682\n",
      "[172]\tvalidation_0-merror:0.02670\n",
      "[173]\tvalidation_0-merror:0.02667\n",
      "[174]\tvalidation_0-merror:0.02658\n",
      "[175]\tvalidation_0-merror:0.02650\n",
      "[176]\tvalidation_0-merror:0.02650\n",
      "[177]\tvalidation_0-merror:0.02644\n",
      "[178]\tvalidation_0-merror:0.02638\n",
      "[179]\tvalidation_0-merror:0.02627\n",
      "[180]\tvalidation_0-merror:0.02620\n",
      "[181]\tvalidation_0-merror:0.02608\n",
      "[182]\tvalidation_0-merror:0.02607\n",
      "[183]\tvalidation_0-merror:0.02605\n",
      "[184]\tvalidation_0-merror:0.02600\n",
      "[185]\tvalidation_0-merror:0.02592\n",
      "[186]\tvalidation_0-merror:0.02583\n",
      "[187]\tvalidation_0-merror:0.02578\n",
      "[188]\tvalidation_0-merror:0.02575\n",
      "[189]\tvalidation_0-merror:0.02566\n",
      "[190]\tvalidation_0-merror:0.02565\n",
      "[191]\tvalidation_0-merror:0.02560\n",
      "[192]\tvalidation_0-merror:0.02558\n",
      "[193]\tvalidation_0-merror:0.02551\n",
      "[194]\tvalidation_0-merror:0.02549\n",
      "[195]\tvalidation_0-merror:0.02543\n",
      "[196]\tvalidation_0-merror:0.02541\n",
      "[197]\tvalidation_0-merror:0.02537\n",
      "[198]\tvalidation_0-merror:0.02528\n",
      "[199]\tvalidation_0-merror:0.02527\n",
      "[200]\tvalidation_0-merror:0.02520\n",
      "[201]\tvalidation_0-merror:0.02518\n",
      "[202]\tvalidation_0-merror:0.02510\n",
      "[203]\tvalidation_0-merror:0.02504\n",
      "[204]\tvalidation_0-merror:0.02499\n",
      "[205]\tvalidation_0-merror:0.02493\n",
      "[206]\tvalidation_0-merror:0.02486\n",
      "[207]\tvalidation_0-merror:0.02478\n",
      "[208]\tvalidation_0-merror:0.02472\n",
      "[209]\tvalidation_0-merror:0.02465\n",
      "[210]\tvalidation_0-merror:0.02461\n",
      "[211]\tvalidation_0-merror:0.02462\n",
      "[212]\tvalidation_0-merror:0.02448\n",
      "[213]\tvalidation_0-merror:0.02434\n",
      "[214]\tvalidation_0-merror:0.02423\n",
      "[215]\tvalidation_0-merror:0.02417\n",
      "[216]\tvalidation_0-merror:0.02417\n",
      "[217]\tvalidation_0-merror:0.02416\n",
      "[218]\tvalidation_0-merror:0.02411\n",
      "[219]\tvalidation_0-merror:0.02397\n",
      "[220]\tvalidation_0-merror:0.02396\n",
      "[221]\tvalidation_0-merror:0.02396\n",
      "[222]\tvalidation_0-merror:0.02395\n",
      "[223]\tvalidation_0-merror:0.02397\n",
      "[224]\tvalidation_0-merror:0.02393\n",
      "[225]\tvalidation_0-merror:0.02390\n",
      "[226]\tvalidation_0-merror:0.02387\n",
      "[227]\tvalidation_0-merror:0.02382\n",
      "[228]\tvalidation_0-merror:0.02377\n",
      "[229]\tvalidation_0-merror:0.02369\n",
      "[230]\tvalidation_0-merror:0.02369\n",
      "[231]\tvalidation_0-merror:0.02367\n",
      "[232]\tvalidation_0-merror:0.02366\n",
      "[233]\tvalidation_0-merror:0.02360\n",
      "[234]\tvalidation_0-merror:0.02354\n",
      "[235]\tvalidation_0-merror:0.02344\n",
      "[236]\tvalidation_0-merror:0.02341\n",
      "[237]\tvalidation_0-merror:0.02338\n",
      "[238]\tvalidation_0-merror:0.02333\n",
      "[239]\tvalidation_0-merror:0.02325\n",
      "[240]\tvalidation_0-merror:0.02320\n",
      "[241]\tvalidation_0-merror:0.02315\n",
      "[242]\tvalidation_0-merror:0.02312\n",
      "[243]\tvalidation_0-merror:0.02311\n",
      "[244]\tvalidation_0-merror:0.02311\n",
      "[245]\tvalidation_0-merror:0.02311\n",
      "[246]\tvalidation_0-merror:0.02310\n",
      "[247]\tvalidation_0-merror:0.02310\n",
      "[248]\tvalidation_0-merror:0.02306\n",
      "[249]\tvalidation_0-merror:0.02305\n",
      "[250]\tvalidation_0-merror:0.02300\n",
      "[251]\tvalidation_0-merror:0.02298\n",
      "[252]\tvalidation_0-merror:0.02294\n",
      "[253]\tvalidation_0-merror:0.02288\n",
      "[254]\tvalidation_0-merror:0.02287\n",
      "[255]\tvalidation_0-merror:0.02285\n",
      "[256]\tvalidation_0-merror:0.02285\n",
      "[257]\tvalidation_0-merror:0.02280\n",
      "[258]\tvalidation_0-merror:0.02280\n",
      "[259]\tvalidation_0-merror:0.02277\n",
      "[260]\tvalidation_0-merror:0.02274\n",
      "[261]\tvalidation_0-merror:0.02272\n",
      "[262]\tvalidation_0-merror:0.02270\n",
      "[263]\tvalidation_0-merror:0.02263\n",
      "[264]\tvalidation_0-merror:0.02263\n",
      "[265]\tvalidation_0-merror:0.02256\n",
      "[266]\tvalidation_0-merror:0.02252\n",
      "[267]\tvalidation_0-merror:0.02250\n",
      "[268]\tvalidation_0-merror:0.02251\n",
      "[269]\tvalidation_0-merror:0.02251\n",
      "[270]\tvalidation_0-merror:0.02249\n",
      "[271]\tvalidation_0-merror:0.02245\n",
      "[272]\tvalidation_0-merror:0.02245\n",
      "[273]\tvalidation_0-merror:0.02244\n",
      "[274]\tvalidation_0-merror:0.02239\n",
      "[275]\tvalidation_0-merror:0.02237\n",
      "[276]\tvalidation_0-merror:0.02235\n",
      "[277]\tvalidation_0-merror:0.02227\n",
      "[278]\tvalidation_0-merror:0.02224\n",
      "[279]\tvalidation_0-merror:0.02225\n",
      "[280]\tvalidation_0-merror:0.02223\n",
      "[281]\tvalidation_0-merror:0.02222\n",
      "[282]\tvalidation_0-merror:0.02220\n",
      "[283]\tvalidation_0-merror:0.02217\n",
      "[284]\tvalidation_0-merror:0.02211\n",
      "[285]\tvalidation_0-merror:0.02209\n",
      "[286]\tvalidation_0-merror:0.02208\n",
      "[287]\tvalidation_0-merror:0.02208\n",
      "[288]\tvalidation_0-merror:0.02206\n",
      "[289]\tvalidation_0-merror:0.02204\n",
      "[290]\tvalidation_0-merror:0.02203\n",
      "[291]\tvalidation_0-merror:0.02198\n",
      "[292]\tvalidation_0-merror:0.02196\n",
      "[293]\tvalidation_0-merror:0.02193\n",
      "[294]\tvalidation_0-merror:0.02191\n",
      "[295]\tvalidation_0-merror:0.02190\n",
      "[296]\tvalidation_0-merror:0.02185\n",
      "[297]\tvalidation_0-merror:0.02186\n",
      "[298]\tvalidation_0-merror:0.02186\n",
      "[299]\tvalidation_0-merror:0.02183\n",
      "[300]\tvalidation_0-merror:0.02180\n",
      "[301]\tvalidation_0-merror:0.02172\n",
      "[302]\tvalidation_0-merror:0.02173\n",
      "[303]\tvalidation_0-merror:0.02164\n",
      "[304]\tvalidation_0-merror:0.02163\n",
      "[305]\tvalidation_0-merror:0.02161\n",
      "[306]\tvalidation_0-merror:0.02158\n",
      "[307]\tvalidation_0-merror:0.02157\n",
      "[308]\tvalidation_0-merror:0.02155\n",
      "[309]\tvalidation_0-merror:0.02153\n",
      "[310]\tvalidation_0-merror:0.02151\n",
      "[311]\tvalidation_0-merror:0.02151\n",
      "[312]\tvalidation_0-merror:0.02150\n",
      "[313]\tvalidation_0-merror:0.02149\n",
      "[314]\tvalidation_0-merror:0.02145\n",
      "[315]\tvalidation_0-merror:0.02144\n",
      "[316]\tvalidation_0-merror:0.02143\n",
      "[317]\tvalidation_0-merror:0.02140\n",
      "[318]\tvalidation_0-merror:0.02141\n",
      "[319]\tvalidation_0-merror:0.02135\n",
      "[320]\tvalidation_0-merror:0.02128\n",
      "[321]\tvalidation_0-merror:0.02127\n",
      "[322]\tvalidation_0-merror:0.02127\n",
      "[323]\tvalidation_0-merror:0.02127\n",
      "[324]\tvalidation_0-merror:0.02126\n",
      "[325]\tvalidation_0-merror:0.02124\n",
      "[326]\tvalidation_0-merror:0.02122\n",
      "[327]\tvalidation_0-merror:0.02121\n",
      "[328]\tvalidation_0-merror:0.02119\n",
      "[329]\tvalidation_0-merror:0.02115\n",
      "[330]\tvalidation_0-merror:0.02112\n",
      "[331]\tvalidation_0-merror:0.02113\n",
      "[332]\tvalidation_0-merror:0.02112\n",
      "[333]\tvalidation_0-merror:0.02111\n",
      "[334]\tvalidation_0-merror:0.02111\n",
      "[335]\tvalidation_0-merror:0.02108\n",
      "[336]\tvalidation_0-merror:0.02108\n",
      "[337]\tvalidation_0-merror:0.02109\n",
      "[338]\tvalidation_0-merror:0.02107\n",
      "[339]\tvalidation_0-merror:0.02106\n",
      "[340]\tvalidation_0-merror:0.02100\n",
      "[341]\tvalidation_0-merror:0.02101\n",
      "[342]\tvalidation_0-merror:0.02101\n",
      "[343]\tvalidation_0-merror:0.02101\n",
      "[344]\tvalidation_0-merror:0.02100\n",
      "[345]\tvalidation_0-merror:0.02099\n",
      "[346]\tvalidation_0-merror:0.02099\n",
      "[347]\tvalidation_0-merror:0.02099\n",
      "[348]\tvalidation_0-merror:0.02098\n",
      "[349]\tvalidation_0-merror:0.02098\n",
      "[350]\tvalidation_0-merror:0.02096\n",
      "[351]\tvalidation_0-merror:0.02096\n",
      "[352]\tvalidation_0-merror:0.02090\n",
      "[353]\tvalidation_0-merror:0.02087\n",
      "[354]\tvalidation_0-merror:0.02085\n",
      "[355]\tvalidation_0-merror:0.02083\n",
      "[356]\tvalidation_0-merror:0.02085\n",
      "[357]\tvalidation_0-merror:0.02083\n",
      "[358]\tvalidation_0-merror:0.02082\n",
      "[359]\tvalidation_0-merror:0.02080\n",
      "[360]\tvalidation_0-merror:0.02077\n",
      "[361]\tvalidation_0-merror:0.02076\n",
      "[362]\tvalidation_0-merror:0.02077\n",
      "[363]\tvalidation_0-merror:0.02074\n",
      "[364]\tvalidation_0-merror:0.02073\n",
      "[365]\tvalidation_0-merror:0.02075\n",
      "[366]\tvalidation_0-merror:0.02075\n",
      "[367]\tvalidation_0-merror:0.02072\n",
      "[368]\tvalidation_0-merror:0.02069\n",
      "[369]\tvalidation_0-merror:0.02069\n",
      "[370]\tvalidation_0-merror:0.02066\n",
      "[371]\tvalidation_0-merror:0.02063\n",
      "[372]\tvalidation_0-merror:0.02060\n",
      "[373]\tvalidation_0-merror:0.02060\n",
      "[374]\tvalidation_0-merror:0.02058\n",
      "[375]\tvalidation_0-merror:0.02058\n",
      "[376]\tvalidation_0-merror:0.02058\n",
      "[377]\tvalidation_0-merror:0.02057\n",
      "[378]\tvalidation_0-merror:0.02055\n",
      "[379]\tvalidation_0-merror:0.02053\n",
      "[380]\tvalidation_0-merror:0.02053\n",
      "[381]\tvalidation_0-merror:0.02053\n",
      "[382]\tvalidation_0-merror:0.02051\n",
      "[383]\tvalidation_0-merror:0.02052\n",
      "[384]\tvalidation_0-merror:0.02049\n",
      "[385]\tvalidation_0-merror:0.02049\n",
      "[386]\tvalidation_0-merror:0.02047\n",
      "[387]\tvalidation_0-merror:0.02045\n",
      "[388]\tvalidation_0-merror:0.02044\n",
      "[389]\tvalidation_0-merror:0.02044\n",
      "[390]\tvalidation_0-merror:0.02043\n",
      "[391]\tvalidation_0-merror:0.02042\n",
      "[392]\tvalidation_0-merror:0.02039\n",
      "[393]\tvalidation_0-merror:0.02038\n",
      "[394]\tvalidation_0-merror:0.02038\n",
      "[395]\tvalidation_0-merror:0.02037\n",
      "[396]\tvalidation_0-merror:0.02037\n",
      "[397]\tvalidation_0-merror:0.02035\n",
      "[398]\tvalidation_0-merror:0.02035\n",
      "[399]\tvalidation_0-merror:0.02035\n",
      "[400]\tvalidation_0-merror:0.02035\n",
      "[401]\tvalidation_0-merror:0.02032\n",
      "[402]\tvalidation_0-merror:0.02032\n",
      "[403]\tvalidation_0-merror:0.02032\n",
      "[404]\tvalidation_0-merror:0.02031\n",
      "[405]\tvalidation_0-merror:0.02031\n",
      "[406]\tvalidation_0-merror:0.02031\n",
      "[407]\tvalidation_0-merror:0.02026\n",
      "[408]\tvalidation_0-merror:0.02024\n",
      "[409]\tvalidation_0-merror:0.02024\n",
      "[410]\tvalidation_0-merror:0.02023\n",
      "[411]\tvalidation_0-merror:0.02023\n",
      "[412]\tvalidation_0-merror:0.02021\n",
      "[413]\tvalidation_0-merror:0.02019\n",
      "[414]\tvalidation_0-merror:0.02020\n",
      "[415]\tvalidation_0-merror:0.02015\n",
      "[416]\tvalidation_0-merror:0.02016\n",
      "[417]\tvalidation_0-merror:0.02014\n",
      "[418]\tvalidation_0-merror:0.02013\n",
      "[419]\tvalidation_0-merror:0.02014\n",
      "[420]\tvalidation_0-merror:0.02017\n",
      "[421]\tvalidation_0-merror:0.02015\n",
      "[422]\tvalidation_0-merror:0.02014\n",
      "[423]\tvalidation_0-merror:0.02013\n"
     ]
    },
    {
     "data": {
      "text/html": [
       "<style>#sk-container-id-5 {color: black;background-color: white;}#sk-container-id-5 pre{padding: 0;}#sk-container-id-5 div.sk-toggleable {background-color: white;}#sk-container-id-5 label.sk-toggleable__label {cursor: pointer;display: block;width: 100%;margin-bottom: 0;padding: 0.3em;box-sizing: border-box;text-align: center;}#sk-container-id-5 label.sk-toggleable__label-arrow:before {content: \"▸\";float: left;margin-right: 0.25em;color: #696969;}#sk-container-id-5 label.sk-toggleable__label-arrow:hover:before {color: black;}#sk-container-id-5 div.sk-estimator:hover label.sk-toggleable__label-arrow:before {color: black;}#sk-container-id-5 div.sk-toggleable__content {max-height: 0;max-width: 0;overflow: hidden;text-align: left;background-color: #f0f8ff;}#sk-container-id-5 div.sk-toggleable__content pre {margin: 0.2em;color: black;border-radius: 0.25em;background-color: #f0f8ff;}#sk-container-id-5 input.sk-toggleable__control:checked~div.sk-toggleable__content {max-height: 200px;max-width: 100%;overflow: auto;}#sk-container-id-5 input.sk-toggleable__control:checked~label.sk-toggleable__label-arrow:before {content: \"▾\";}#sk-container-id-5 div.sk-estimator input.sk-toggleable__control:checked~label.sk-toggleable__label {background-color: #d4ebff;}#sk-container-id-5 div.sk-label input.sk-toggleable__control:checked~label.sk-toggleable__label {background-color: #d4ebff;}#sk-container-id-5 input.sk-hidden--visually {border: 0;clip: rect(1px 1px 1px 1px);clip: rect(1px, 1px, 1px, 1px);height: 1px;margin: -1px;overflow: hidden;padding: 0;position: absolute;width: 1px;}#sk-container-id-5 div.sk-estimator {font-family: monospace;background-color: #f0f8ff;border: 1px dotted black;border-radius: 0.25em;box-sizing: border-box;margin-bottom: 0.5em;}#sk-container-id-5 div.sk-estimator:hover {background-color: #d4ebff;}#sk-container-id-5 div.sk-parallel-item::after {content: \"\";width: 100%;border-bottom: 1px solid gray;flex-grow: 1;}#sk-container-id-5 div.sk-label:hover label.sk-toggleable__label {background-color: #d4ebff;}#sk-container-id-5 div.sk-serial::before {content: \"\";position: absolute;border-left: 1px solid gray;box-sizing: border-box;top: 0;bottom: 0;left: 50%;z-index: 0;}#sk-container-id-5 div.sk-serial {display: flex;flex-direction: column;align-items: center;background-color: white;padding-right: 0.2em;padding-left: 0.2em;position: relative;}#sk-container-id-5 div.sk-item {position: relative;z-index: 1;}#sk-container-id-5 div.sk-parallel {display: flex;align-items: stretch;justify-content: center;background-color: white;position: relative;}#sk-container-id-5 div.sk-item::before, #sk-container-id-5 div.sk-parallel-item::before {content: \"\";position: absolute;border-left: 1px solid gray;box-sizing: border-box;top: 0;bottom: 0;left: 50%;z-index: -1;}#sk-container-id-5 div.sk-parallel-item {display: flex;flex-direction: column;z-index: 1;position: relative;background-color: white;}#sk-container-id-5 div.sk-parallel-item:first-child::after {align-self: flex-end;width: 50%;}#sk-container-id-5 div.sk-parallel-item:last-child::after {align-self: flex-start;width: 50%;}#sk-container-id-5 div.sk-parallel-item:only-child::after {width: 0;}#sk-container-id-5 div.sk-dashed-wrapped {border: 1px dashed gray;margin: 0 0.4em 0.5em 0.4em;box-sizing: border-box;padding-bottom: 0.4em;background-color: white;}#sk-container-id-5 div.sk-label label {font-family: monospace;font-weight: bold;display: inline-block;line-height: 1.2em;}#sk-container-id-5 div.sk-label-container {text-align: center;}#sk-container-id-5 div.sk-container {/* jupyter's `normalize.less` sets `[hidden] { display: none; }` but bootstrap.min.css set `[hidden] { display: none !important; }` so we also need the `!important` here to be able to override the default hidden behavior on the sphinx rendered scikit-learn.org. See: https://github.com/scikit-learn/scikit-learn/issues/21755 */display: inline-block !important;position: relative;}#sk-container-id-5 div.sk-text-repr-fallback {display: none;}</style><div id=\"sk-container-id-5\" class=\"sk-top-container\"><div class=\"sk-text-repr-fallback\"><pre>XGBClassifier(base_score=None, booster=None, callbacks=None,\n",
       "              colsample_bylevel=None, colsample_bynode=None,\n",
       "              colsample_bytree=None, device=None, early_stopping_rounds=None,\n",
       "              enable_categorical=False, eval_metric=None, feature_types=None,\n",
       "              gamma=None, grow_policy=None, importance_type=None,\n",
       "              interaction_constraints=None, learning_rate=None, max_bin=None,\n",
       "              max_cat_threshold=None, max_cat_to_onehot=None,\n",
       "              max_delta_step=None, max_depth=None, max_leaves=None,\n",
       "              min_child_weight=None, missing=nan, monotone_constraints=None,\n",
       "              multi_strategy=None, n_estimators=500, n_jobs=None, num_class=3,\n",
       "              num_parallel_tree=None, ...)</pre><b>In a Jupyter environment, please rerun this cell to show the HTML representation or trust the notebook. <br />On GitHub, the HTML representation is unable to render, please try loading this page with nbviewer.org.</b></div><div class=\"sk-container\" hidden><div class=\"sk-item\"><div class=\"sk-estimator sk-toggleable\"><input class=\"sk-toggleable__control sk-hidden--visually\" id=\"sk-estimator-id-5\" type=\"checkbox\" checked><label for=\"sk-estimator-id-5\" class=\"sk-toggleable__label sk-toggleable__label-arrow\">XGBClassifier</label><div class=\"sk-toggleable__content\"><pre>XGBClassifier(base_score=None, booster=None, callbacks=None,\n",
       "              colsample_bylevel=None, colsample_bynode=None,\n",
       "              colsample_bytree=None, device=None, early_stopping_rounds=None,\n",
       "              enable_categorical=False, eval_metric=None, feature_types=None,\n",
       "              gamma=None, grow_policy=None, importance_type=None,\n",
       "              interaction_constraints=None, learning_rate=None, max_bin=None,\n",
       "              max_cat_threshold=None, max_cat_to_onehot=None,\n",
       "              max_delta_step=None, max_depth=None, max_leaves=None,\n",
       "              min_child_weight=None, missing=nan, monotone_constraints=None,\n",
       "              multi_strategy=None, n_estimators=500, n_jobs=None, num_class=3,\n",
       "              num_parallel_tree=None, ...)</pre></div></div></div></div></div>"
      ],
      "text/plain": [
       "XGBClassifier(base_score=None, booster=None, callbacks=None,\n",
       "              colsample_bylevel=None, colsample_bynode=None,\n",
       "              colsample_bytree=None, device=None, early_stopping_rounds=None,\n",
       "              enable_categorical=False, eval_metric=None, feature_types=None,\n",
       "              gamma=None, grow_policy=None, importance_type=None,\n",
       "              interaction_constraints=None, learning_rate=None, max_bin=None,\n",
       "              max_cat_threshold=None, max_cat_to_onehot=None,\n",
       "              max_delta_step=None, max_depth=None, max_leaves=None,\n",
       "              min_child_weight=None, missing=nan, monotone_constraints=None,\n",
       "              multi_strategy=None, n_estimators=500, n_jobs=None, num_class=3,\n",
       "              num_parallel_tree=None, ...)"
      ]
     },
     "execution_count": 66,
     "metadata": {},
     "output_type": "execute_result"
    }
   ],
   "source": [
    "# Initialize XGBoost classifier\n",
    "xgb_classifier = xgb.XGBClassifier(objective='multi:softmax', num_class=3, random_state=42, n_estimators = 500)\n",
    "\n",
    "# Train the classifier on the training data and evaluate on the validation set\n",
    "xgb_classifier.fit(X_train, y_train, eval_set=[(X_valid, y_valid)], eval_metric=['merror'], early_stopping_rounds=5)"
   ]
  },
  {
   "cell_type": "code",
   "execution_count": 67,
   "metadata": {},
   "outputs": [
    {
     "name": "stdout",
     "output_type": "stream",
     "text": [
      "Accuracy: 0.781789113291267\n"
     ]
    },
    {
     "data": {
      "image/png": "[encoded data removed]",
      "text/plain": [
       "<Figure size 432x288 with 2 Axes>"
      ]
     },
     "metadata": {
      "needs_background": "light"
     },
     "output_type": "display_data"
    }
   ],
   "source": [
    "# Make predictions on the test data\n",
    "y_pred = xgb_classifier.predict(X_test)\n",
    "\n",
    "# Calculate accuracy of the model\n",
    "accuracy = accuracy_score(y_test, y_pred)\n",
    "print(\"Accuracy:\", accuracy)\n",
    "\n",
    "cf_matrix = confusion_matrix(y_test, y_pred)\n",
    "\n",
    "class_names = target_label_encoder.inverse_transform([0,1,2])\n",
    "\n",
    "ax = sns.heatmap(cf_matrix, annot=True, cmap='Blues',fmt = 'd', xticklabels=class_names, yticklabels=class_names)\n",
    "\n",
    "ax.set_title('Confusion Matrix\\n\\n')\n",
    "ax.set_xlabel('\\nPredicted Label')\n",
    "ax.set_ylabel('Actual Label')\n",
    "\n",
    "## Display the visualization of the Confusion Matrix.\n",
    "plt.show()"
   ]
  },
  {
   "cell_type": "code",
   "execution_count": 68,
   "metadata": {},
   "outputs": [
    {
     "name": "stdout",
     "output_type": "stream",
     "text": [
      "Accuracy: 0.9814447464460978\n"
     ]
    },
    {
     "data": {
      "image/png": "[encoded data removed]",
      "text/plain": [
       "<Figure size 432x288 with 2 Axes>"
      ]
     },
     "metadata": {
      "needs_background": "light"
     },
     "output_type": "display_data"
    }
   ],
   "source": [
    "# Make predictions on the train data\n",
    "y_pred = xgb_classifier.predict(X_train)\n",
    "\n",
    "# Calculate accuracy of the model\n",
    "accuracy = accuracy_score(y_train, y_pred)\n",
    "print(\"Accuracy:\", accuracy)\n",
    "\n",
    "cf_matrix = confusion_matrix(y_train, y_pred)\n",
    "\n",
    "class_names = target_label_encoder.inverse_transform([0,1,2])\n",
    "\n",
    "ax = sns.heatmap(cf_matrix, annot=True, cmap='Blues',fmt = 'd', xticklabels=class_names, yticklabels=class_names)\n",
    "\n",
    "ax.set_title('Train Confusion Matrix\\n\\n')\n",
    "ax.set_xlabel('\\nPredicted Label')\n",
    "ax.set_ylabel('Actual Label')\n",
    "\n",
    "## Display the visualization of the Confusion Matrix.\n",
    "plt.show()"
   ]
  },
  {
   "cell_type": "code",
   "execution_count": 69,
   "metadata": {},
   "outputs": [
    {
     "name": "stdout",
     "output_type": "stream",
     "text": [
      "Accuracy: 0.9798741112057345\n"
     ]
    },
    {
     "data": {
      "image/png": "[encoded data removed]",
      "text/plain": [
       "<Figure size 432x288 with 2 Axes>"
      ]
     },
     "metadata": {
      "needs_background": "light"
     },
     "output_type": "display_data"
    }
   ],
   "source": [
    "# Make predictions on the valid data\n",
    "y_pred = xgb_classifier.predict(X_valid)\n",
    "\n",
    "# Calculate accuracy of the model\n",
    "accuracy = accuracy_score(y_valid, y_pred)\n",
    "print(\"Accuracy:\", accuracy)\n",
    "\n",
    "cf_matrix = confusion_matrix(y_valid, y_pred)\n",
    "\n",
    "class_names = target_label_encoder.inverse_transform([0,1,2])\n",
    "\n",
    "ax = sns.heatmap(cf_matrix, annot=True, cmap='Blues',fmt = 'd', xticklabels=class_names, yticklabels=class_names)\n",
    "\n",
    "ax.set_title('Valid Confusion Matrix\\n\\n')\n",
    "ax.set_xlabel('\\nPredicted Label')\n",
    "ax.set_ylabel('Actual Label')\n",
    "\n",
    "## Display the visualization of the Confusion Matrix.\n",
    "plt.show()"
   ]
  },
  {
   "cell_type": "code",
   "execution_count": 70,
   "metadata": {},
   "outputs": [
    {
     "name": "stdout",
     "output_type": "stream",
     "text": [
      "Accuracy: 0.7979202080200696\n"
     ]
    },
    {
     "data": {
      "image/png": "[encoded data removed]",
      "text/plain": [
       "<Figure size 432x288 with 2 Axes>"
      ]
     },
     "metadata": {
      "needs_background": "light"
     },
     "output_type": "display_data"
    }
   ],
   "source": [
    "# Make predictions on the gen data\n",
    "y_pred = xgb_classifier.predict(X_gen)\n",
    "\n",
    "# Calculate accuracy of the model\n",
    "accuracy = accuracy_score(y_gen, y_pred)\n",
    "print(\"Accuracy:\", accuracy)\n",
    "\n",
    "cf_matrix = confusion_matrix(y_gen, y_pred)\n",
    "\n",
    "class_names = target_label_encoder.inverse_transform([0,1,2])\n",
    "\n",
    "ax = sns.heatmap(cf_matrix, annot=True, cmap='Blues',fmt = 'd', xticklabels=class_names, yticklabels=class_names)\n",
    "\n",
    "ax.set_title('Gen Confusion Matrix\\n\\n')\n",
    "ax.set_xlabel('\\nPredicted Label')\n",
    "ax.set_ylabel('Actual Label')\n",
    "\n",
    "## Display the visualization of the Confusion Matrix.\n",
    "plt.show()"
   ]
  },
  {
   "cell_type": "code",
   "execution_count": null,
   "metadata": {},
   "outputs": [],
   "source": []
  },
  {
   "cell_type": "code",
   "execution_count": 71,
   "metadata": {},
   "outputs": [
    {
     "name": "stdout",
     "output_type": "stream",
     "text": [
      "High volume traffic: 0.37727653980255127\n",
      "DNS: 0.07219225913286209\n",
      "ICMP: 0.060405731201171875\n",
      "Significant flag: 0.05655015632510185\n",
      "Source IP count: 0.055459532886743546\n",
      "Suspicious traffic: 0.05162983387708664\n",
      "CLDAP: 0.050962939858436584\n",
      "NTP: 0.04469272121787071\n",
      "Attack duration: 0.039610862731933594\n",
      "SYN Attack: 0.039114803075790405\n",
      "Data speed: 0.03391748666763306\n",
      "Avg packet len: 0.023652032017707825\n",
      "Generic UDP: 0.02323497086763382\n",
      "Port number: 0.02005169168114662\n",
      "is_weekday: 0.013216647319495678\n",
      "time_of_day: 0.01048795972019434\n",
      "Packet speed: 0.010432918556034565\n",
      "TCP Anomaly: 0.005162945948541164\n",
      "Memcached: 0.004597200080752373\n",
      "IPv4 fragmentation: 0.001875899382866919\n",
      "SSDP: 0.0017183838644996285\n",
      "CoAP: 0.0012732089962810278\n",
      "TFTP: 0.0009689010912552476\n",
      "other_attack_codes: 0.0009573043789714575\n",
      "WSD: 0.0005570257781073451\n",
      "CHARGEN: 0.0\n",
      "RDP: 0.0\n",
      "RIP: 0.0\n",
      "SNMP: 0.0\n"
     ]
    }
   ],
   "source": [
    "feature_importance= xgb_classifier.feature_importances_\n",
    "\n",
    "# Map feature importance scores to feature names\n",
    "\n",
    "feature_names = train_df.reindex(sorted(train_df.columns), axis=1).drop(columns=['Type', 'is_synthetic']).columns\n",
    "feature_importance_map = dict(zip(feature_names, feature_importance))\n",
    "\n",
    "# Sort feature importance scores\n",
    "sorted_feature_importance = sorted(feature_importance_map.items(), key=lambda x: x[1], reverse=True)\n",
    "\n",
    "# Print feature importance scores\n",
    "for feature, importance in sorted_feature_importance:\n",
    "    print(f\"{feature}: {importance}\")"
   ]
  }
 ],
 "metadata": {
  "kernelspec": {
   "display_name": "ddos",
   "language": "python",
   "name": "python3"
  },
  "language_info": {
   "codemirror_mode": {
    "name": "ipython",
    "version": 3
   },
   "file_extension": ".py",
   "mimetype": "text/x-python",
   "name": "python",
   "nbconvert_exporter": "python",
   "pygments_lexer": "ipython3",
   "version": "3.10.12"
  }
 },
 "nbformat": 4,
 "nbformat_minor": 2
}
