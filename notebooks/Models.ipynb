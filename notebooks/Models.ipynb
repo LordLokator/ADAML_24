{
 "cells": [
  {
   "cell_type": "code",
   "execution_count": null,
   "metadata": {},
   "outputs": [],
   "source": [
    "%load_ext autoreload\n",
    "%autoreload 2"
   ]
  },
  {
   "cell_type": "markdown",
   "metadata": {},
   "source": [
    "# Loading Data"
   ]
  },
  {
   "cell_type": "code",
   "execution_count": null,
   "metadata": {},
   "outputs": [],
   "source": [
    "from dataloading import get_all_data"
   ]
  },
  {
   "cell_type": "code",
   "execution_count": null,
   "metadata": {},
   "outputs": [],
   "source": [
    "PATH_DATA = '../data/all_vectors.csv'\n",
    "TEST_SIZE = .2\n",
    "UNIQUE_COLUMNS = False\n",
    "\n",
    "(X_train, X_test, y_train, y_test), (info_data, info_label) = get_all_data(\n",
    "    path_all_vectors=PATH_DATA,\n",
    "    test_size=TEST_SIZE,\n",
    "    unique=UNIQUE_COLUMNS\n",
    "    )"
   ]
  },
  {
   "cell_type": "markdown",
   "metadata": {},
   "source": [
    "***"
   ]
  },
  {
   "cell_type": "markdown",
   "metadata": {},
   "source": [
    "# Model"
   ]
  },
  {
   "cell_type": "code",
   "execution_count": null,
   "metadata": {},
   "outputs": [],
   "source": [
    "from sklearn.ensemble import RandomForestClassifier\n",
    "\n",
    "# MODEL INIT\n",
    "model = RandomForestClassifier(\n",
    "    verbose=True,\n",
    "    max_depth=5,\n",
    "    max_features=0.4,\n",
    "    n_estimators=20,\n",
    "    bootstrap=True,\n",
    "    oob_score=False,\n",
    "    )"
   ]
  },
  {
   "cell_type": "code",
   "execution_count": null,
   "metadata": {},
   "outputs": [],
   "source": [
    "# TRAINING\n",
    "\n",
    "_ = model.fit(X_train, y_train)"
   ]
  },
  {
   "cell_type": "code",
   "execution_count": null,
   "metadata": {},
   "outputs": [],
   "source": [
    "from collections import defaultdict\n",
    "\n",
    "count = defaultdict(int)\n",
    "for tree in model.estimators_:\n",
    "    # print(tree.get_depth(), end=', ')\n",
    "    count[tree.get_depth()] += 1\n",
    "count = dict(count)\n",
    "for item, key in count.items():\n",
    "    print(f'{key} trees have length {item}')"
   ]
  },
  {
   "cell_type": "code",
   "execution_count": null,
   "metadata": {},
   "outputs": [],
   "source": [
    "import numpy as np\n",
    "\n",
    "# get predictions\n",
    "y_pred = model.predict(X_test)\n",
    "\n",
    "matches = np.count_nonzero(y_test == y_pred)\n",
    "print(f'Accuracy: {100 * matches / len(y_test)} %')"
   ]
  },
  {
   "cell_type": "code",
   "execution_count": null,
   "metadata": {},
   "outputs": [],
   "source": [
    "from prettytable import PrettyTable\n",
    "\n",
    "table = PrettyTable()\n",
    "table.field_names = [\"Property\", \"Importance (%)\"]\n",
    "\n",
    "importances = model.feature_importances_\n",
    "indices = np.argsort(importances)[::-1]\n",
    "\n",
    "for i in indices:\n",
    "    imp = 100 * importances[i]\n",
    "\n",
    "    if imp > 0:\n",
    "        if int(imp) == 0:\n",
    "            imp = '<1 %'\n",
    "        else:\n",
    "            imp = f'{int(imp)} %'\n",
    "    else:\n",
    "        imp = '0 %'\n",
    "\n",
    "\n",
    "    table.add_row([info_data[i], imp])\n",
    "\n",
    "print(table)"
   ]
  },
  {
   "cell_type": "markdown",
   "metadata": {},
   "source": [
    "# WanDB init"
   ]
  },
  {
   "cell_type": "code",
   "execution_count": null,
   "metadata": {},
   "outputs": [],
   "source": [
    "# assert False, \"WanDB not yet needed.\""
   ]
  },
  {
   "cell_type": "code",
   "execution_count": null,
   "metadata": {},
   "outputs": [],
   "source": [
    "import wandb\n",
    "\n",
    "# start a new wandb run and add your model hyperparameters\n",
    "wandb.init(project='Halado_Adatelemzes_Labor', config=model.get_params())\n",
    "\n",
    "# Add additional configs to wandb\n",
    "wandb.config.update({\"test_size\" : TEST_SIZE,\n",
    "                    \"train_len\" : len(X_train),\n",
    "                    \"test_len\" : len(X_test)})"
   ]
  },
  {
   "cell_type": "code",
   "execution_count": null,
   "metadata": {},
   "outputs": [],
   "source": [
    "from wandb.sklearn import plot_precision_recall, plot_feature_importances\n",
    "from wandb.sklearn import plot_class_proportions, plot_learning_curve, plot_roc\n",
    "\n",
    "y_probas = model.predict_proba(X_test)\n",
    "\n",
    "# log additional visualisations to wandb\n",
    "plot_class_proportions(y_train, y_test, info_data)\n",
    "# plot_learning_curve(model, X_train, y_train)\n",
    "plot_roc(y_test, y_probas, info_data)\n",
    "plot_precision_recall(y_test, y_probas, info_data)\n",
    "plot_feature_importances(model)"
   ]
  },
  {
   "cell_type": "code",
   "execution_count": null,
   "metadata": {},
   "outputs": [],
   "source": [
    "# Finish the wandb run\n",
    "wandb.finish()"
   ]
  },
  {
   "cell_type": "code",
   "execution_count": 1,
   "metadata": {},
   "outputs": [],
   "source": [
    "data = ['Round 0, MD: 14, MF: 0.6, N: 15 15 trees have length 14 Accuracy: 86.75519553321503 % Ellapsed: 16.2 sec',\n",
    "'Round 1, MD: 16, MF: 0.79, N: 33 33 trees have length 16 Accuracy: 87.44830453732096 % Ellapsed: 39.7 sec',\n",
    "'Round 2, MD: 19, MF: 0.18, N: 22 22 trees have length 19 Accuracy: 87.61462099893825 % Ellapsed: 13.6 sec',\n",
    "'Round 3, MD: 19, MF: 0.21, N: 7 7 trees have length 19 Accuracy: 87.15168209796336 % Ellapsed: 5.6 sec',\n",
    "'Round 4, MD: 13, MF: 0.43, N: 43 43 trees have length 13 Accuracy: 86.37392989464149 % Ellapsed: 30.6 sec',\n",
    "'Round 5, MD: 16, MF: 0.51, N: 68 68 trees have length 16 Accuracy: 87.38964828523274 % Ellapsed: 60.2 sec',\n",
    "'Round 6, MD: 20, MF: 0.69, N: 28 28 trees have length 20 Accuracy: 88.93958406034912 % Ellapsed: 32.3 sec',\n",
    "'Round 7, MD: 13, MF: 0.76, N: 39 39 trees have length 13 Accuracy: 86.61263856611451 % Ellapsed: 42.8 sec',\n",
    "'Round 8, MD: 4, MF: 0.26, N: 30 30 trees have length 4 Accuracy: 78.15500100235367 % Ellapsed: 7.5 sec',\n",
    "'Round 9, MD: 4, MF: 0.27, N: 15 15 trees have length 4 Accuracy: 76.49926122821736 % Ellapsed: 4.3 sec',\n",
    "'Round 10, MD: 10, MF: 0.48, N: 33 33 trees have length 10 Accuracy: 84.72524372043985 % Ellapsed: 19.1 sec',\n",
    "'Round 11, MD: 16, MF: 0.7, N: 48 48 trees have length 16 Accuracy: 87.48579998960523 % Ellapsed: 53.4 sec',\n",
    "'Round 12, MD: 18, MF: 0.54, N: 77 77 trees have length 18 Accuracy: 88.15626322549988 % Ellapsed: 72.9 sec',\n",
    "'Round 13, MD: 8, MF: 0.78, N: 20 20 trees have length 8 Accuracy: 82.89799009526072 % Ellapsed: 16.3 sec',\n",
    "'Round 14, MD: 9, MF: 0.73, N: 70 70 trees have length 9 Accuracy: 84.43418991260961 % Ellapsed: 56.1 sec',\n",
    "'Round 15, MD: 19, MF: 0.44, N: 37 37 trees have length 19 Accuracy: 88.43617977027539 % Ellapsed: 29.1 sec',\n",
    "'Round 16, MD: 18, MF: 0.68, N: 18 18 trees have length 18 Accuracy: 88.06196773163651 % Ellapsed: 19.9 sec',\n",
    "'Round 17, MD: 17, MF: 0.46, N: 24 24 trees have length 17 Accuracy: 87.88043034384444 % Ellapsed: 17.9 sec',\n",
    "'Round 18, MD: 6, MF: 0.17, N: 63 63 trees have length 6 Accuracy: 80.39024969743768 % Ellapsed: 14.3 sec',\n",
    "'Round 19, MD: 18, MF: 0.58, N: 48 48 trees have length 18 Accuracy: 87.99106049018808 % Ellapsed: 42.3 sec',\n",
    "'Round 20, MD: 12, MF: 0.29, N: 51 51 trees have length 12 Accuracy: 85.37714485124329 % Ellapsed: 20.9 sec',\n",
    "'Round 21, MD: 10, MF: 0.12, N: 74 74 trees have length 10 Accuracy: 83.8684169494294 % Ellapsed: 22.0 sec',\n",
    "'Round 22, MD: 8, MF: 0.2, N: 17 17 trees have length 8 Accuracy: 82.1454823548629 % Ellapsed: 6.7 sec',\n",
    "'Round 23, MD: 14, MF: 0.5, N: 68 68 trees have length 14 Accuracy: 87.00949637296466 % Ellapsed: 52.8 sec',\n",
    "'Round 24, MD: 8, MF: 0.52, N: 52 52 trees have length 8 Accuracy: 82.72981742313432 % Ellapsed: 29.5 sec',\n",
    "'Round 25, MD: 11, MF: 0.68, N: 67 67 trees have length 11 Accuracy: 85.58875284928313 % Ellapsed: 54.8 sec',\n",
    "'Round 26, MD: 16, MF: 0.48, N: 80 80 trees have length 16 Accuracy: 87.56524579939561 % Ellapsed: 56.8 sec',\n",
    "'Round 27, MD: 4, MF: 0.11, N: 19 19 trees have length 4 Accuracy: 75.08482882026685 % Ellapsed: 4.6 sec',\n",
    "'Round 28, MD: 4, MF: 0.63, N: 40 40 trees have length 4 Accuracy: 77.29891671554688 % Ellapsed: 20.8 sec',\n",
    "'Round 29, MD: 17, MF: 0.53, N: 24 24 trees have length 17 Accuracy: 87.70668904019067 % Ellapsed: 22.0 sec',\n",
    "'Round 30, MD: 7, MF: 0.68, N: 51 51 trees have length 7 Accuracy: 81.98733321948576 % Ellapsed: 31.7 sec',\n",
    "'Round 31, MD: 6, MF: 0.52, N: 29 29 trees have length 6 Accuracy: 81.05217436499038 % Ellapsed: 14.6 sec',\n",
    "'Round 32, MD: 18, MF: 0.31, N: 43 43 trees have length 18 Accuracy: 87.93500293281261 % Ellapsed: 26.2 sec',\n",
    "'Round 33, MD: 9, MF: 0.27, N: 60 60 trees have length 9 Accuracy: 82.59728399278305 % Ellapsed: 21.0 sec',\n",
    "'Round 34, MD: 8, MF: 0.52, N: 50 50 trees have length 8 Accuracy: 82.5612735089061 % Ellapsed: 28.2 sec',\n",
    "'Round 35, MD: 9, MF: 0.63, N: 23 23 trees have length 9 Accuracy: 84.50064224883616 % Ellapsed: 19.0 sec',\n",
    "'Round 36, MD: 16, MF: 0.25, N: 50 50 trees have length 16 Accuracy: 86.96643228915305 % Ellapsed: 23.2 sec',\n",
    "'Round 37, MD: 10, MF: 0.8, N: 70 70 trees have length 10 Accuracy: 84.94093538159976 % Ellapsed: 65.4 sec',\n",
    "'Round 38, MD: 15, MF: 0.3, N: 24 24 trees have length 15 Accuracy: 86.78712235397192 % Ellapsed: 14.1 sec',\n",
    "'Round 39, MD: 20, MF: 0.5, N: 7 7 trees have length 20 Accuracy: 88.40648040212945 % Ellapsed: 7.6 sec',\n",
    "'Round 40, MD: 9, MF: 0.12, N: 49 49 trees have length 9 Accuracy: 82.715710223265 % Ellapsed: 14.1 sec',\n",
    "'Round 41, MD: 9, MF: 0.51, N: 60 60 trees have length 9 Accuracy: 84.08002494746924 % Ellapsed: 37.1 sec',\n",
    "'Round 42, MD: 9, MF: 0.24, N: 26 26 trees have length 9 Accuracy: 83.18533148207271 % Ellapsed: 10.2 sec',\n",
    "'Round 43, MD: 11, MF: 0.53, N: 79 79 trees have length 11 Accuracy: 85.64443916455677 % Ellapsed: 53.3 sec',\n",
    "'Round 44, MD: 14, MF: 0.55, N: 23 23 trees have length 14 Accuracy: 86.8814178478353 % Ellapsed: 19.1 sec',\n",
    "'Round 45, MD: 4, MF: 0.24, N: 40 40 trees have length 4 Accuracy: 77.08767995960886 % Ellapsed: 9.0 sec',\n",
    "'Round 46, MD: 11, MF: 0.5, N: 17 17 trees have length 11 Accuracy: 85.54420379706421 % Ellapsed: 12.4 sec',\n",
    "'Round 47, MD: 10, MF: 0.42, N: 66 66 trees have length 10 Accuracy: 84.98808312853144 % Ellapsed: 35.9 sec',\n",
    "'Round 48, MD: 9, MF: 0.4, N: 6 6 trees have length 9 Accuracy: 83.4800977109212 % Ellapsed: 4.4 sec',\n",
    "'Round 49, MD: 12, MF: 0.75, N: 76 76 trees have length 12 Accuracy: 86.15749574927793 % Ellapsed: 71.4 se']"
   ]
  },
  {
   "cell_type": "code",
   "execution_count": 2,
   "metadata": {},
   "outputs": [],
   "source": [
    "accuracy = []\n",
    "for row in data[1:]:\n",
    "    b = row.find('Accuracy') + len('Accuracy') + 2\n",
    "    e = row.find('%')\n",
    "    _accuracy = float(row[b:e])\n",
    "\n",
    "    splits = row.split(', ')\n",
    "\n",
    "    id = int(splits[0].split(' ')[-1])\n",
    "    MD = int(splits[1].split(' ')[-1])\n",
    "    MF = float(splits[2].split(' ')[-1])\n",
    "    N =  int(splits[3].split(' ')[1])\n",
    "\n",
    "    accuracy.append({\n",
    "        'id': id,\n",
    "        'MD': MD,\n",
    "        'MF': MF,\n",
    "        'N': N,\n",
    "        'accuracy': _accuracy\n",
    "    })"
   ]
  },
  {
   "cell_type": "code",
   "execution_count": 8,
   "metadata": {},
   "outputs": [
    {
     "name": "stdout",
     "output_type": "stream",
     "text": [
      "By max Depth:\n",
      "min: {'id': 8, 'MD': 4, 'MF': 0.26, 'N': 30, 'accuracy': 78.15500100235367}\n",
      "max: {'id': 6, 'MD': 20, 'MF': 0.69, 'N': 28, 'accuracy': 88.93958406034912}\n",
      "\n",
      "By (number of) Max Features:\n",
      "min: {'id': 27, 'MD': 4, 'MF': 0.11, 'N': 19, 'accuracy': 75.08482882026685}\n",
      "max: {'id': 37, 'MD': 10, 'MF': 0.8, 'N': 70, 'accuracy': 84.94093538159976}\n",
      "\n",
      "By Num Of Trees:\n",
      "min: {'id': 48, 'MD': 9, 'MF': 0.4, 'N': 6, 'accuracy': 83.4800977109212}\n",
      "max: {'id': 26, 'MD': 16, 'MF': 0.48, 'N': 80, 'accuracy': 87.56524579939561}\n",
      "\n",
      "By accuracy:\n",
      "min: {'id': 27, 'MD': 4, 'MF': 0.11, 'N': 19, 'accuracy': 75.08482882026685}\n",
      "max: {'id': 6, 'MD': 20, 'MF': 0.69, 'N': 28, 'accuracy': 88.93958406034912}\n"
     ]
    }
   ],
   "source": [
    "print('By max Depth:')\n",
    "print('min:', min(accuracy, key=lambda k:k['MD']))\n",
    "print('max:', max(accuracy, key=lambda k:k['MD']))\n",
    "print()\n",
    "\n",
    "print('By (number of) Max Features:')\n",
    "print('min:', min(accuracy, key=lambda k:k['MF']))\n",
    "print('max:', max(accuracy, key=lambda k:k['MF']))\n",
    "print()\n",
    "\n",
    "print('By Num Of Trees:')\n",
    "print('min:', min(accuracy, key=lambda k:k['N']))\n",
    "print('max:', max(accuracy, key=lambda k:k['N']))\n",
    "print()\n",
    "\n",
    "print('By accuracy:')\n",
    "print('min:', min(accuracy, key=lambda k:k['accuracy']))\n",
    "print('max:', max(accuracy, key=lambda k:k['accuracy']))"
   ]
  }
 ],
 "metadata": {
  "kernelspec": {
   "display_name": "Python 3",
   "language": "python",
   "name": "python3"
  },
  "language_info": {
   "codemirror_mode": {
    "name": "ipython",
    "version": 3
   },
   "file_extension": ".py",
   "mimetype": "text/x-python",
   "name": "python",
   "nbconvert_exporter": "python",
   "pygments_lexer": "ipython3",
   "version": "3.10.12"
  }
 },
 "nbformat": 4,
 "nbformat_minor": 2
}
