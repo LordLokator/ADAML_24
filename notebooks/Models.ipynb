{
 "cells": [
  {
   "cell_type": "code",
   "execution_count": 1,
   "metadata": {},
   "outputs": [],
   "source": [
    "%load_ext autoreload\n",
    "%autoreload 2"
   ]
  },
  {
   "cell_type": "markdown",
   "metadata": {},
   "source": [
    "# Loading Data"
   ]
  },
  {
   "cell_type": "code",
   "execution_count": 2,
   "metadata": {},
   "outputs": [],
   "source": [
    "import numpy as np\n",
    "import pandas as pd\n",
    "from prettytable import PrettyTable"
   ]
  },
  {
   "cell_type": "code",
   "execution_count": 3,
   "metadata": {},
   "outputs": [
    {
     "name": "stdout",
     "output_type": "stream",
     "text": [
      "+-----------+--------+-----------+-------------+-------------+--------------+------------------+--------------+------------+----------------+---------------------+------------+----------+----------------+--------+\n",
      "| Attack ID |  Card  | Victim IP | Port number | Attack code | Detect count | Significant flag | Packet speed | Data speed | Avg packet len | Avg source IP count | Start time | End time | Whitelist flag |  Type  |\n",
      "+-----------+--------+-----------+-------------+-------------+--------------+------------------+--------------+------------+----------------+---------------------+------------+----------+----------------+--------+\n",
      "|   int64   | object |   object  |    int64    |    object   |    int64     |      int64       |    int64     |   int64    |     int64      |        int64        |   object   |  object  |     int64      | object |\n",
      "+-----------+--------+-----------+-------------+-------------+--------------+------------------+--------------+------------+----------------+---------------------+------------+----------+----------------+--------+\n"
     ]
    }
   ],
   "source": [
    "path_attacks = '../data/2024-adatelemzo-msc/ddos_data.attacks.anonimized.csv'\n",
    "path_vectors = '../data/2024-adatelemzo-msc/ddos_data.vectors.anonimized.csv'\n",
    "\n",
    "csv_data_attacks = pd.read_csv(path_attacks)\n",
    "csv_data_vectors = pd.read_csv(path_vectors)\n",
    "\n",
    "table = PrettyTable()\n",
    "table.field_names = csv_data_attacks.columns.tolist()\n",
    "table.add_row(csv_data_attacks.dtypes)\n",
    "print(table)"
   ]
  },
  {
   "cell_type": "code",
   "execution_count": 4,
   "metadata": {},
   "outputs": [
    {
     "name": "stdout",
     "output_type": "stream",
     "text": [
      "+-----------+-------+-----------+-------------+-------------+--------------+------------------+--------------+------------+----------------+---------------------+------------+----------+----------------+-------+\n",
      "| Attack ID |  Card | Victim IP | Port number | Attack code | Detect count | Significant flag | Packet speed | Data speed | Avg packet len | Avg source IP count | Start time | End time | Whitelist flag |  Type |\n",
      "+-----------+-------+-----------+-------------+-------------+--------------+------------------+--------------+------------+----------------+---------------------+------------+----------+----------------+-------+\n",
      "|   int64   | int64 |   int64   |    int64    |    int64    |    int64     |      int64       |    int64     |   int64    |     int64      |        int64        |   int64    |  int64   |     int64      | int64 |\n",
      "+-----------+-------+-----------+-------------+-------------+--------------+------------------+--------------+------------+----------------+---------------------+------------+----------+----------------+-------+\n"
     ]
    }
   ],
   "source": [
    "from sklearn.preprocessing import LabelEncoder\n",
    "\n",
    "label_encoder = LabelEncoder()\n",
    "for category, dtype in zip(csv_data_attacks, csv_data_attacks.dtypes):\n",
    "    if isinstance(dtype, np.dtypes.ObjectDType):\n",
    "        csv_data_attacks[category] = label_encoder.fit_transform(csv_data_attacks[category])\n",
    "\n",
    "table = PrettyTable()\n",
    "table.field_names = csv_data_attacks.columns.tolist()\n",
    "table.add_row(csv_data_attacks.dtypes)\n",
    "print(table)"
   ]
  },
  {
   "cell_type": "markdown",
   "metadata": {},
   "source": [
    "***"
   ]
  },
  {
   "cell_type": "markdown",
   "metadata": {},
   "source": [
    "# WanDB init"
   ]
  },
  {
   "cell_type": "code",
   "execution_count": 5,
   "metadata": {},
   "outputs": [],
   "source": [
    "import time, datetime\n",
    "\n",
    "stamp_to_ms = lambda T : time.mktime(datetime.datetime.strptime(T, \"%Y-%m-%dT%H:%M:%S\").timetuple())"
   ]
  },
  {
   "cell_type": "code",
   "execution_count": 6,
   "metadata": {},
   "outputs": [],
   "source": [
    "from sklearn.model_selection import train_test_split\n",
    "\n",
    "# load and process data\n",
    "data = csv_data_attacks.iloc[:, :-1]\n",
    "target = csv_data_attacks.iloc[:, -1]\n",
    "\n",
    "feature_names = csv_data_attacks.columns.to_numpy()\n",
    "labels = np.array(list(set(csv_data_attacks['Type'])))\n",
    "\n",
    "test_size = 0.2\n",
    "X_train, X_test, y_train, y_test = train_test_split(data, target, test_size=test_size)"
   ]
  },
  {
   "cell_type": "code",
   "execution_count": 7,
   "metadata": {},
   "outputs": [
    {
     "data": {
      "text/plain": [
       "sklearn.ensemble._forest.RandomForestClassifier"
      ]
     },
     "execution_count": 7,
     "metadata": {},
     "output_type": "execute_result"
    }
   ],
   "source": [
    "from sklearn.ensemble import RandomForestClassifier\n",
    "type(RandomForestClassifier())"
   ]
  },
  {
   "cell_type": "code",
   "execution_count": 8,
   "metadata": {},
   "outputs": [],
   "source": [
    "from sklearn.ensemble import RandomForestClassifier\n",
    "\n",
    "# train model\n",
    "model = RandomForestClassifier()\n",
    "model.fit(X_train, y_train)\n",
    "model_params = model.get_params()"
   ]
  },
  {
   "cell_type": "code",
   "execution_count": 9,
   "metadata": {},
   "outputs": [
    {
     "name": "stderr",
     "output_type": "stream",
     "text": [
      "Failed to detect the name of this notebook, you can set it manually with the WANDB_NOTEBOOK_NAME environment variable to enable code saving.\n",
      "\u001b[34m\u001b[1mwandb\u001b[0m: Currently logged in as: \u001b[33mlakybalint-wandb\u001b[0m (\u001b[33mdoktorloktor\u001b[0m). Use \u001b[1m`wandb login --relogin`\u001b[0m to force relogin\n"
     ]
    },
    {
     "data": {
      "text/html": [
       "Tracking run with wandb version 0.16.6"
      ],
      "text/plain": [
       "<IPython.core.display.HTML object>"
      ]
     },
     "metadata": {},
     "output_type": "display_data"
    },
    {
     "data": {
      "text/html": [
       "Run data is saved locally in <code>/home/balint/Documents/Egyetem/HAEL/ADAML_24/notebooks/wandb/run-20240419_113501-0upcz7gu</code>"
      ],
      "text/plain": [
       "<IPython.core.display.HTML object>"
      ]
     },
     "metadata": {},
     "output_type": "display_data"
    },
    {
     "data": {
      "text/html": [
       "Syncing run <strong><a href='https://wandb.ai/doktorloktor/Halado_Adatelemzes_Labor/runs/0upcz7gu' target=\"_blank\">woven-leaf-2</a></strong> to <a href='https://wandb.ai/doktorloktor/Halado_Adatelemzes_Labor' target=\"_blank\">Weights & Biases</a> (<a href='https://wandb.me/run' target=\"_blank\">docs</a>)<br/>"
      ],
      "text/plain": [
       "<IPython.core.display.HTML object>"
      ]
     },
     "metadata": {},
     "output_type": "display_data"
    },
    {
     "data": {
      "text/html": [
       " View project at <a href='https://wandb.ai/doktorloktor/Halado_Adatelemzes_Labor' target=\"_blank\">https://wandb.ai/doktorloktor/Halado_Adatelemzes_Labor</a>"
      ],
      "text/plain": [
       "<IPython.core.display.HTML object>"
      ]
     },
     "metadata": {},
     "output_type": "display_data"
    },
    {
     "data": {
      "text/html": [
       " View run at <a href='https://wandb.ai/doktorloktor/Halado_Adatelemzes_Labor/runs/0upcz7gu' target=\"_blank\">https://wandb.ai/doktorloktor/Halado_Adatelemzes_Labor/runs/0upcz7gu</a>"
      ],
      "text/plain": [
       "<IPython.core.display.HTML object>"
      ]
     },
     "metadata": {},
     "output_type": "display_data"
    }
   ],
   "source": [
    "import wandb\n",
    "from wandb.sklearn import plot_precision_recall, plot_feature_importances\n",
    "from wandb.sklearn import plot_class_proportions, plot_learning_curve, plot_roc\n",
    "\n",
    "# start a new wandb run and add your model hyperparameters\n",
    "wandb.init(project='Halado_Adatelemzes_Labor', config=model_params)\n",
    "\n",
    "# Add additional configs to wandb\n",
    "wandb.config.update({\"test_size\" : test_size,\n",
    "                    \"train_len\" : len(X_train),\n",
    "                    \"test_len\" : len(X_test)})"
   ]
  },
  {
   "cell_type": "code",
   "execution_count": 27,
   "metadata": {},
   "outputs": [
    {
     "data": {
      "text/plain": [
       "26954"
      ]
     },
     "execution_count": 27,
     "metadata": {},
     "output_type": "execute_result"
    }
   ],
   "source": [
    "y_pred = model.predict(X_test)\n",
    "y_pred == y_test.to_numpy()\n",
    "\n",
    "matches = np.count_nonzero(y_test == y_pred)\n",
    "matches"
   ]
  },
  {
   "cell_type": "code",
   "execution_count": 28,
   "metadata": {},
   "outputs": [],
   "source": [
    "# get predictions\n",
    "y_pred = model.predict(X_test)\n",
    "y_probas = model.predict_proba(X_test)\n",
    "importances = model.feature_importances_\n",
    "indices = np.argsort(importances)[::-1]\n",
    "\n",
    "# log additional visualisations to wandb\n",
    "plot_class_proportions(y_train, y_test, labels)\n",
    "plot_learning_curve(model, X_train, y_train)\n",
    "plot_roc(y_test, y_probas, labels)\n",
    "plot_precision_recall(y_test, y_probas, labels)\n",
    "plot_feature_importances(model)"
   ]
  },
  {
   "cell_type": "code",
   "execution_count": null,
   "metadata": {},
   "outputs": [],
   "source": [
    "# Finish the wandb run\n",
    "wandb.finish()"
   ]
  }
 ],
 "metadata": {
  "kernelspec": {
   "display_name": "Python 3",
   "language": "python",
   "name": "python3"
  },
  "language_info": {
   "codemirror_mode": {
    "name": "ipython",
    "version": 3
   },
   "file_extension": ".py",
   "mimetype": "text/x-python",
   "name": "python",
   "nbconvert_exporter": "python",
   "pygments_lexer": "ipython3",
   "version": "3.10.12"
  }
 },
 "nbformat": 4,
 "nbformat_minor": 2
}
