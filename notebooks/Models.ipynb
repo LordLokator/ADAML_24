{
 "cells": [
  {
   "cell_type": "code",
   "execution_count": null,
   "metadata": {},
   "outputs": [],
   "source": [
    "%load_ext autoreload\n",
    "%autoreload 2"
   ]
  },
  {
   "cell_type": "markdown",
   "metadata": {},
   "source": [
    "# Loading Data"
   ]
  },
  {
   "cell_type": "code",
   "execution_count": null,
   "metadata": {},
   "outputs": [],
   "source": [
    "from dataloading import get_all_data"
   ]
  },
  {
   "cell_type": "code",
   "execution_count": null,
   "metadata": {},
   "outputs": [],
   "source": [
    "PATH_DATA = '../data/all_vectors.csv'\n",
    "TEST_SIZE = .2\n",
    "UNIQUE_COLUMNS = False\n",
    "\n",
    "(X_train, X_test, y_train, y_test), (info_data, info_label) = get_all_data(\n",
    "    path_all_vectors=PATH_DATA,\n",
    "    test_size=TEST_SIZE,\n",
    "    unique=UNIQUE_COLUMNS\n",
    "    )"
   ]
  },
  {
   "cell_type": "markdown",
   "metadata": {},
   "source": [
    "***"
   ]
  },
  {
   "cell_type": "markdown",
   "metadata": {},
   "source": [
    "# Model"
   ]
  },
  {
   "cell_type": "code",
   "execution_count": null,
   "metadata": {},
   "outputs": [],
   "source": [
    "from sklearn.ensemble import RandomForestClassifier\n",
    "\n",
    "# MODEL INIT\n",
    "model = RandomForestClassifier(\n",
    "    verbose=True,\n",
    "    max_depth=8,\n",
    "    max_features=0.4,\n",
    "    n_estimators=100,\n",
    "    bootstrap=True,\n",
    "    oob_score=False,\n",
    "    )"
   ]
  },
  {
   "cell_type": "code",
   "execution_count": null,
   "metadata": {},
   "outputs": [],
   "source": [
    "# TRAINING\n",
    "\n",
    "_ = model.fit(X_train, y_train)"
   ]
  },
  {
   "cell_type": "code",
   "execution_count": null,
   "metadata": {},
   "outputs": [],
   "source": [
    "from collections import defaultdict\n",
    "\n",
    "count = defaultdict(int)\n",
    "for tree in model.estimators_:\n",
    "    # print(tree.get_depth(), end=', ')\n",
    "    count[tree.get_depth()] += 1\n",
    "count = dict(count)\n",
    "for item, key in count.items():\n",
    "    print(f'{key} trees have length {item}')"
   ]
  },
  {
   "cell_type": "code",
   "execution_count": null,
   "metadata": {},
   "outputs": [],
   "source": [
    "import numpy as np\n",
    "\n",
    "# get predictions\n",
    "y_pred = model.predict(X_test)\n",
    "\n",
    "matches = np.count_nonzero(y_test == y_pred)\n",
    "print(f'Accuracy: {100 * matches / len(y_test)} %')"
   ]
  },
  {
   "cell_type": "code",
   "execution_count": null,
   "metadata": {},
   "outputs": [],
   "source": [
    "from prettytable import PrettyTable\n",
    "\n",
    "table = PrettyTable()\n",
    "table.field_names = [\"Property\", \"Importance (%)\"]\n",
    "\n",
    "importances = model.feature_importances_\n",
    "indices = np.argsort(importances)[::-1]\n",
    "\n",
    "for i in indices:\n",
    "    imp = 100 * importances[i]\n",
    "\n",
    "    if imp > 0:\n",
    "        if int(imp) == 0:\n",
    "            imp = '<1 %'\n",
    "        else:\n",
    "            imp = f'{int(imp)} %'\n",
    "    else:\n",
    "        imp = '0 %'\n",
    "\n",
    "\n",
    "    table.add_row([info_data[i], imp])\n",
    "\n",
    "print(table)"
   ]
  },
  {
   "cell_type": "markdown",
   "metadata": {},
   "source": [
    "# WanDB init"
   ]
  },
  {
   "cell_type": "code",
   "execution_count": null,
   "metadata": {},
   "outputs": [],
   "source": [
    "# assert False, \"WanDB not yet needed.\""
   ]
  },
  {
   "cell_type": "code",
   "execution_count": null,
   "metadata": {},
   "outputs": [],
   "source": [
    "import wandb\n",
    "\n",
    "# start a new wandb run and add your model hyperparameters\n",
    "wandb.init(project='Halado_Adatelemzes_Labor', config=model.get_params())\n",
    "\n",
    "# Add additional configs to wandb\n",
    "wandb.config.update({\"test_size\" : TEST_SIZE,\n",
    "                    \"train_len\" : len(X_train),\n",
    "                    \"test_len\" : len(X_test)})"
   ]
  },
  {
   "cell_type": "code",
   "execution_count": null,
   "metadata": {},
   "outputs": [],
   "source": [
    "from wandb.sklearn import plot_precision_recall, plot_feature_importances\n",
    "from wandb.sklearn import plot_class_proportions, plot_learning_curve, plot_roc\n",
    "\n",
    "y_probas = model.predict_proba(X_test)\n",
    "\n",
    "# log additional visualisations to wandb\n",
    "plot_class_proportions(y_train, y_test, info_data)\n",
    "plot_learning_curve(model, X_train, y_train)\n",
    "plot_roc(y_test, y_probas, info_data)\n",
    "plot_precision_recall(y_test, y_probas, info_data)\n",
    "plot_feature_importances(model)"
   ]
  },
  {
   "cell_type": "code",
   "execution_count": null,
   "metadata": {},
   "outputs": [],
   "source": [
    "# Finish the wandb run\n",
    "wandb.finish()"
   ]
  },
  {
   "cell_type": "code",
   "execution_count": 1,
   "metadata": {},
   "outputs": [
    {
     "name": "stderr",
     "output_type": "stream",
     "text": [
      "[Parallel(n_jobs=1)]: Done  49 tasks      | elapsed:   25.5s\n"
     ]
    },
    {
     "name": "stdout",
     "output_type": "stream",
     "text": [
      "100 trees have length 8\n"
     ]
    },
    {
     "name": "stderr",
     "output_type": "stream",
     "text": [
      "[Parallel(n_jobs=1)]: Done  49 tasks      | elapsed:    0.5s\n",
      "Failed to detect the name of this notebook, you can set it manually with the WANDB_NOTEBOOK_NAME environment variable to enable code saving.\n"
     ]
    },
    {
     "name": "stdout",
     "output_type": "stream",
     "text": [
      "Accuracy: 82.83079527483052 %\n",
      "+------------------+----------------+\n",
      "|     Property     | Importance (%) |\n",
      "+------------------+----------------+\n",
      "|  Avg packet len  |      23 %      |\n",
      "| Source IP count  |      22 %      |\n",
      "|    Data speed    |      20 %      |\n",
      "|   Attack code    |      16 %      |\n",
      "|   Port number    |      14 %      |\n",
      "|   Packet speed   |      2 %       |\n",
      "| Significant flag |      <1 %      |\n",
      "|   Detect count   |      0 %       |\n",
      "|    Attack ID     |      0 %       |\n",
      "|    synthetic     |      0 %       |\n",
      "+------------------+----------------+\n"
     ]
    },
    {
     "name": "stderr",
     "output_type": "stream",
     "text": [
      "\u001b[34m\u001b[1mwandb\u001b[0m: Currently logged in as: \u001b[33mlakybalint-wandb\u001b[0m (\u001b[33mdoktorloktor\u001b[0m). Use \u001b[1m`wandb login --relogin`\u001b[0m to force relogin\n"
     ]
    },
    {
     "data": {
      "text/html": [
       "Tracking run with wandb version 0.16.6"
      ],
      "text/plain": [
       "<IPython.core.display.HTML object>"
      ]
     },
     "metadata": {},
     "output_type": "display_data"
    },
    {
     "data": {
      "text/html": [
       "Run data is saved locally in <code>/home/balint/Documents/Egyetem/HAEL/ADAML_24/notebooks/wandb/run-20240422_182145-unuwrozq</code>"
      ],
      "text/plain": [
       "<IPython.core.display.HTML object>"
      ]
     },
     "metadata": {},
     "output_type": "display_data"
    },
    {
     "data": {
      "text/html": [
       "Syncing run <strong><a href='https://wandb.ai/doktorloktor/Halado_Adatelemzes_Labor/runs/unuwrozq' target=\"_blank\">earthy-jazz-15</a></strong> to <a href='https://wandb.ai/doktorloktor/Halado_Adatelemzes_Labor' target=\"_blank\">Weights & Biases</a> (<a href='https://wandb.me/run' target=\"_blank\">docs</a>)<br/>"
      ],
      "text/plain": [
       "<IPython.core.display.HTML object>"
      ]
     },
     "metadata": {},
     "output_type": "display_data"
    },
    {
     "data": {
      "text/html": [
       " View project at <a href='https://wandb.ai/doktorloktor/Halado_Adatelemzes_Labor' target=\"_blank\">https://wandb.ai/doktorloktor/Halado_Adatelemzes_Labor</a>"
      ],
      "text/plain": [
       "<IPython.core.display.HTML object>"
      ]
     },
     "metadata": {},
     "output_type": "display_data"
    },
    {
     "data": {
      "text/html": [
       " View run at <a href='https://wandb.ai/doktorloktor/Halado_Adatelemzes_Labor/runs/unuwrozq' target=\"_blank\">https://wandb.ai/doktorloktor/Halado_Adatelemzes_Labor/runs/unuwrozq</a>"
      ],
      "text/plain": [
       "<IPython.core.display.HTML object>"
      ]
     },
     "metadata": {},
     "output_type": "display_data"
    },
    {
     "name": "stderr",
     "output_type": "stream",
     "text": [
      "[Parallel(n_jobs=1)]: Done  49 tasks      | elapsed:    0.5s\n",
      "[Parallel(n_jobs=1)]: Done  49 tasks      | elapsed:    1.5s\n",
      "[Parallel(n_jobs=1)]: Done  49 tasks      | elapsed:    0.4s\n",
      "[Parallel(n_jobs=1)]: Done  49 tasks      | elapsed:    0.2s\n",
      "[Parallel(n_jobs=1)]: Done  49 tasks      | elapsed:    5.1s\n",
      "[Parallel(n_jobs=1)]: Done  49 tasks      | elapsed:    0.4s\n",
      "[Parallel(n_jobs=1)]: Done  49 tasks      | elapsed:    0.5s\n",
      "[Parallel(n_jobs=1)]: Done  49 tasks      | elapsed:    8.8s\n",
      "[Parallel(n_jobs=1)]: Done  49 tasks      | elapsed:    0.4s\n",
      "[Parallel(n_jobs=1)]: Done  49 tasks      | elapsed:    0.9s\n",
      "[Parallel(n_jobs=1)]: Done  49 tasks      | elapsed:   13.6s\n",
      "[Parallel(n_jobs=1)]: Done  49 tasks      | elapsed:    0.4s\n",
      "[Parallel(n_jobs=1)]: Done  49 tasks      | elapsed:    1.4s\n"
     ]
    }
   ],
   "source": [
    "import training_wrapper\n",
    "\n",
    "for i in range(50):\n",
    "    training_wrapper.iter()"
   ]
  }
 ],
 "metadata": {
  "kernelspec": {
   "display_name": "Python 3",
   "language": "python",
   "name": "python3"
  },
  "language_info": {
   "codemirror_mode": {
    "name": "ipython",
    "version": 3
   },
   "file_extension": ".py",
   "mimetype": "text/x-python",
   "name": "python",
   "nbconvert_exporter": "python",
   "pygments_lexer": "ipython3",
   "version": "3.10.12"
  }
 },
 "nbformat": 4,
 "nbformat_minor": 2
}
