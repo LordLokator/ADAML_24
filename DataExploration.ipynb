{
 "cells": [
  {
   "cell_type": "code",
   "execution_count": 1,
   "metadata": {},
   "outputs": [],
   "source": [
    "from helper import *"
   ]
  },
  {
   "cell_type": "code",
   "execution_count": 11,
   "metadata": {},
   "outputs": [],
   "source": [
    "path_attacks = \"data/2024-adatelemzo-msc/ddos_data.attacks.anonimized.csv\"\n",
    "path_vectors = \"data/2024-adatelemzo-msc/ddos_data.vectors.anonimized.csv\"\n",
    "\n",
    "csv_data_attacks = read_csv(path_attacks)\n",
    "csv_data_vectors = read_csv(path_vectors)\n",
    "\n",
    "headers_data_attacks = list(csv_data_attacks[0].keys())\n",
    "headers_data_vectors = list(csv_data_vectors[0].keys())"
   ]
  }
 ],
 "metadata": {
  "kernelspec": {
   "display_name": "Python 3",
   "language": "python",
   "name": "python3"
  },
  "language_info": {
   "codemirror_mode": {
    "name": "ipython",
    "version": 3
   },
   "file_extension": ".py",
   "mimetype": "text/x-python",
   "name": "python",
   "nbconvert_exporter": "python",
   "pygments_lexer": "ipython3",
   "version": "3.10.7"
  }
 },
 "nbformat": 4,
 "nbformat_minor": 2
}
