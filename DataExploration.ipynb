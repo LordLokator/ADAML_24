{
 "cells": [
  {
   "cell_type": "code",
   "execution_count": null,
   "metadata": {},
   "outputs": [],
   "source": [
    "from helper import *"
   ]
  },
  {
   "cell_type": "code",
   "execution_count": 2,
   "metadata": {},
   "outputs": [],
   "source": [
    "path_attacks = \"data/2024-adatelemzo-msc/ddos_data.attacks.anonimized.csv\"\n",
    "path_vectors = \"data/2024-adatelemzo-msc/ddos_data.vectors.anonimized.csv\"\n",
    "\n",
    "csv_data_attacks = read_csv(path_attacks)\n",
    "csv_data_vectors = read_csv(path_vectors)\n",
    "\n",
    "headers_data_attacks = list(csv_data_attacks[0].keys())\n",
    "headers_data_vectors = list(csv_data_vectors[0].keys())"
   ]
  },
  {
   "cell_type": "code",
   "execution_count": 7,
   "metadata": {},
   "outputs": [
    {
     "name": "stdout",
     "output_type": "stream",
     "text": [
      " 8 different values for key:\t'Attack ID'\n",
      " 4 different values for key:\t'Card'\n",
      " 8 different values for key:\t'Victim IP'\n",
      "10 different values for key:\t'Port number'\n",
      " 9 different values for key:\t'Attack code'\n",
      " 8 different values for key:\t'Detect count'\n",
      "10 different values for key:\t'Significant flag'\n",
      "10 different values for key:\t'Packet speed'\n",
      " 8 different values for key:\t'Data speed'\n",
      "12 different values for key:\t'Avg packet len'\n",
      "14 different values for key:\t'Avg source IP count'\n",
      " 8 different values for key:\t'Start time'\n",
      " 8 different values for key:\t'End time'\n",
      "11 different values for key:\t'Whitelist flag'\n",
      " 4 different values for key:\t'Type'\n",
      "\n",
      " 8 different values for key:\t'Attack ID'\n",
      " 8 different values for key:\t'Detect count'\n",
      " 4 different values for key:\t'Card'\n",
      " 8 different values for key:\t'Victim IP'\n",
      "10 different values for key:\t'Port number'\n",
      " 9 different values for key:\t'Attack code'\n",
      "10 different values for key:\t'Significant flag'\n",
      "10 different values for key:\t'Packet speed'\n",
      " 8 different values for key:\t'Data speed'\n",
      "12 different values for key:\t'Avg packet len'\n",
      "11 different values for key:\t'Source IP count'\n",
      " 4 different values for key:\t'Time'\n"
     ]
    }
   ],
   "source": [
    "occurance_stats_attacks = generate_transposed_dict(csv_data_attacks)\n",
    "occurance_stats_vectors = generate_transposed_dict(csv_data_vectors)\n",
    "\n",
    "print('\\nData on attacks:')\n",
    "[print(\"{:2} different values for key:\\t\\'{}\\'\".format(len(set(key)), key)) for key in occurance_stats_attacks]\n",
    "print('\\nData on vectors:')\n",
    "[print(\"{:2} different values for key:\\t\\'{}\\'\".format(len(set(key)), key)) for key in occurance_stats_vectors]\n",
    "\n",
    "pass"
   ]
  },
  {
   "cell_type": "code",
   "execution_count": null,
   "metadata": {},
   "outputs": [],
   "source": []
  }
 ],
 "metadata": {
  "kernelspec": {
   "display_name": "Python 3",
   "language": "python",
   "name": "python3"
  },
  "language_info": {
   "codemirror_mode": {
    "name": "ipython",
    "version": 3
   },
   "file_extension": ".py",
   "mimetype": "text/x-python",
   "name": "python",
   "nbconvert_exporter": "python",
   "pygments_lexer": "ipython3",
   "version": "3.10.7"
  }
 },
 "nbformat": 4,
 "nbformat_minor": 2
}
